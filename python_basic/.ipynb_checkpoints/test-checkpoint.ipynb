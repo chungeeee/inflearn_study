{
 "cells": [
  {
   "cell_type": "code",
   "execution_count": 1,
   "id": "bd6f844e-9f01-4394-94cf-492714ea4b5c",
   "metadata": {},
   "outputs": [
    {
     "name": "stdout",
     "output_type": "stream",
     "text": [
      "hello\n"
     ]
    }
   ],
   "source": [
    "a=1\n",
    "print(\"hello\")"
   ]
  },
  {
   "cell_type": "code",
   "execution_count": 4,
   "id": "037d0715-9a94-4925-ac9b-30824e206516",
   "metadata": {},
   "outputs": [
    {
     "name": "stdout",
     "output_type": "stream",
     "text": [
      "1\n"
     ]
    }
   ],
   "source": [
    "print(a)"
   ]
  },
  {
   "cell_type": "code",
   "execution_count": null,
   "id": "57b8d272-a158-495e-8a83-b7bac1e90b1a",
   "metadata": {},
   "outputs": [],
   "source": [
    "radius = 10\n",
    "pi = 3.1415\n",
    "\n",
    "print(\"지름은?\", radius * 2)\n",
    "print(\"둘레는?\", pi * radius * 2)\n",
    "print(\"넓이는?\", pi * (radius ** 2))"
   ]
  },
  {
   "cell_type": "code",
   "execution_count": 8,
   "id": "d4fd7533-23d2-438f-aec8-8fecf91c9bac",
   "metadata": {},
   "outputs": [
    {
     "name": "stdin",
     "output_type": "stream",
     "text": [
      "What is your name? Dave\n"
     ]
    }
   ],
   "source": [
    "name = input(\"What is your name?\")"
   ]
  },
  {
   "cell_type": "code",
   "execution_count": 9,
   "id": "21295130-bc07-4a71-a3bc-c087dcad9e51",
   "metadata": {},
   "outputs": [
    {
     "name": "stdout",
     "output_type": "stream",
     "text": [
      "Dave\n"
     ]
    }
   ],
   "source": [
    "print(name)"
   ]
  },
  {
   "cell_type": "code",
   "execution_count": 21,
   "id": "3c5b0206-a71d-4822-bb76-2b5e774442a6",
   "metadata": {
    "editable": true,
    "slideshow": {
     "slide_type": ""
    },
    "tags": []
   },
   "outputs": [
    {
     "name": "stdout",
     "output_type": "stream",
     "text": [
      "112215sdagadsdasf\n",
      "asdfassdafsf\n",
      "ada3423tgwe\n",
      "\n",
      "3\n",
      "43\n",
      "2\n",
      "992295sdagadsdasf\n",
      "asdfassdafsf\n",
      "ada3423tgwe\n",
      "\n",
      "2\n",
      "2215sda\n",
      "2215sdagadsdasf\n",
      "asdfassdafsf\n",
      "ada3423tgwe\n",
      "\n"
     ]
    }
   ],
   "source": [
    "aaa = \"\"\"112215sdagadsdasf\n",
    "asdfassdafsf\n",
    "ada3423tgwe\n",
    "\"\"\"\n",
    "print(aaa)\n",
    "\n",
    "print(aaa.count(\"1\"))\n",
    "print(len(aaa))\n",
    "print(aaa.find(\"2\"))\n",
    "\n",
    "print(aaa.replace(\"1\", \"9\"))\n",
    "\n",
    "print(aaa[2])\n",
    "print(aaa[2:9])\n",
    "\n",
    "print(aaa.strip(\"1\"))"
   ]
  },
  {
   "cell_type": "code",
   "execution_count": 25,
   "id": "af5c41a4-f5a7-4e86-90d1-2fb397c12bec",
   "metadata": {},
   "outputs": [
    {
     "name": "stdout",
     "output_type": "stream",
     "text": [
      "I have a pen, I have an apple.\n",
      "I have a pen, I have an apple.\n"
     ]
    }
   ],
   "source": [
    "print(\"I have a {}, I have an {}.\".format(\"pen\", \"apple\"))\n",
    "print(\"I have a %s, I have an %s.\" %(\"pen\", \"apple\"))"
   ]
  },
  {
   "cell_type": "code",
   "execution_count": 23,
   "id": "9fba1859-526f-44df-af9c-0aa17bdada58",
   "metadata": {},
   "outputs": [
    {
     "name": "stdout",
     "output_type": "stream",
     "text": [
      "0.09\n"
     ]
    }
   ],
   "source": [
    "interest = 0.087\n",
    "print(format(interest, \".2f\"))"
   ]
  },
  {
   "cell_type": "code",
   "execution_count": null,
   "id": "f3c52b8f-ab22-4306-a63d-2f6daded96e0",
   "metadata": {},
   "outputs": [],
   "source": []
  }
 ],
 "metadata": {
  "kernelspec": {
   "display_name": "Python 3 (ipykernel)",
   "language": "python",
   "name": "python3"
  },
  "language_info": {
   "codemirror_mode": {
    "name": "ipython",
    "version": 3
   },
   "file_extension": ".py",
   "mimetype": "text/x-python",
   "name": "python",
   "nbconvert_exporter": "python",
   "pygments_lexer": "ipython3",
   "version": "3.12.7"
  }
 },
 "nbformat": 4,
 "nbformat_minor": 5
}
