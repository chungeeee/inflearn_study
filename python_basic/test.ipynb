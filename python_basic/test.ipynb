{
 "cells": [
  {
   "cell_type": "code",
   "execution_count": 1,
   "id": "bd6f844e-9f01-4394-94cf-492714ea4b5c",
   "metadata": {},
   "outputs": [
    {
     "name": "stdout",
     "output_type": "stream",
     "text": [
      "hello\n"
     ]
    }
   ],
   "source": [
    "a=1\n",
    "print(\"hello\")"
   ]
  },
  {
   "cell_type": "code",
   "execution_count": 4,
   "id": "037d0715-9a94-4925-ac9b-30824e206516",
   "metadata": {},
   "outputs": [
    {
     "name": "stdout",
     "output_type": "stream",
     "text": [
      "1\n"
     ]
    }
   ],
   "source": [
    "print(a)"
   ]
  },
  {
   "cell_type": "code",
   "execution_count": null,
   "id": "57b8d272-a158-495e-8a83-b7bac1e90b1a",
   "metadata": {},
   "outputs": [],
   "source": [
    "radius = 10\n",
    "pi = 3.1415\n",
    "\n",
    "print(\"지름은?\", radius * 2)\n",
    "print(\"둘레는?\", pi * radius * 2)\n",
    "print(\"넓이는?\", pi * (radius ** 2))"
   ]
  },
  {
   "cell_type": "code",
   "execution_count": 8,
   "id": "d4fd7533-23d2-438f-aec8-8fecf91c9bac",
   "metadata": {},
   "outputs": [
    {
     "name": "stdin",
     "output_type": "stream",
     "text": [
      "What is your name? Dave\n"
     ]
    }
   ],
   "source": [
    "name = input(\"What is your name?\")"
   ]
  },
  {
   "cell_type": "code",
   "execution_count": 9,
   "id": "21295130-bc07-4a71-a3bc-c087dcad9e51",
   "metadata": {},
   "outputs": [
    {
     "name": "stdout",
     "output_type": "stream",
     "text": [
      "Dave\n"
     ]
    }
   ],
   "source": [
    "print(name)"
   ]
  },
  {
   "cell_type": "code",
   "execution_count": 21,
   "id": "3c5b0206-a71d-4822-bb76-2b5e774442a6",
   "metadata": {
    "editable": true,
    "slideshow": {
     "slide_type": ""
    },
    "tags": []
   },
   "outputs": [
    {
     "name": "stdout",
     "output_type": "stream",
     "text": [
      "112215sdagadsdasf\n",
      "asdfassdafsf\n",
      "ada3423tgwe\n",
      "\n",
      "3\n",
      "43\n",
      "2\n",
      "992295sdagadsdasf\n",
      "asdfassdafsf\n",
      "ada3423tgwe\n",
      "\n",
      "2\n",
      "2215sda\n",
      "2215sdagadsdasf\n",
      "asdfassdafsf\n",
      "ada3423tgwe\n",
      "\n"
     ]
    }
   ],
   "source": [
    "aaa = \"\"\"112215sdagadsdasf\n",
    "asdfassdafsf\n",
    "ada3423tgwe\n",
    "\"\"\"\n",
    "print(aaa)\n",
    "\n",
    "print(aaa.count(\"1\"))\n",
    "print(len(aaa))\n",
    "print(aaa.find(\"2\"))\n",
    "\n",
    "print(aaa.replace(\"1\", \"9\"))\n",
    "\n",
    "print(aaa[2])\n",
    "print(aaa[2:9])\n",
    "\n",
    "print(aaa.strip(\"1\"))"
   ]
  },
  {
   "cell_type": "code",
   "execution_count": 25,
   "id": "af5c41a4-f5a7-4e86-90d1-2fb397c12bec",
   "metadata": {},
   "outputs": [
    {
     "name": "stdout",
     "output_type": "stream",
     "text": [
      "I have a pen, I have an apple.\n",
      "I have a pen, I have an apple.\n"
     ]
    }
   ],
   "source": [
    "print(\"I have a {}, I have an {}.\".format(\"pen\", \"apple\"))\n",
    "print(\"I have a %s, I have an %s.\" %(\"pen\", \"apple\"))"
   ]
  },
  {
   "cell_type": "code",
   "execution_count": 23,
   "id": "9fba1859-526f-44df-af9c-0aa17bdada58",
   "metadata": {},
   "outputs": [
    {
     "name": "stdout",
     "output_type": "stream",
     "text": [
      "0.09\n"
     ]
    }
   ],
   "source": [
    "interest = 0.087\n",
    "print(format(interest, \".2f\"))"
   ]
  },
  {
   "cell_type": "markdown",
   "id": "503938bd-49ec-4aa8-a271-ed9d87dc00cb",
   "metadata": {},
   "source": [
    "### 데이터 구조 - 튜플\n",
    "* 선언 + 입력 : 변수명 = (1,2,3,4)\n",
    "* 읽기 : 변수명[인덱스번호]\n",
    "* 추가 : 불가\n",
    "* 삭제 : 불가\n",
    "* 수정 : 불가"
   ]
  },
  {
   "cell_type": "code",
   "execution_count": 6,
   "id": "bd91ceaa-b2ee-4ff9-ad5e-46f917b03f09",
   "metadata": {},
   "outputs": [
    {
     "name": "stdout",
     "output_type": "stream",
     "text": [
      "1\n"
     ]
    }
   ],
   "source": [
    "x = 1\n",
    "y = 2\n",
    "(x,y)=(y,x)\n",
    "print(y)"
   ]
  },
  {
   "cell_type": "code",
   "execution_count": 12,
   "id": "0515b9b9-1ad2-4962-a245-d5a1de0bb84f",
   "metadata": {},
   "outputs": [
    {
     "name": "stdout",
     "output_type": "stream",
     "text": [
      "<class 'tuple'>\n",
      "<class 'list'>\n"
     ]
    }
   ],
   "source": [
    "data1 = (1,2,3)\n",
    "print(type(data1))\n",
    "print(type(list(data1)))"
   ]
  },
  {
   "cell_type": "markdown",
   "id": "3d5590fb-d29b-4d47-9fb6-2fc1e05261a8",
   "metadata": {},
   "source": [
    "### 데이터 구조 - 딕셔너리 또는 사전\n",
    "* 선언 + 입력 : 변수명 = {} 또는 dict(), 초기값과 함께 선언, 변수명 = (키:값, 키:값)\n",
    "* 읽기 : 변수명[키]\n",
    "* 추가 : 변수명[새로운키] = 새로운 값\n",
    "* 삭제 : 변수명[기존에 있는 삭제할키] ex) del 변수명[삭제할키]\n",
    "* 수정 : 변수명[수정할키]"
   ]
  },
  {
   "cell_type": "code",
   "execution_count": 14,
   "id": "2704c977-b427-4abd-b9de-bd430227e489",
   "metadata": {},
   "outputs": [],
   "source": [
    "data_dict = {'한국':'KR', '일본':'JP', '중국':'CH'}"
   ]
  },
  {
   "cell_type": "code",
   "execution_count": 15,
   "id": "5799b3e8-95f0-4952-a3aa-72d70a194854",
   "metadata": {},
   "outputs": [
    {
     "name": "stdout",
     "output_type": "stream",
     "text": [
      "한국\n",
      "일본\n",
      "중국\n"
     ]
    }
   ],
   "source": [
    "for key in data_dict.keys():\n",
    "    print(key)"
   ]
  },
  {
   "cell_type": "code",
   "execution_count": 16,
   "id": "23a6f9af-118f-4e73-8449-b395efb1cef7",
   "metadata": {},
   "outputs": [
    {
     "name": "stdout",
     "output_type": "stream",
     "text": [
      "KR\n",
      "JP\n",
      "CH\n"
     ]
    }
   ],
   "source": [
    "for key in data_dict.values():\n",
    "    print(key)"
   ]
  },
  {
   "cell_type": "code",
   "execution_count": 19,
   "id": "e7f1a979-d5da-4105-b1a1-2edcd14ce429",
   "metadata": {},
   "outputs": [
    {
     "name": "stdout",
     "output_type": "stream",
     "text": [
      "('한국', 'KR')\n",
      "('일본', 'JP')\n",
      "('중국', 'CH')\n"
     ]
    }
   ],
   "source": [
    "for data in data_dict.items():\n",
    "    print(data)"
   ]
  },
  {
   "cell_type": "markdown",
   "id": "77f074c7-2d85-445b-9273-0c304b38dd11",
   "metadata": {},
   "source": [
    "### 데이터 구조 - 집합 또는 set\n",
    "* 선언 + 입력 : 변수명 = set(), 변수명 = {데이터1,데이터2, ...}, 변수명 = set(데이터1), 변수명 = set({데이터1,데이터2, ...})\n",
    "* 읽기 : \n",
    "* 추가 : \n",
    "* 삭제 : \n",
    "* 수정 : "
   ]
  },
  {
   "cell_type": "code",
   "execution_count": 20,
   "id": "31b183ed-7132-4cfc-9ed2-749e2f040e97",
   "metadata": {},
   "outputs": [
    {
     "data": {
      "text/plain": [
       "False"
      ]
     },
     "execution_count": 20,
     "metadata": {},
     "output_type": "execute_result"
    }
   ],
   "source": [
    "data_set = {'apple', 'dell', 'samsung', 'lg'}\n",
    "'motorola' in data_set"
   ]
  },
  {
   "cell_type": "code",
   "execution_count": 22,
   "id": "ce253198-0b44-4ee3-b22d-992aab7345eb",
   "metadata": {},
   "outputs": [
    {
     "name": "stdout",
     "output_type": "stream",
     "text": [
      "{'samsung', 'lg', 'dell', 'apple'}\n"
     ]
    }
   ],
   "source": [
    "if 'apple' in data_set:\n",
    "    print(data_set)"
   ]
  },
  {
   "cell_type": "code",
   "execution_count": 24,
   "id": "597bfb51-f6f9-44b1-9d2d-33de0c282ba6",
   "metadata": {},
   "outputs": [
    {
     "name": "stdout",
     "output_type": "stream",
     "text": [
      "{'samsung', 'lg'}\n",
      "{'samsung', 'apple', 'xaiomi', 'lg'}\n",
      "{'apple'}\n"
     ]
    }
   ],
   "source": [
    "data1 = {'apple', 'samsung', 'lg'}\n",
    "data2 = {'samsung', 'xaiomi', 'lg'}\n",
    "print(data1 & data2)  # 교집합\n",
    "print(data1 | data2)  # 합집합\n",
    "print(data1 - data2)  # 차집합"
   ]
  },
  {
   "cell_type": "code",
   "execution_count": 27,
   "id": "e7d45695-6fd4-4b58-a9ec-31969cd6efe9",
   "metadata": {},
   "outputs": [
    {
     "name": "stdout",
     "output_type": "stream",
     "text": [
      "{'samsung', 'lg', 'dell', 'apple'}\n",
      "['samsung', 'lg', 'dell', 'apple']\n"
     ]
    }
   ],
   "source": [
    "data_list = ['apple', 'dell', 'samsung', 'lg']\n",
    "data = set(data_list)\n",
    "print(data)\n",
    "print(list(data))"
   ]
  },
  {
   "cell_type": "code",
   "execution_count": null,
   "id": "1183abe9-4298-4100-ae33-55ba81258607",
   "metadata": {},
   "outputs": [],
   "source": []
  }
 ],
 "metadata": {
  "kernelspec": {
   "display_name": "Python 3 (ipykernel)",
   "language": "python",
   "name": "python3"
  },
  "language_info": {
   "codemirror_mode": {
    "name": "ipython",
    "version": 3
   },
   "file_extension": ".py",
   "mimetype": "text/x-python",
   "name": "python",
   "nbconvert_exporter": "python",
   "pygments_lexer": "ipython3",
   "version": "3.12.7"
  }
 },
 "nbformat": 4,
 "nbformat_minor": 5
}
