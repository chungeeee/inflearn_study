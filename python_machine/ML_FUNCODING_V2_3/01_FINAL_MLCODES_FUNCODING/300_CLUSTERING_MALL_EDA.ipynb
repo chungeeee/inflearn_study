{
 "cells": [
  {
   "cell_type": "markdown",
   "metadata": {},
   "source": [
    "<div class=\"alert alert-block\" style=\"border: 2px solid #1976D2;background-color:#E3F2FD;padding:5px;font-size:0.9em;\">\n",
    "본 자료는 저작권법 제25조 2항에 의해 보호를 받습니다. 본 컨텐츠 및 컨텐츠 일부 문구등을 외부에 공개, 게시하지 말아주세요.<br>\n",
    "본 강의를 잘 정리하면, 데이터 분석과 데이터 과학(머신러닝, 인공지능) 모두 가능합니다!<br>\n",
    "<b><a href=\"https://school.fun-coding.org/\">잔재미코딩</a> 에서 본 강의 기반 최적화된 로드맵도 확인하실 수 있습니다</b>\n",
    "</div>"
   ]
  },
  {
   "cell_type": "markdown",
   "metadata": {},
   "source": [
    "### Mall Customers Clustering Analysis\n",
    "- https://www.kaggle.com/vjchoudhary7/customer-segmentation-tutorial-in-python"
   ]
  },
  {
   "cell_type": "code",
   "execution_count": null,
   "metadata": {
    "_kg_hide-input": true,
    "id": "fYCzevADcO5h"
   },
   "outputs": [],
   "source": [
    "import numpy as np\n",
    "import pandas as pd\n",
    "import missingno"
   ]
  },
  {
   "cell_type": "code",
   "execution_count": null,
   "metadata": {
    "_kg_hide-input": true,
    "id": "dnV20cUxcohO",
    "outputId": "82b49b9c-58b5-4be5-b585-165563ed304c"
   },
   "outputs": [],
   "source": [
    "df = pd.read_csv('mall/Mall_Customers.csv')\n",
    "df.head()"
   ]
  },
  {
   "cell_type": "code",
   "execution_count": null,
   "metadata": {},
   "outputs": [],
   "source": [
    "df.describe()"
   ]
  },
  {
   "cell_type": "code",
   "execution_count": null,
   "metadata": {
    "id": "QQVxAt8ZdeZB",
    "outputId": "189bcfaa-3bc6-4ad1-8659-178a6444c161"
   },
   "outputs": [],
   "source": [
    "missingno.matrix(df)"
   ]
  },
  {
   "cell_type": "markdown",
   "metadata": {},
   "source": [
    "### EDA"
   ]
  },
  {
   "cell_type": "markdown",
   "metadata": {},
   "source": [
    "### Gender"
   ]
  },
  {
   "cell_type": "code",
   "execution_count": null,
   "metadata": {},
   "outputs": [],
   "source": [
    "import plotly.graph_objects as go\n",
    "\n",
    "# Gender 별 데이터 수 집계\n",
    "gender_counts = df['Gender'].value_counts()\n",
    "\n",
    "# 파이 차트 생성: 각 성별의 비율을 시각화\n",
    "fig = go.Figure(data=[go.Pie(labels=gender_counts.index, values=gender_counts.values)])\n",
    "fig.update_layout(title_text='Gender 분포')\n",
    "\n",
    "# 차트 출력\n",
    "fig.show()"
   ]
  },
  {
   "cell_type": "markdown",
   "metadata": {},
   "source": [
    "### Age"
   ]
  },
  {
   "cell_type": "code",
   "execution_count": null,
   "metadata": {},
   "outputs": [],
   "source": [
    "import plotly.graph_objects as go\n",
    "\n",
    "# Age 데이터를 10 구간으로 나눈 히스토그램 생성\n",
    "fig = go.Figure(data=[go.Histogram(x=df['Age'], nbinsx=10)])\n",
    "fig.update_layout(\n",
    "    title='Age 분포',\n",
    "    xaxis_title='Age',\n",
    "    yaxis_title='Count'\n",
    ")\n",
    "fig.show()\n"
   ]
  },
  {
   "cell_type": "code",
   "execution_count": null,
   "metadata": {},
   "outputs": [],
   "source": [
    "df_age = df.groupby('Age').count()"
   ]
  },
  {
   "cell_type": "code",
   "execution_count": null,
   "metadata": {},
   "outputs": [],
   "source": [
    "df_age.head()"
   ]
  },
  {
   "cell_type": "code",
   "execution_count": null,
   "metadata": {},
   "outputs": [],
   "source": [
    "import plotly.graph_objects as go\n",
    "fig = go.Figure()\n",
    "fig.add_trace(\n",
    "    go.Bar(    \n",
    "        x=df_age.index, y=df_age['CustomerID'], name='count'\n",
    "    )\n",
    ")\n",
    "fig.update_layout(\n",
    "    {\n",
    "        \"xaxis\": { \"dtick\": \"1\" },\n",
    "        \"yaxis\": { \"dtick\": \"1\" },\n",
    "        \"template\":\"ggplot2\"\n",
    "    }\n",
    ")\n",
    "fig.show()"
   ]
  },
  {
   "cell_type": "markdown",
   "metadata": {},
   "source": [
    "### Annual Income (k$)"
   ]
  },
  {
   "cell_type": "code",
   "execution_count": null,
   "metadata": {},
   "outputs": [],
   "source": [
    "import plotly.graph_objects as go\n",
    "\n",
    "# Annual Income (k$) 데이터를 20 구간으로 나눈 히스토그램 생성\n",
    "fig = go.Figure(data=[go.Histogram(x=df['Annual Income (k$)'], nbinsx=20)])\n",
    "fig.update_layout(\n",
    "    title='Annual Income (k$) 분포',\n",
    "    xaxis_title='Annual Income (k$)',\n",
    "    yaxis_title='Count'\n",
    ")\n",
    "fig.show()\n"
   ]
  },
  {
   "cell_type": "markdown",
   "metadata": {},
   "source": [
    "### Spending Score (1-100)"
   ]
  },
  {
   "cell_type": "code",
   "execution_count": null,
   "metadata": {},
   "outputs": [],
   "source": [
    "import plotly.graph_objects as go\n",
    "\n",
    "# df 데이터프레임이 있다고 가정하고, Spending Score (1-100)를 20 구간으로 나눈 히스토그램 생성\n",
    "fig = go.Figure(data=[go.Histogram(x=df['Spending Score (1-100)'], nbinsx=20)])\n",
    "fig.update_layout(\n",
    "    title='Spending Score (1-100) 분포',\n",
    "    xaxis_title='Spending Score (1-100)',\n",
    "    yaxis_title='Count'\n",
    ")\n",
    "fig.show()\n"
   ]
  },
  {
   "cell_type": "code",
   "execution_count": null,
   "metadata": {},
   "outputs": [],
   "source": [
    "fig = go.Figure(data=go.Splom(\n",
    "                dimensions=[dict(label='CustomerID',\n",
    "                                 values=df['CustomerID']),\n",
    "                            dict(label='Gender',\n",
    "                                 values=df['Gender']),\n",
    "                            dict(label='Age',\n",
    "                                 values=df['Age']),\n",
    "                            dict(label='Annual Income',\n",
    "                                 values=df['Annual Income (k$)']),\n",
    "                            dict(label='Spending Score',\n",
    "                                 values=df['Spending Score (1-100)'])\n",
    "                           ]\n",
    "                ))\n",
    "fig.update_layout(\n",
    "    width=1000, height=1000,\n",
    ")\n",
    "fig.show()"
   ]
  },
  {
   "cell_type": "markdown",
   "metadata": {},
   "source": [
    "### 상관관계"
   ]
  },
  {
   "cell_type": "code",
   "execution_count": null,
   "metadata": {},
   "outputs": [],
   "source": [
    "import plotly.graph_objects as go\n",
    "import numpy as np\n",
    "\n",
    "# df 데이터프레임이 있다고 가정하고, 숫자형 컬럼만 선택하여 numeric_df 생성\n",
    "numeric_df = df.select_dtypes(include=[np.number])\n",
    "\n",
    "# 예시로 numeric_df의 상관계수 행렬을 계산하여 히트맵으로 시각화합니다.\n",
    "corr_matrix = numeric_df.corr()\n",
    "\n",
    "# Plotly의 graph_objects를 사용하여 히트맵 생성\n",
    "fig = go.Figure(data=go.Heatmap(\n",
    "    z=corr_matrix.values,       # 상관계수 행렬의 값\n",
    "    x=corr_matrix.columns,      # 열 이름\n",
    "    y=corr_matrix.index,        # 행 이름\n",
    "    colorscale='Viridis'        # 색상 스케일\n",
    "))\n",
    "\n",
    "# 레이아웃 업데이트: 제목 추가\n",
    "fig.update_layout(title='Numeric Data Correlation Heatmap')\n",
    "\n",
    "# 차트 출력\n",
    "fig.show()\n"
   ]
  },
  {
   "cell_type": "markdown",
   "metadata": {},
   "source": [
    "### Spending Score (1-100)"
   ]
  },
  {
   "cell_type": "code",
   "execution_count": null,
   "metadata": {},
   "outputs": [],
   "source": [
    "import plotly.graph_objects as go\n",
    "import pandas as pd\n",
    "\n",
    "fig = go.Figure()\n",
    "fig.add_trace(go.Violin(\n",
    "    y=df[df['Gender'] == 'Male']['Spending Score (1-100)'],\n",
    "    meanline_visible=True,\n",
    "    name='Male'  # Male 레전드 이름 지정\n",
    "))\n",
    "fig.add_trace(go.Violin(\n",
    "    y=df[df['Gender'] == 'Female']['Spending Score (1-100)'],\n",
    "    meanline_visible=True,\n",
    "    name='Female'  # Female 레전드 이름 지정\n",
    "))\n",
    "\n",
    "fig.show()"
   ]
  },
  {
   "cell_type": "markdown",
   "metadata": {},
   "source": [
    "### Annual Income (k$)"
   ]
  },
  {
   "cell_type": "code",
   "execution_count": null,
   "metadata": {},
   "outputs": [],
   "source": [
    "import plotly.graph_objects as go\n",
    "import pandas as pd\n",
    "\n",
    "fig = go.Figure()\n",
    "fig.add_trace(go.Violin(\n",
    "    y=df[df['Gender'] == 'Male']['Annual Income (k$)'], \n",
    "    meanline_visible=True,\n",
    "    name='Male'  # Male 레전드 이름 지정\n",
    "))\n",
    "fig.add_trace(go.Violin(\n",
    "    y=df[df['Gender'] == 'Female']['Annual Income (k$)'], \n",
    "    meanline_visible=True,\n",
    "    name='Female'  # Female 레전드 이름 지정\n",
    "))\n",
    "\n",
    "fig.show()\n"
   ]
  },
  {
   "cell_type": "markdown",
   "metadata": {},
   "source": [
    "<div class=\"alert alert-block\" style=\"border: 2px solid #1976D2;background-color:#E3F2FD;padding:5px;font-size:0.9em;\">\n",
    "본 자료는 저작권법 제25조 2항에 의해 보호를 받습니다. 본 컨텐츠 및 컨텐츠 일부 문구등을 외부에 공개, 게시하지 말아주세요.<br>\n",
    "본 강의를 잘 정리하면, 데이터 분석과 데이터 과학(머신러닝, 인공지능) 모두 가능합니다!<br>\n",
    "<b><a href=\"https://school.fun-coding.org/\">잔재미코딩</a> 에서 본 강의 기반 최적화된 로드맵도 확인하실 수 있습니다</b>\n",
    "</div>"
   ]
  }
 ],
 "metadata": {
  "kernelspec": {
   "display_name": "Python 3 (ipykernel)",
   "language": "python",
   "name": "python3"
  },
  "language_info": {
   "codemirror_mode": {
    "name": "ipython",
    "version": 3
   },
   "file_extension": ".py",
   "mimetype": "text/x-python",
   "name": "python",
   "nbconvert_exporter": "python",
   "pygments_lexer": "ipython3",
   "version": "3.12.7"
  }
 },
 "nbformat": 4,
 "nbformat_minor": 4
}
