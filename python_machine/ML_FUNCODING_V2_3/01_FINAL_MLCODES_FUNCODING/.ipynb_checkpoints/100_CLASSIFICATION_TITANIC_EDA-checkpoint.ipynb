{
 "cells": [
  {
   "cell_type": "markdown",
   "metadata": {},
   "source": [
    "<div class=\"alert alert-block\" style=\"border: 2px solid #1976D2;background-color:#E3F2FD;padding:5px;font-size:0.9em;\">\n",
    "본 자료는 저작권법 제25조 2항에 의해 보호를 받습니다. 본 컨텐츠 및 컨텐츠 일부 문구등을 외부에 공개, 게시하지 말아주세요.<br>\n",
    "본 강의를 잘 정리하면, 데이터 분석과 데이터 과학(머신러닝, 인공지능) 모두 가능합니다!<br>\n",
    "<b><a href=\"https://school.fun-coding.org/\">잔재미코딩</a> 에서 본 강의 기반 최적화된 로드맵도 확인하실 수 있습니다</b>\n",
    "</div>"
   ]
  },
  {
   "cell_type": "markdown",
   "metadata": {},
   "source": [
    "## 바로 시작하는 머신 러닝 - EDA\n",
    "- **큰 그림**으로 **머신러닝 전 과정**을 **꼼꼼하게** 익혀보면서, **패턴화**해서\n",
    "- 이후 어떤 데이터를 만나든 패턴화된 과정을 수행해서, 평균 이상으로 머신러닝 기술을 활용하도록 함"
   ]
  },
  {
   "cell_type": "markdown",
   "metadata": {},
   "source": [
    "### 데이터 셋 준비\n",
    "- 아무리 봐도, 타이타닉만큼 머신러닝 전과정을 간단하게! 큰 그림으로! 필요한 기술을 이해할 수 있는 데이터가 없음\n",
    "- 한번 익혀본 분도 머신러닝 전 과정을 정리하고 패턴화한다는 측면에서 익히기로 함"
   ]
  },
  {
   "cell_type": "code",
   "execution_count": null,
   "metadata": {},
   "outputs": [],
   "source": [
    "from IPython.display import HTML\n",
    "\n",
    "# Youtube\n",
    "HTML('<center><iframe width=\"560\" height=\"315\" src=\"https://www.youtube.com/embed/JcIjBjyX_L0\" frameborder=\"0\" allow=\"autoplay; encrypted-media\" allowfullscreen></iframe></center>')"
   ]
  },
  {
   "cell_type": "markdown",
   "metadata": {},
   "source": [
    "### 타이타닉 머신러닝\n",
    "> 타이타닉에 승선한 사람들의 데이터를 기반으로, 어떤 사람들이 사망했는지를 머신러닝을 사용해서 예측해보기\n",
    "\n",
    "### 주요 작업 단계\n",
    "1. 데이터 수집\n",
    "2. 데이터 분석(탐색)\n",
    "3. Feature Engineering\n",
    "4. 모델링\n",
    "5. 예측"
   ]
  },
  {
   "cell_type": "markdown",
   "metadata": {},
   "source": [
    "### 사전에 익힌 상태가 되야 하는 기술\n",
    "> 다음 기술을 원활하게 다룰 수 있어야 하며, 관련 기술을 본 머신러닝 강의 내에서, <br>\n",
    "> 다시 설명하기에는 강의 내용이 완전히 달라지므로, 관련 강의를 선수강하기를 부탁드림\n",
    "\n",
    "- pandas 사용법 \n",
    "   - 처음하는 파이썬 데이터 분석 강의에서 상세히 설명하고, 견고하게 익힐 수 있도록 하였음\n",
    "- 파이썬 시각화 사용법 \n",
    "   - 처음하는 파이썬 데이터 분석 강의에서 상세히 설명하고, 견고하게 익힐 수 있도록 하였음\n",
    "- 파이썬 입문 \n",
    "  - 파이썬 기본, 문자열 처리, 정규표현식, 리스트등 데이터 구조등"
   ]
  },
  {
   "cell_type": "markdown",
   "metadata": {},
   "source": [
    "### 관련 라이브러리 설치\n",
    "- 보통 이미 설치가 되어 있으므로, 별도 설치는 필요 없지만, 혹시나 하는 마음으로 실행\n",
    "- ! 이후 터미널에서 사용하는 명령을 쓰면, 바로 터미널 명령을 실행할 수 있음\n",
    "\n",
    "```bash\n",
    "!pip install pandas\n",
    "```"
   ]
  },
  {
   "cell_type": "code",
   "execution_count": null,
   "metadata": {},
   "outputs": [],
   "source": [
    "import pandas as pd # 라이브러리 임포트 (보통 이와 같이 사용함, 이후에는 pd.팬더스함수 형태로 팬더스 라이브러리 함수를 호출함)"
   ]
  },
  {
   "cell_type": "markdown",
   "metadata": {},
   "source": [
    "### 1. Kaggle API\n",
    "- Kaggle 이란?\n",
    "  - 가장 유명한 전세계 예측 모델 및 분석 대회 플랫폼\n",
    "  - 기업 및 단체에서 데이터와 해결과제를 등록하고, 데이터 과학자들이 이를 해결하는 모델을 개발 및 순위를 매김\n",
    "    - 통상 각 과제 대회에서 상위 10% 에 오르면, 현장에서 데이터 사이언티스트로 일할 수 있는 사람이라고 인정함\n",
    "  - https://www.kaggle.com/"
   ]
  },
  {
   "cell_type": "markdown",
   "metadata": {},
   "source": [
    "### 참고: Kaggle 로 데이터 구하기\n",
    "- Kaggle 에 수많은 데이터셋이 있으며, 이를 파이썬 kaggle API 로도 다운로드 받을 수 있음\n",
    "  - 직접 해당 데이터셋 페이지에서, 다운로드를 받을 수도 있으므로, 꼭 필요한 것은 아님"
   ]
  },
  {
   "cell_type": "code",
   "execution_count": null,
   "metadata": {},
   "outputs": [],
   "source": [
    "!pip install kaggle"
   ]
  },
  {
   "cell_type": "markdown",
   "metadata": {},
   "source": [
    "### 1.1. Kaggle API 토큰 생성\n",
    "- kaggle.com 사이트 회원가입(Sign-Up) 및 로그인(Sign-In)\n",
    "- 자신의 ID 에 대한 account 로 이동 후, **Create New API Token** 버튼 클릭\n",
    "  - 클릭하면, 바로 kaggle.json 파일 다운로드\n",
    "- kaggle.json 파일을 다음 경로에 정확히 넣어야 함\n",
    "  - 윈도우: 보통 C 드라이브가 메인 드라이브이므로, 해당 드라이브의 Users 에 자신의 아이디로 된 폴더를 확인할 수 있음\n",
    "    - 해당 폴더 안에, .kaggle 이라는 폴더를 생성한 후(kaggle 이 아니라, .kaggle 입니다!), kaggle.json 파일을 해당 폴더에 이동\n",
    "    - 즉, C:\\Users\\\\\\<Windows-username>\\\\.kaggle\\kaggle.json 이 되어야 함\n",
    "  - 맥: 사용자 ID 의 기본 폴더를 다음 터미널 명령으로 이동할 수 있음 (~ 표시가 사용자 ID 의 기본 폴더를 의미함)\n",
    "    - cd ~\n",
    "    - mkdir .kaggle (.kaggle 폴더 생성, 역시 kaggle 이 아니라, .kaggle 입니다!)\n",
    "    - chmod 600 kaggle.json (사용자 권한을 사용자 ID만 읽고 쓸 수 있게끔 하겠다라는 의미임)\n",
    "    - 즉, ~/.kaggle/kaggle.json 이 되어야 함\n",
    "\n",
    "> 이 과정이 잘 안된다면, 터미널 명령과 폴더등에 익숙하지 않기 때문이므로, 바로 사이트 자체에서 데이터를 다운로드받고 넘어갑니다"
   ]
  },
  {
   "cell_type": "markdown",
   "metadata": {},
   "source": [
    "### 1.2. 각 competition 의 Data 탭에서, kaggle 명령어 확인\n",
    "- 예: 타이타닉(https://www.kaggle.com/c/titanic/data)\n",
    "- 현재 주피터 노트북이 있는 폴더에서 titanic.zip 파일 확인"
   ]
  },
  {
   "cell_type": "code",
   "execution_count": null,
   "metadata": {},
   "outputs": [],
   "source": [
    "!kaggle competitions download -c titanic"
   ]
  },
  {
   "cell_type": "markdown",
   "metadata": {},
   "source": [
    "### 참고: 현재 진행중인 kaggle competition 확인"
   ]
  },
  {
   "cell_type": "code",
   "execution_count": null,
   "metadata": {},
   "outputs": [],
   "source": [
    "!kaggle competitions list"
   ]
  },
  {
   "cell_type": "markdown",
   "metadata": {},
   "source": [
    "### 2. 사전 준비\n",
    "- 주피터 노트북이 있는 현재 폴더의 하부 폴더로 titanic 폴더를 만들고, 해당 폴더 안에 다운받은 파일을 압축을 풀어놓음\n",
    "- 즉 모든 데이터는 titanic/train.csv 와 같은 식으로 접근 가능하도록 만듬"
   ]
  },
  {
   "cell_type": "markdown",
   "metadata": {},
   "source": [
    "### 3. 데이터 탐색 (EDA)\n",
    "\n",
    "<div class=\"alert alert-block\" style=\"border: 2px solid #E65100;background-color:#FFF3E0;padding:10px\">\n",
    "<font size=\"4em\" style=\"font-weight:bold;color:#BF360C;\">머신러닝 데이터 탐색 (EDA)</font>\n",
    "</div>\n",
    "\n",
    "> 머신러닝의 시작은 반드시 탐색적 데이터 분석 과정부터 시작함"
   ]
  },
  {
   "cell_type": "markdown",
   "metadata": {},
   "source": [
    "### 탐색적 데이터 분석\n",
    "- EDA (Exploratory Data Analysis) 라고 함\n",
    "- 데이터 분석을 위해 raw data를 다양한 각도에서 관찰하여, 데이터를 이해하는 과정\n",
    "  - 데이터 분석 주제마다 EDA를 통해 진행하는 과정은 각양각색이므로, 정형화된 패턴은 없지만,\n",
    "  - 크게 다음과 같은 3가지 과정은 기본이 될 수 있으므로 다음 3가지 과정을 기본으로 이해하기로 함\n",
    "\n",
    "    1. 데이터의 출처와 주제에 대해 이해\n",
    "    2. 데이터의 크기 확인\n",
    "    3. 데이터 구성 요소(feature)의 속성(특징) 확인\n",
    "       - feature: 데이터 구성 요소를 위미함\n",
    "       - 예: 어떤 초등학교에 학생 성적을 기록한 데이터가 있다면, 학생 이름, 과목별 성적등을 feature로 볼 수 있음 (가볍게 field/column 이라고 봐도 무방함)\n",
    "       \n",
    "       \n",
    "> 존 튜키라는 미국 통계학자가 제안한 분석 방법론 <br>\n",
    "> 기존 통계학이 가설을 세우고, 가설을 검정하는 방법론에 치우쳐, 데이터 본래의 정보를 파악하기 어려우므로, 본연의 데이터 탐색에 집중하자는 방법론"
   ]
  },
  {
   "cell_type": "markdown",
   "metadata": {},
   "source": [
    "### 3.1 데이터 읽기\n",
    "- 데이터는 다양한 포맷으로 되어 있을 수 있음\n",
    "  - 가장 일반적인 포맷이 csv 이며, 이외에 json, xml 도 많이 사용\n",
    "\n",
    "> 관련 포맷에 대한 이해와, 관련 데이터를 읽고 다루는 기술은 처음하는 파이썬 데이터 분석 강의에서 상세히 다루므로, <br>\n",
    "> 본 과정에서는 상세히 다루지 않습니다"
   ]
  },
  {
   "cell_type": "markdown",
   "metadata": {},
   "source": [
    "### 참고\n",
    "- csv 파일을 pandas dataframe 으로 읽기 위해 read_csv() 함수를 사용함\n",
    "- csv 구분자는 quotechar=구분자 옵션을 넣어서 구분자가 다른 경우도 읽기 가능\n",
    "\n",
    "```\n",
    "doc = pd.read_csv(\"USvideos.csv\", encoding='utf-8-sig', quotechar=',')\n",
    "```\n",
    "\n",
    "- 에러 나는 데이터는 항상 있을 수 있음, 해당 데이터는 생략하는 것이 일반적임\n",
    "\n",
    "```\n",
    "doc = pd.read_csv(\"USvideos.csv\", encoding='utf-8-sig', error_bad_lines=False)\n",
    "```\n",
    "\n",
    "> 특별한 설정이 필요하지 않다면, 간단히 read_csv(파일명) 을 써주면 됨"
   ]
  },
  {
   "cell_type": "code",
   "execution_count": null,
   "metadata": {},
   "outputs": [],
   "source": [
    "import pandas as pd\n",
    "\n",
    "train = pd.read_csv('titanic/train.csv')   # CSV 파일을 직접 읽어서 팬더스 데이터프레임으로 만들 수 있음\n",
    "test = pd.read_csv('titanic/test.csv')"
   ]
  },
  {
   "cell_type": "markdown",
   "metadata": {},
   "source": [
    "### 3.2. EDA\n",
    "### train 데이터의 첫 다섯 개의 데이터를 확인해보기\n",
    "\n",
    "> 역시 pandas 의 상세한 문법은 처음하는 파이썬 데이터 분석 강의에서 상세히 다루므로, <br>\n",
    "> 본 과정에서는 머신러닝에 집중하여, 관련 기술을 상세히 다루지 않습니다"
   ]
  },
  {
   "cell_type": "markdown",
   "metadata": {},
   "source": [
    "<div class=\"alert alert-block\" style=\"border: 2px solid #E65100;background-color:#FFF3E0;padding:10px\">\n",
    "<font size=\"4em\" style=\"font-weight:bold;color:#BF360C;\">머신러닝 1-1 단계: head() + tail() + 각 feature 의미 확인</font>\n",
    "</div>"
   ]
  },
  {
   "cell_type": "code",
   "execution_count": null,
   "metadata": {},
   "outputs": [],
   "source": [
    "train.head()"
   ]
  },
  {
   "cell_type": "markdown",
   "metadata": {},
   "source": [
    "### 각 항목이 의미하는 바가 무엇인지, 데이터를 확인해봅니다.\n",
    "- PassengerId: 승객 ID (unique 한 번호)\n",
    "- Survived: 살아남았는지를 나타냄 - 0 = No, 1 = Yes  \n",
    "- pclass: #등석 - 1 = 1st, 2 = 2nd, 3 = 3rd  \t\n",
    "- sibsp: #명의 형제자매/와이프와 동승했는지를 나타냄  (형제자매/와이프가 동승하지 않았으면 0)\t\n",
    "- parch: #명의 부모/아이와 동승했는지를 나타냄 (부모/아이가 동승하지 않았으면 0)\n",
    "- ticket: 티켓번호\t\n",
    "- cabin: 선실번호 (짐을 어디다 놓았는지) \t\n",
    "- embarked:\t어느 항구에서 탔는지를 나타냄 - C = Cherbourg, Q = Queenstown, S = Southampton  "
   ]
  },
  {
   "cell_type": "markdown",
   "metadata": {},
   "source": [
    "### test 데이터 확인하기\n",
    "  - Survived 필드가 없음을 확인할 수 있음\n",
    "  - 머신러닝 수행 목표가 Survived 값을 맞추는 것이므로, test 데이터에는 해당 필드가 없음"
   ]
  },
  {
   "cell_type": "code",
   "execution_count": null,
   "metadata": {},
   "outputs": [],
   "source": [
    "test.head()"
   ]
  },
  {
   "cell_type": "markdown",
   "metadata": {},
   "source": [
    "### 데이터 사이즈 확인\n",
    "\n",
    "<div class=\"alert alert-block\" style=\"border: 2px solid #E65100;background-color:#FFF3E0;padding:10px\">\n",
    "<font size=\"4em\" style=\"font-weight:bold;color:#BF360C;\">머신러닝 1-2 단계: shape, 데이터 사이즈 확인</font>\n",
    "</div>"
   ]
  },
  {
   "cell_type": "code",
   "execution_count": null,
   "metadata": {},
   "outputs": [],
   "source": [
    "train.shape # 891명의 승객정보와, 특징 정보 12개"
   ]
  },
  {
   "cell_type": "code",
   "execution_count": null,
   "metadata": {},
   "outputs": [],
   "source": [
    "test.shape # 418명의 승객정보와, 특징 정보 11개 (Survived 필드 제외)"
   ]
  },
  {
   "cell_type": "markdown",
   "metadata": {},
   "source": [
    "### 데이터 타입과 Null 데이터 확인\n",
    "<div class=\"alert alert-block\" style=\"border: 2px solid #E65100;background-color:#FFF3E0;padding:10px\">\n",
    "<font size=\"4em\" style=\"font-weight:bold;color:#BF360C;\">머신러닝 1-3 단계: info(), 데이터 타입 + Null 데이터 확인</font>\n",
    "</div>"
   ]
  },
  {
   "cell_type": "code",
   "execution_count": null,
   "metadata": {
    "scrolled": true
   },
   "outputs": [],
   "source": [
    "# 총 891 행에서, \n",
    "# Age 는 714 로 일부 Null 데이터가 있고, \n",
    "# Cabin 은 204 로 많은 부분 Null 데이터고,\n",
    "# Embarked 도 889 로 일부 Null 데이터가 있음\n",
    "train.info() "
   ]
  },
  {
   "cell_type": "code",
   "execution_count": null,
   "metadata": {},
   "outputs": [],
   "source": [
    "# 총 418 행에서, \n",
    "# Age 는 332 로 일부 Null 데이터가 있고, \n",
    "# Cabin 은 91 로 일부 Null 데이터가 있고, \n",
    "# Fare 도 417 로 1개의 Null 데이터가 있음\n",
    "test.info() "
   ]
  },
  {
   "cell_type": "markdown",
   "metadata": {},
   "source": [
    "### 보다 정확하게 Null 데이터 확인하기"
   ]
  },
  {
   "cell_type": "code",
   "execution_count": null,
   "metadata": {},
   "outputs": [],
   "source": [
    "# 각 특징중에 null인 것 (값이 없는 것)\n",
    "train.isnull().sum()"
   ]
  },
  {
   "cell_type": "code",
   "execution_count": null,
   "metadata": {},
   "outputs": [],
   "source": [
    "# 각 특징중에 null인 것 (값이 없는 것)\n",
    "test.isnull().sum()"
   ]
  },
  {
   "cell_type": "markdown",
   "metadata": {},
   "source": [
    "### 다섯 수치 요약 (5 number summary) 확인하기\n",
    "   - 최소값(minimum), 제1사분위수, 중간값(mediam)=제2사분위수, 제3사분위수, 최대값(maximum) 확인하기\n",
    "   - 분위수(quartile)\n",
    "     - 자료 크기 순서에 따른 위치값(경계값)\n",
    "   - EDA 에서는 사분위수를 사용\n",
    "     - Q1: 제1사분위수 (25%에 해당하는 값)\n",
    "     - Q2: 제2사분위수 (50%에 해당하는 값, 중간값)\n",
    "     - Q3: 제3사분위수 (75%에 해당하는 값)\n",
    "     - Q4: 제4사분위수 (100%에 해당하는 값, 최대값)\n",
    "     \n",
    "<div class=\"alert alert-block\" style=\"border: 2px solid #E65100;background-color:#FFF3E0;padding:10px\">\n",
    "<font size=\"4em\" style=\"font-weight:bold;color:#BF360C;\">머신러닝 1-4 단계: describe(), 5 number summary 확인</font>\n",
    "</div>     "
   ]
  },
  {
   "cell_type": "code",
   "execution_count": null,
   "metadata": {},
   "outputs": [],
   "source": [
    "# count: 갯수, mean: 평균, std: 표준편차, min: 최소값, max: 최대값\n",
    "# 25%/50%/75%: 4분위수로 전체 데이터 중, 25%/50%/75% 각각에 해당하는 수치가 몇 인지를 알려줌\n",
    "train.describe()"
   ]
  },
  {
   "cell_type": "code",
   "execution_count": null,
   "metadata": {
    "scrolled": true
   },
   "outputs": [],
   "source": [
    "# Age 의 min 값이 0.42? 개월수를 수치화한 것으로 보임\n",
    "train[train[\"Age\"] < 1]"
   ]
  },
  {
   "cell_type": "code",
   "execution_count": null,
   "metadata": {},
   "outputs": [],
   "source": [
    "# Age 가 1살 이상일 경우는 정수로만 표기\n",
    "train[(train[\"Age\"] >= 1) & (train[\"Age\"] <= 2)]"
   ]
  },
  {
   "cell_type": "markdown",
   "metadata": {},
   "source": [
    "### 4. EDA 와 시각화\n",
    "- 분포, 비율등을 확인하기 위해, 다양한 데이터 가공 및 시각화가 굉장히 유용함"
   ]
  },
  {
   "cell_type": "markdown",
   "metadata": {},
   "source": [
    "### 4.1 최신 시각화: Plotly 으로 시각화 사용하기\n",
    "\n",
    "<div class=\"alert alert-block\" style=\"border: 1px solid #FFB300;background-color:#F9FBE7;\">\n",
    "<font size=\"3em\" style=\"font-weight:bold;color:#3f8dbf;\">데이터 분석시, 가볍게 데이터 확인시는 Plotly Express, 디테일하게 시각화할 시에는 Plotly Graph Objects 를 사용하는 것이 좋음</font></div>\n",
    "\n",
    "> 역시 관련 문법과 사용법은 처음하는 파이썬 데이터 분석 강의에서 상세히 다루므로, <br>\n",
    "> 본 과정에서는 머신러닝에 집중하여, 관련 기술을 상세히 다루지 않습니다\n",
    "\n",
    "<div class=\"alert alert-block\" style=\"border: 1px solid #FFB300;background-color:#F9FBE7;\">\n",
    "    <font size=\"2em\" style=\"font-weight:bold;color:#3f8dbf;\">데이터 로드 및 초기 셋팅</font><br>\n",
    "    <font size=\"2em\" >본 노트북을 중간부터 보실 수 있으므로, 수시로 초기화(?) 코드를 넣어놓기로 함</font> <br>\n",
    "    <font size=\"2em\" color=red style=\"font-weight:bold\">본 노트북 우측 상단에 Not Trusted 버튼이 있다면, 클릭하여 Trusted 로 변경 추천 (일부 데이터/그래프가 제대로 표시안될 수 있음)</font>    \n",
    "</div>"
   ]
  },
  {
   "cell_type": "code",
   "execution_count": null,
   "metadata": {},
   "outputs": [],
   "source": [
    "# 초기화 코드 (본 노트북을 중간부터 보실 수 있으므로, 수시로 초기화(?) 코드를 넣어놓기로 함)\n",
    "import pandas as pd\n",
    "\n",
    "train = pd.read_csv('titanic/train.csv')\n",
    "test = pd.read_csv('titanic/test.csv')"
   ]
  },
  {
   "cell_type": "markdown",
   "metadata": {},
   "source": [
    "### 참고: 각 feature 간 상관관계 확인하기 \n",
    "- 상관관계는 직관적으로 확인이 가능한 heatmap 그래프로 확인\n",
    "- 연속형 데이터에 대해서만 상관관계 분석이 가능\n",
    "   - 하나의 feature 값이 증가할 때, 또다른 하나의 feature 값이 증가하면, 상관관계가 높음을 의미(1에 가까움)\n",
    "   - 하나의 feature 값이 증가할 때, 또다른 하나의 feature 값이 감소하면, 상관관계가 낮음을 의미(1에 가까움)\n",
    "   - 범주형 데이터의 경우, 숫자로 범주가 표현될 경우, heatmap 구성은 가능하지만, 분석 값의 의미를 찾기 어려움\n",
    "   - 상관관계 값이 0에 가까우면 상관관계가 없음을 의미"
   ]
  },
  {
   "cell_type": "code",
   "execution_count": null,
   "metadata": {},
   "outputs": [],
   "source": [
    "import plotly.express as px\n",
    "\n",
    "# 수치형 컬럼에 대해 상관계수 행렬 계산 (최신 pandas 버전에서는 numeric_only=True 필요)\n",
    "corr_matrix = train.corr(numeric_only=True)\n",
    "\n",
    "# plotly express를 이용해 히트맵 그리기\n",
    "fig_px = px.imshow(\n",
    "    corr_matrix,\n",
    "    text_auto=True,                # 각 셀에 상관계수 값 자동 표시\n",
    "    aspect=\"auto\",                 # 가로세로 비율 자동 조정\n",
    "    title=\"Heatmap (Plotly Express)\",\n",
    "    color_continuous_scale='Blues' # 색상 스케일 설정 (https://plotly.com/python/builtin-colorscales/)\n",
    ")\n",
    "fig_px.show()"
   ]
  },
  {
   "cell_type": "markdown",
   "metadata": {},
   "source": [
    "#### 참고: 피어슨 상관계수\n",
    "- 두 변수 X 와 Y 간의 선형 상관 관계를 계량화한 수치로, 수치 자체를 이해하기 위해서는 공분산등 고등수학 범위를 넘어서므로, 다음과 같이 간략한 식을 참고로만 이해하기로 함\n",
    "- X와 Y가 각각 n 개의 샘플을 가지고 있을 때,\n",
    "\n",
    "$$\n",
    "\\text{r}_{XY} = \\frac{\n",
    "\\sum_{i}^{n} (X_{i} -  \\bar{X}) \\cdot (Y_{i} -  \\bar{Y})}\n",
    "{\\sqrt{\\sum_{i}^{n} (X_{i} -  \\bar{X})^2} \\cdot\n",
    "\\sqrt{\\sum_{i}^{n} (Y_{i} -  \\bar{Y})^2}\n",
    "}\n",
    "$$\n",
    "\n",
    "$$ \\bar{X}: X 샘플의 평균, \\bar{Y}: Y 샘플의 평균 $$"
   ]
  },
  {
   "cell_type": "markdown",
   "metadata": {},
   "source": [
    "### 특정 feature(필드)에 따른 Survived 비율을 시각화해서 분석해보기"
   ]
  },
  {
   "cell_type": "code",
   "execution_count": null,
   "metadata": {},
   "outputs": [],
   "source": [
    "# 데이터프레임의 특정 필드를 기반으로 그래프를 그리는 함수 만들기 \n",
    "def create_dataframe_survived_rate(feature):\n",
    "    # survived 가 1인 행의 특정 특징의 값에 따른 갯수\n",
    "    survived = train[train['Survived']==1][feature].value_counts()\n",
    "    \n",
    "    # survived 가 0인 행의 특정 특징의 값에 따른 갯수\n",
    "    dead = train[train['Survived']==0][feature].value_counts()\n",
    "    df_graph = pd.DataFrame([survived,dead])\n",
    "    df_graph.index = ['Survived','Dead']\n",
    "    \n",
    "    return df_graph"
   ]
  },
  {
   "cell_type": "markdown",
   "metadata": {},
   "source": [
    "### create_dataframe_survived_rate 함수 코드 분석"
   ]
  },
  {
   "cell_type": "code",
   "execution_count": null,
   "metadata": {},
   "outputs": [],
   "source": [
    "# Sex feature 를 인자로 넣었을 경우,\n",
    "survived = train[train['Survived']==1]['Sex'].value_counts()\n",
    "survived"
   ]
  },
  {
   "cell_type": "code",
   "execution_count": null,
   "metadata": {},
   "outputs": [],
   "source": [
    "dead = train[train['Survived']==0]['Sex'].value_counts()\n",
    "dead"
   ]
  },
  {
   "cell_type": "code",
   "execution_count": null,
   "metadata": {},
   "outputs": [],
   "source": [
    "# 두 Series 를 합쳐서, 데이터프레임으로 만들기\n",
    "df = pd.DataFrame([survived,dead])\n",
    "df"
   ]
  },
  {
   "cell_type": "code",
   "execution_count": null,
   "metadata": {},
   "outputs": [],
   "source": [
    "# 인덱스 수정\n",
    "df.index = ['Survived','Dead']\n",
    "df"
   ]
  },
  {
   "cell_type": "markdown",
   "metadata": {},
   "source": [
    "### 함수와 함께 시각화해보며, 데이터 탐색하기"
   ]
  },
  {
   "cell_type": "code",
   "execution_count": null,
   "metadata": {},
   "outputs": [],
   "source": [
    "df = create_dataframe_survived_rate('Sex')\n",
    "df.head()"
   ]
  },
  {
   "cell_type": "markdown",
   "metadata": {},
   "source": [
    "#### Plotly Express 기반 간략히 그래프 그려 확인하기"
   ]
  },
  {
   "cell_type": "code",
   "execution_count": null,
   "metadata": {},
   "outputs": [],
   "source": [
    "import pandas as pd\n",
    "import plotly.express as px\n",
    "\n",
    "# px.bar()를 사용하여 그룹형 막대 그래프를 생성합니다.\n",
    "fig = px.bar(\n",
    "    df,                              # 시각화할 데이터프레임 지정\n",
    "    x=df.index,                      # x축에 사용할 값 지정: DataFrame의 인덱스('Survived', 'Dead')\n",
    "    y=[\"female\", \"male\"],            # y축에 사용할 값 지정: 'female'과 'male' 열의 데이터\n",
    "    barmode=\"group\",                 # 막대그래프 모드 설정: \"group\"은 각 x축 카테고리별로 막대를 나란히 배치\n",
    "    text_auto=True,                  # 각 막대 위에 자동으로 수치값을 표시 (가독성을 높임)\n",
    "    title=\"Survival Count by Sex\",   # 그래프의 제목 설정\n",
    ")\n",
    "\n",
    "fig.show()                        # 생성된 그래프를 화면에 표시"
   ]
  },
  {
   "cell_type": "markdown",
   "metadata": {},
   "source": [
    "<div class=\"alert alert-block\" style=\"border: 1px solid #FFB300;background-color:#F9FBE7;\">\n",
    "<font size=\"3em\" style=\"font-weight:bold;color:#3f8dbf;\">범주형 데이터에 대한 탐색적 데이터 분석</font><br>\n",
    "    - <b>범주형 데이터일 경우</b>에는 각 수준별 갯수 세기<br>\n",
    "      - 필요하면 절대 빈도(bar 그래프), 상대 빈도(원 그래프) 그려보기\n",
    "</div>    "
   ]
  },
  {
   "cell_type": "markdown",
   "metadata": {},
   "source": [
    "### 현 단계는 \n",
    "1. 각 feature 를 탐색하고(EDA)\n",
    "2. 각 feature 와 예측할 Survived 와의 관계를 큰 그림으로 파악하고자 하는 것임\n",
    "\n",
    "> 이 중 범주형 데이터에 대해 패턴화된 코드로 범주형 feature 에 대해 탐색하고자 함\n",
    "\n",
    "\n",
    "### 참고: 데이터는 크게 (1) 수치형, (2) 범주형 데이터로 나눌 수 있음\n",
    "1. 수치형 데이터\n",
    "   - 연속형(continuous) 데이터: 특정한 범위 안에 어떤 값(정수와 **부동소숫점**)이든 가질 수 있는 데이터\n",
    "   - 이산(discrete) 데이터: 횟수와 같은 **정수**만 가질 수 있는 데이터\n",
    "2. 범주형 데이터\n",
    "  - 명목형(nominal) 데이터: 카테고리, 타입, 항목등 데이터 분류를 위해 이미 정해진 값이 있는 데이터, 데이터가 가질 수 있는 값을 수준(levels) 라고 부름\n",
    "  - 순서형(ordinal) 데이터: 이미 정해진 값 사이의 순서 관계가 있는 데이터\n",
    "    - 매우불만(1) ~ 매우만족(5)와 같이 분류된 값 사이에 순서가 있는 경우"
   ]
  },
  {
   "cell_type": "markdown",
   "metadata": {},
   "source": [
    "### 4.2 범주형 데이터 확인\n",
    "- Sex, Pclass, Embarked\n",
    "\n",
    "### 참고: 범주형 데이터 탐색 기법\n",
    "1. 수준별로 데이터 분류하기\n",
    "2. 수준별로 데이터 갯수 세기 (count)\n",
    "   - 절대빈도: 절대 갯수, 상대빈도: 각 수준의 비율(%)\n",
    "3. 그래프 그리기\n",
    "   - 막대 그래프 (절대 빈도)\n",
    "   - 원 그래프 (상대 빈도)\n",
    "   \n",
    "<div class=\"alert alert-block\" style=\"border: 2px solid #E65100;background-color:#FFF3E0;padding:10px\">\n",
    "<font size=\"4em\" style=\"font-weight:bold;color:#BF360C;\">머신러닝 2-1 단계: 범주형 데이터 확인</font>\n",
    "</div>        "
   ]
  },
  {
   "cell_type": "code",
   "execution_count": null,
   "metadata": {},
   "outputs": [],
   "source": [
    "# 초기화 코드 (본 노트북을 중간부터 보실 수 있으므로, 수시로 초기화(?) 코드를 넣어놓기로 함)\n",
    "import pandas as pd\n",
    "\n",
    "train = pd.read_csv('titanic/train.csv')\n",
    "test = pd.read_csv('titanic/test.csv')"
   ]
  },
  {
   "cell_type": "code",
   "execution_count": null,
   "metadata": {},
   "outputs": [],
   "source": [
    "train.head()"
   ]
  },
  {
   "cell_type": "markdown",
   "metadata": {},
   "source": [
    "### 4.2.1 성별(Sex)로 Survived 비율 탐색하기\n",
    "- 가장 쉬운 것부터 탐색"
   ]
  },
  {
   "cell_type": "markdown",
   "metadata": {},
   "source": [
    "<div class=\"alert alert-block\" style=\"border: 2px solid #E65100;background-color:#FFF3E0;padding:10px\">\n",
    "<font size=\"4em\" style=\"font-weight:bold;color:#BF360C;\">머신러닝 2-1-1 단계: 범주형 데이터 level (수준) 값  확인</font>\n",
    "</div>       "
   ]
  },
  {
   "cell_type": "markdown",
   "metadata": {},
   "source": [
    "#### Series 로 feature를 보다 상세하게 탐색하기\n",
    "- size : 사이즈 반환\n",
    "- count() : 데이터가 없는 경우를 뺀 사이즈 반환\n",
    "- unique(): 유일한 값만 반환\n",
    "- value_counts(): 데이터가 없는 경우를 제외하고, 각 값의 갯수를 반환"
   ]
  },
  {
   "cell_type": "code",
   "execution_count": null,
   "metadata": {},
   "outputs": [],
   "source": [
    "train['Sex'].value_counts()"
   ]
  },
  {
   "cell_type": "markdown",
   "metadata": {},
   "source": [
    "<div class=\"alert alert-block\" style=\"border: 2px solid #E65100;background-color:#FFF3E0;padding:10px\">\n",
    "<font size=\"4em\" style=\"font-weight:bold;color:#BF360C;\">머신러닝 2-1-2 단계: 범주형 데이터 isnull().sum(), null 값  확인</font>\n",
    "</div>    "
   ]
  },
  {
   "cell_type": "markdown",
   "metadata": {},
   "source": [
    "### 없는 데이터(결측치) 가 있는지 확인하기\n",
    "  - isnull() : 없는 데이터가 있는지 확인 (True or False)\n",
    "  - sum() : 없는 데이터가 있는 행의 갯수 확인 \n",
    "  - 통상 isnull().sum() 으로 사용"
   ]
  },
  {
   "cell_type": "code",
   "execution_count": null,
   "metadata": {},
   "outputs": [],
   "source": [
    "train['Sex'].isnull().sum()"
   ]
  },
  {
   "cell_type": "markdown",
   "metadata": {},
   "source": [
    "<div class=\"alert alert-block\" style=\"border: 2px solid #E65100;background-color:#FFF3E0;padding:10px\">\n",
    "<font size=\"4em\" style=\"font-weight:bold;color:#BF360C;\">머신러닝 2-1-3 단계: 범주형 데이터 level (수준) 별 갯수 세기</font><br>필요하면 절대 빈도(bar 그래프), 상대 빈도(원 그래프) 그려보기    \n",
    "</div>"
   ]
  },
  {
   "cell_type": "markdown",
   "metadata": {},
   "source": [
    "### 시각화해보기"
   ]
  },
  {
   "cell_type": "code",
   "execution_count": null,
   "metadata": {},
   "outputs": [],
   "source": [
    "# 데이터프레임의 특정 필드를 기반으로 그래프를 그리는 함수 만들기 \n",
    "def create_dataframe_survived_rate(feature):\n",
    "    # survived 가 1인 행의 특정 특징의 값에 따른 갯수\n",
    "    survived = train[train['Survived']==1][feature].value_counts()\n",
    "    \n",
    "    # survived 가 0인 행의 특정 특징의 값에 따른 갯수\n",
    "    dead = train[train['Survived']==0][feature].value_counts()\n",
    "    df_graph = pd.DataFrame([survived,dead])\n",
    "    df_graph.index = ['Survived','Dead']\n",
    "    \n",
    "    return df_graph"
   ]
  },
  {
   "cell_type": "code",
   "execution_count": null,
   "metadata": {},
   "outputs": [],
   "source": [
    "df = create_dataframe_survived_rate('Sex')\n",
    "df.head()"
   ]
  },
  {
   "cell_type": "markdown",
   "metadata": {},
   "source": [
    "### 막대 그래프 그리기 "
   ]
  },
  {
   "cell_type": "markdown",
   "metadata": {},
   "source": [
    "### bar 차트 사용"
   ]
  },
  {
   "cell_type": "code",
   "execution_count": null,
   "metadata": {},
   "outputs": [],
   "source": [
    "import pandas as pd\n",
    "import plotly.express as px\n",
    "\n",
    "fig = px.bar(\n",
    "    df,                              # 시각화할 데이터프레임 지정\n",
    "    x=df.index,                      # x축: DataFrame의 인덱스('Survived', 'Dead')\n",
    "    y=[\"female\", \"male\"],            # y축: 'female'과 'male' 열의 데이터\n",
    "    barmode=\"stack\",                 # 스택형 막대그래프로 표시 (막대가 누적됨)\n",
    "    text_auto=True,                  # 각 막대 위에 값 자동 표시\n",
    "    title=\"Survival Count by Sex (Stacked)\",  # 그래프 제목\n",
    "    labels={                         # 축 레이블 및 범례 이름 지정\n",
    "        \"x\": \"Status\",               # x축 레이블을 \"Status\"로 지정\n",
    "        \"value\": \"Count\",            # y축 값 레이블을 \"Count\"로 지정\n",
    "        \"variable\": \"Sex\"            # 범례 항목(컬럼 이름)을 \"Sex\"로 지정\n",
    "    }\n",
    ")\n",
    "\n",
    "fig.show()  # 그래프 출력"
   ]
  },
  {
   "cell_type": "markdown",
   "metadata": {},
   "source": [
    "### pie 차트 사용"
   ]
  },
  {
   "cell_type": "code",
   "execution_count": null,
   "metadata": {},
   "outputs": [],
   "source": [
    "import pandas as pd\n",
    "import plotly.express as px\n",
    "\n",
    "# df.index를 직접 사용하여 'female' 값을 파이 차트로 시각화\n",
    "fig_female = px.pie(\n",
    "    data_frame=df,           # 시각화할 데이터프레임 지정\n",
    "    names=df.index,          # 파이 차트 조각의 레이블로 DataFrame의 인덱스 사용 (예: 'Survived', 'Dead')\n",
    "    values='female',         # 각 조각의 크기로 'female' 컬럼 값 사용\n",
    "    title='Pie Chart for Female'  # 차트 제목 지정\n",
    ")\n",
    "fig_female.show()            # female 파이 차트 출력"
   ]
  },
  {
   "cell_type": "code",
   "execution_count": null,
   "metadata": {},
   "outputs": [],
   "source": [
    "import pandas as pd\n",
    "import plotly.express as px\n",
    "\n",
    "# df.index를 직접 사용하여 'male' 값을 파이 차트로 시각화\n",
    "fig_male = px.pie(\n",
    "    data_frame=df,           # 시각화할 데이터프레임 지정\n",
    "    names=df.index,          # 파이 차트 조각의 레이블로 DataFrame의 인덱스 사용\n",
    "    values='male',           # 각 조각의 크기로 'male' 컬럼 값 사용\n",
    "    title='Pie Chart for Male'     # 차트 제목 지정\n",
    ")\n",
    "fig_male.show()              # male 파이 차트 출력"
   ]
  },
  {
   "cell_type": "markdown",
   "metadata": {},
   "source": [
    "<div class=\"alert alert-block\" style=\"border: 1px solid #FFB300;background-color:#F9FBE7;\">\n",
    "<font size=\"3em\" style=\"font-weight:bold;color:#3f8dbf;\">남성은 80% 정도, 여성은 25% 정도가 사망</font><br>\n",
    "<font size=\"4em\" style=\"font-weight:bold;color:#BF360C;\">성별(Sex) 는 사망 여부에 영향을 미칠 가능성이 높은 요소임을 확인할 수 있음</font></div>"
   ]
  },
  {
   "cell_type": "markdown",
   "metadata": {},
   "source": [
    "### 4.2.2 Pclass (#등석 으로 분석하기)"
   ]
  },
  {
   "cell_type": "code",
   "execution_count": null,
   "metadata": {},
   "outputs": [],
   "source": [
    "# 초기화 코드 (본 노트북을 중간부터 보실 수 있으므로, 수시로 초기화(?) 코드를 넣어놓기로 함)\n",
    "import pandas as pd\n",
    "\n",
    "train = pd.read_csv('titanic/train.csv')\n",
    "test = pd.read_csv('titanic/test.csv')"
   ]
  },
  {
   "cell_type": "code",
   "execution_count": null,
   "metadata": {},
   "outputs": [],
   "source": [
    "# 무슨 feature 가 있나 다시 확인\n",
    "train.head()"
   ]
  },
  {
   "cell_type": "markdown",
   "metadata": {},
   "source": [
    "<div class=\"alert alert-block\" style=\"border: 2px solid #E65100;background-color:#FFF3E0;padding:10px\">\n",
    "<font size=\"4em\" style=\"font-weight:bold;color:#BF360C;\">머신러닝 2-1-1 단계: 범주형 데이터 level (수준) 값  확인</font>\n",
    "</div>       "
   ]
  },
  {
   "cell_type": "code",
   "execution_count": null,
   "metadata": {},
   "outputs": [],
   "source": [
    "train['Pclass'].value_counts()"
   ]
  },
  {
   "cell_type": "markdown",
   "metadata": {},
   "source": [
    "<div class=\"alert alert-block\" style=\"border: 2px solid #E65100;background-color:#FFF3E0;padding:10px\">\n",
    "<font size=\"4em\" style=\"font-weight:bold;color:#BF360C;\">머신러닝 2-1-2 단계: 범주형 데이터 isnull().sum(), null 값  확인</font>\n",
    "</div>    "
   ]
  },
  {
   "cell_type": "code",
   "execution_count": null,
   "metadata": {},
   "outputs": [],
   "source": [
    "train['Pclass'].isnull().sum()"
   ]
  },
  {
   "cell_type": "markdown",
   "metadata": {},
   "source": [
    "<div class=\"alert alert-block\" style=\"border: 2px solid #E65100;background-color:#FFF3E0;padding:10px\">\n",
    "<font size=\"4em\" style=\"font-weight:bold;color:#BF360C;\">머신러닝 2-1-3 단계: 범주형 데이터 level (수준) 별 갯수 세기</font><br>필요하면 절대 빈도(bar 그래프), 상대 빈도(원 그래프) 그려보기    \n",
    "</div>"
   ]
  },
  {
   "cell_type": "code",
   "execution_count": null,
   "metadata": {},
   "outputs": [],
   "source": [
    "# 데이터프레임의 특정 필드를 기반으로 그래프를 그리는 함수 만들기 \n",
    "def create_dataframe_survived_rate(feature):\n",
    "    # survived 가 1인 행의 특정 특징의 값에 따른 갯수\n",
    "    survived = train[train['Survived']==1][feature].value_counts()\n",
    "    \n",
    "    # survived 가 0인 행의 특정 특징의 값에 따른 갯수\n",
    "    dead = train[train['Survived']==0][feature].value_counts()\n",
    "    df_graph = pd.DataFrame([survived,dead])\n",
    "    df_graph.index = ['Survived','Dead']\n",
    "    \n",
    "    return df_graph"
   ]
  },
  {
   "cell_type": "code",
   "execution_count": null,
   "metadata": {},
   "outputs": [],
   "source": [
    "df = create_dataframe_survived_rate('Pclass')\n",
    "df.head()"
   ]
  },
  {
   "cell_type": "code",
   "execution_count": null,
   "metadata": {},
   "outputs": [],
   "source": [
    "import pandas as pd\n",
    "import plotly.express as px\n",
    "\n",
    "fig = px.bar(\n",
    "    df,                          # 시각화할 데이터프레임\n",
    "    x=df.index,                  # x축에 DataFrame의 인덱스 ('Survived', 'Dead') 사용\n",
    "    y=df.columns,                # y축에 모든 열(1, 3, 2)의 값 사용\n",
    "    barmode='stack',             # 스택형 막대그래프로 표시 (막대가 누적됨)\n",
    "    text_auto=True,              # 각 막대 위에 값 자동 표시\n",
    "    title=\"Survival Count by Pclass\",  # 그래프 제목\n",
    ")\n",
    "\n",
    "fig.show()  # 그래프 출력"
   ]
  },
  {
   "cell_type": "markdown",
   "metadata": {},
   "source": [
    "### 각 등급별 Survived 비율 확인해보기"
   ]
  },
  {
   "cell_type": "code",
   "execution_count": null,
   "metadata": {},
   "outputs": [],
   "source": [
    "df.head()"
   ]
  },
  {
   "cell_type": "code",
   "execution_count": null,
   "metadata": {},
   "outputs": [],
   "source": [
    "# 데이터프레임 행과 열을 바꾸는 함수 - transpose()\n",
    "df_t = df.transpose()\n",
    "df_t.head()"
   ]
  },
  {
   "cell_type": "code",
   "execution_count": null,
   "metadata": {},
   "outputs": [],
   "source": [
    "import pandas as pd\n",
    "import plotly.express as px\n",
    "\n",
    "# Plotly Express를 이용하여 스택형 막대그래프 생성\n",
    "fig = px.bar(\n",
    "    df_t,                        # 시각화할 데이터프레임 (전치된 df)\n",
    "    x=df_t.index,                # x축에 인덱스 값을 사용 (Pclass 값: 1, 3, 2)\n",
    "    y=df_t.columns,              # y축에 각 열(즉, 'Survived'와 'Dead')의 값 사용\n",
    "    barmode='stack',             # 스택형 막대그래프로 누적 표시\n",
    "    text_auto=True,              # 각 막대 위에 해당 값 자동 표시\n",
    "    title=\"Survival Status by Pclass\"  # 그래프 제목 지정\n",
    ")\n",
    "\n",
    "# 그래프 크기를 (800, 600)으로 설정\n",
    "fig.update_layout(width=800, height=600)\n",
    "\n",
    "fig.show()  # 그래프 출력"
   ]
  },
  {
   "cell_type": "code",
   "execution_count": null,
   "metadata": {},
   "outputs": [],
   "source": [
    "import plotly.graph_objects as go\n",
    "\n",
    "# 새로운 figure 객체를 생성합니다.\n",
    "fig = go.Figure()\n",
    "\n",
    "# 'domain' 파라미터는 해당 차트가 그려질 영역을 지정합니다.\n",
    "# domain은 딕셔너리 형태이며, 'x'와 'y' 두 개의 키를 가집니다.\n",
    "# - 'x': [시작, 끝]은 x축(가로) 방향에서 차트가 차지할 비율을 지정합니다.\n",
    "#   예를 들어, [0.0, 0.33]은 전체 가로 길이의 0%부터 33%까지 영역을 의미합니다.\n",
    "# - 'y': [시작, 끝]은 y축(세로) 방향에서 차트가 차지할 비율을 지정합니다.\n",
    "#   예를 들어, [0, 1]은 전체 세로 길이를 전부 사용한다는 의미입니다.\n",
    "\n",
    "# 첫 번째 파이 차트: 전체 figure의 왼쪽 1/3 영역에 위치\n",
    "fig.add_trace(\n",
    "    go.Pie(\n",
    "        labels=df.index,  # 파이 차트의 각 항목 라벨 (예: 인덱스 값)\n",
    "        values=df[1],     # 각 항목에 해당하는 값\n",
    "        domain={'x': [0.0, 0.33], 'y': [0, 1]}  # x축: 0%~33%, y축: 0%~100%\n",
    "    )\n",
    ")\n",
    "\n",
    "# 두 번째 파이 차트: 전체 figure의 가운데 1/3 영역에 위치\n",
    "fig.add_trace(\n",
    "    go.Pie(\n",
    "        labels=df.index,\n",
    "        values=df[2],\n",
    "        domain={'x': [0.33, 0.66], 'y': [0, 1]}  # x축: 33%~66%, y축: 0%~100%\n",
    "    )\n",
    ")\n",
    "\n",
    "# 세 번째 파이 차트: 전체 figure의 오른쪽 1/3 영역에 위치\n",
    "fig.add_trace(\n",
    "    go.Pie(\n",
    "        labels=df.index,\n",
    "        values=df[3],\n",
    "        domain={'x': [0.66, 1.0], 'y': [0, 1]}  # x축: 66%~100%, y축: 0%~100%\n",
    "    )\n",
    ")\n",
    "\n",
    "# 모든 파이 차트를 포함한 figure를 화면에 출력합니다.\n",
    "fig.show()"
   ]
  },
  {
   "cell_type": "markdown",
   "metadata": {},
   "source": [
    "<div class=\"alert alert-block\" style=\"border: 1px solid #FFB300;background-color:#F9FBE7;\">\n",
    "<font size=\"3em\" style=\"font-weight:bold;color:#3f8dbf;\">1등석은 40%, 2등석은 50%, 3등석은 75% 가 사망</font><br>\n",
    "<font size=\"4em\" style=\"font-weight:bold;color:#BF360C;\">Pclass 는 사망 여부에 영향을 미칠 가능성이 높은 요소임을 확인할 수 있음</font>\n",
    "</div>"
   ]
  },
  {
   "cell_type": "markdown",
   "metadata": {},
   "source": [
    "### 4.2.3 어느 항구에서 탔는지에 따른 비율 확인해보기\n",
    "- Embarked: 어느 항구에서 탔는지를 나타냄 - C = Cherbourg, Q = Queenstown, S = Southampton"
   ]
  },
  {
   "cell_type": "code",
   "execution_count": null,
   "metadata": {},
   "outputs": [],
   "source": [
    "# 초기화 코드 (본 노트북을 중간부터 보실 수 있으므로, 수시로 초기화(?) 코드를 넣어놓기로 함)\n",
    "import pandas as pd\n",
    "\n",
    "train = pd.read_csv('titanic/train.csv')\n",
    "test = pd.read_csv('titanic/test.csv')"
   ]
  },
  {
   "cell_type": "code",
   "execution_count": null,
   "metadata": {},
   "outputs": [],
   "source": [
    "# 무슨 feature 가 있나 다시 확인\n",
    "train.head()"
   ]
  },
  {
   "cell_type": "markdown",
   "metadata": {},
   "source": [
    "<div class=\"alert alert-block\" style=\"border: 2px solid #E65100;background-color:#FFF3E0;padding:10px\">\n",
    "<font size=\"4em\" style=\"font-weight:bold;color:#BF360C;\">머신러닝 2-1-1 단계: 범주형 데이터 level (수준) 값  확인</font>\n",
    "</div>       "
   ]
  },
  {
   "cell_type": "code",
   "execution_count": null,
   "metadata": {},
   "outputs": [],
   "source": [
    "train['Embarked'].value_counts()"
   ]
  },
  {
   "cell_type": "markdown",
   "metadata": {},
   "source": [
    "<div class=\"alert alert-block\" style=\"border: 2px solid #E65100;background-color:#FFF3E0;padding:10px\">\n",
    "<font size=\"4em\" style=\"font-weight:bold;color:#BF360C;\">머신러닝 2-1-2 단계: 범주형 데이터 isnull().sum(), null 값  확인</font>\n",
    "</div>    "
   ]
  },
  {
   "cell_type": "code",
   "execution_count": null,
   "metadata": {},
   "outputs": [],
   "source": [
    "train['Embarked'].isnull().sum()"
   ]
  },
  {
   "cell_type": "markdown",
   "metadata": {},
   "source": [
    "<div class=\"alert alert-block\" style=\"border: 2px solid #E65100;background-color:#FFF3E0;padding:10px\">\n",
    "<font size=\"4em\" style=\"font-weight:bold;color:#BF360C;\">머신러닝 2-1-3 단계: 범주형 데이터 level (수준) 별 갯수 세기</font><br>필요하면 절대 빈도(bar 그래프), 상대 빈도(원 그래프) 그려보기    \n",
    "</div>"
   ]
  },
  {
   "cell_type": "code",
   "execution_count": null,
   "metadata": {},
   "outputs": [],
   "source": [
    "# 데이터프레임의 특정 필드를 기반으로 그래프를 그리는 함수 만들기 \n",
    "def create_dataframe_survived_rate(feature):\n",
    "    # survived 가 1인 행의 특정 특징의 값에 따른 갯수\n",
    "    survived = train[train['Survived']==1][feature].value_counts()\n",
    "    \n",
    "    # survived 가 0인 행의 특정 특징의 값에 따른 갯수\n",
    "    dead = train[train['Survived']==0][feature].value_counts()\n",
    "    df_graph = pd.DataFrame([survived,dead])\n",
    "    df_graph.index = ['Survived','Dead']\n",
    "    \n",
    "    return df_graph"
   ]
  },
  {
   "cell_type": "code",
   "execution_count": null,
   "metadata": {},
   "outputs": [],
   "source": [
    "df = create_dataframe_survived_rate('Embarked')\n",
    "df.head()"
   ]
  },
  {
   "cell_type": "code",
   "execution_count": null,
   "metadata": {},
   "outputs": [],
   "source": [
    "import plotly.express as px\n",
    "\n",
    "fig1 = px.bar(\n",
    "    data_frame=df,             # 원본 DataFrame 사용\n",
    "    x=df.index,                # x축: 인덱스 ('Survived', 'Dead')\n",
    "    y=df.columns,              # y축: 각 열('S', 'C', 'Q')의 값들을 각각의 막대로 표시\n",
    "    barmode='group',           # 그룹형 막대그래프 (각 x축 카테고리별로 막대가 나란히 표시됨)\n",
    "    text_auto=True,            # 각 막대 위에 해당 값이 자동으로 표시됨\n",
    "    title=\"Survival Status by Embarked (Grouped Bar)\"  # 그래프 제목\n",
    ")\n",
    "fig1.show()  # 그래프 출력\n"
   ]
  },
  {
   "cell_type": "code",
   "execution_count": null,
   "metadata": {},
   "outputs": [],
   "source": [
    "# DataFrame을 전치(transpose)하여 행과 열을 바꿉니다.\n",
    "# 전치 후: 인덱스는 ['S', 'C', 'Q']가 되고, 컬럼은 ['Survived', 'Dead']가 됩니다.\n",
    "df_t = df.transpose()\n",
    "\n",
    "fig2 = px.bar(\n",
    "    data_frame=df_t,           # 전치된 DataFrame 사용\n",
    "    x=df_t.index,              # x축: 전치 후 인덱스 ('S', 'C', 'Q')\n",
    "    y=df_t.columns,            # y축: 각 열('Survived', 'Dead')의 값들이 스택 형태로 표시됨\n",
    "    barmode='stack',           # 스택형 막대그래프: 동일 x축 카테고리 내에서 막대들이 누적되어 표시됨\n",
    "    text_auto=True,            # 각 막대 위에 값이 자동으로 표시됨\n",
    "    title=\"Survival Status by Embarked (Stacked Bar)\"  # 그래프 제목\n",
    ")\n",
    "fig2.show()  # 그래프 출력\n"
   ]
  },
  {
   "cell_type": "code",
   "execution_count": null,
   "metadata": {},
   "outputs": [],
   "source": [
    "import plotly.graph_objects as go  # Plotly 모듈 임포트\n",
    "\n",
    "fig = go.Figure()  # Figure 객체 생성\n",
    "\n",
    "# 'S' 파이 차트 추가 (왼쪽 영역: x 0~0.33)\n",
    "fig.add_trace(\n",
    "    go.Pie(\n",
    "        labels=df.index,                # 파이 조각 라벨로 인덱스 사용\n",
    "        values=df['S'],                 # 'S' 값 사용\n",
    "        domain={'x': [0, 0.33], 'y': [0, 1]}  # 좌측 33% 영역 지정\n",
    "    )\n",
    ")\n",
    "\n",
    "# 'C' 파이 차트 추가 (중앙 영역: x 0.33~0.66)\n",
    "fig.add_trace(\n",
    "    go.Pie(\n",
    "        labels=df.index,                # 라벨로 인덱스 사용\n",
    "        values=df['C'],                 # 'C' 값 사용\n",
    "        domain={'x': [0.33, 0.66], 'y': [0, 1]}  # 중앙 33% 영역 지정\n",
    "    )\n",
    ")\n",
    "\n",
    "# 'Q' 파이 차트 추가 (오른쪽 영역: x 0.66~1)\n",
    "fig.add_trace(\n",
    "    go.Pie(\n",
    "        labels=df.index,                # 라벨로 인덱스 사용\n",
    "        values=df['Q'],                 # 'Q' 값 사용\n",
    "        domain={'x': [0.66, 1], 'y': [0, 1]}  # 우측 33% 영역 지정\n",
    "    )\n",
    ")\n",
    "\n",
    "# 레이아웃을 업데이트하여 각 파이 차트 위에 제목(어노테이션)을 추가합니다.\n",
    "fig.update_layout(\n",
    "    annotations=[\n",
    "        dict(\n",
    "            text='S',          # 첫 번째 파이 차트의 제목 텍스트입니다.\n",
    "            x=0.165,           # x 좌표: 첫 번째 차트의 중앙 위치 (0 + 0.33)/2 = 0.165\n",
    "            y=1.1,             # y 좌표: 차트 위쪽에 제목을 배치하기 위해 1.1로 설정 (차트 위 약 10% 위치)\n",
    "            font_size=14,      # 제목의 폰트 크기를 14로 설정합니다.\n",
    "            showarrow=False    # 제목에 화살표를 표시하지 않습니다.\n",
    "        ),\n",
    "        dict(\n",
    "            text='C',          # 두 번째 파이 차트의 제목 텍스트입니다.\n",
    "            x=0.495,           # x 좌표: 두 번째 차트의 중앙 위치 (0.33 + 0.66)/2 = 0.495\n",
    "            y=1.1,             # y 좌표: 차트 위쪽에 제목 배치\n",
    "            font_size=14,      # 제목의 폰트 크기를 14로 설정합니다.\n",
    "            showarrow=False    # 화살표 없이 제목만 표시합니다.\n",
    "        ),\n",
    "        dict(\n",
    "            text='Q',          # 세 번째 파이 차트의 제목 텍스트입니다.\n",
    "            x=0.83,            # x 좌표: 세 번째 차트의 중앙 위치 (0.66 + 1)/2 = 0.83\n",
    "            y=1.1,             # y 좌표: 차트 위쪽에 제목 배치\n",
    "            font_size=14,      # 제목의 폰트 크기를 14로 설정합니다.\n",
    "            showarrow=False    # 화살표를 표시하지 않습니다.\n",
    "        )\n",
    "    ]\n",
    ")\n",
    "\n",
    "fig.show()  # 차트 출력\n"
   ]
  },
  {
   "cell_type": "markdown",
   "metadata": {},
   "source": [
    "<div class=\"alert alert-block\" style=\"border: 1px solid #FFB300;background-color:#F9FBE7;\">\n",
    "<font size=\"3em\" style=\"font-weight:bold;color:#3f8dbf;\">S 는 66%, C 는 45%, Q 는 60% 가 사망 (큰 차이는 없지만, 비교적 S 쪽에서 사망률이 높음)</font><br>\n",
    "    <font size=\"4em\" style=\"font-weight:bold;color:#BF360C;\">Embarked 는 사망 여부에 영향을 미칠 가능성이 크지는 않을 요소임을 확인할 수 있음</font>\n",
    "</div>"
   ]
  },
  {
   "cell_type": "markdown",
   "metadata": {},
   "source": [
    "### 범주형 데이터 확인 결과\n",
    "- Sex, Pclass, Embarked\n",
    "\n",
    "<div class=\"alert alert-block\" style=\"border: 1px solid #FFB300;background-color:#F9FBE7;\">\n",
    "<font size=\"3em\" style=\"font-weight:bold;color:#3f8dbf;\">남성은 80% 정도, 여성은 25% 정도가 사망</font><br>\n",
    "<font size=\"4em\" style=\"font-weight:bold;color:#BF360C;\">성별(Sex) 는 사망 여부에 영향을 미칠 가능성이 높은 요소임을 확인할 수 있음</font></div>\n",
    "\n",
    "<div class=\"alert alert-block\" style=\"border: 1px solid #FFB300;background-color:#F9FBE7;\">\n",
    "<font size=\"3em\" style=\"font-weight:bold;color:#3f8dbf;\">1등석은 40%, 2등석은 50%, 3등석은 75% 가 사망</font><br>\n",
    "<font size=\"4em\" style=\"font-weight:bold;color:#BF360C;\">Pclass 는 사망 여부에 영향을 미칠 가능성이 높은 요소임을 확인할 수 있음</font>\n",
    "</div>\n",
    "\n",
    "<div class=\"alert alert-block\" style=\"border: 1px solid #FFB300;background-color:#F9FBE7;\">\n",
    "<font size=\"3em\" style=\"font-weight:bold;color:#3f8dbf;\">S 는 66%, C 는 45%, Q 는 60% 가 사망 (큰 차이는 없지만, 비교적 S 쪽에서 사망률이 높음)</font><br>\n",
    "    <font size=\"4em\" style=\"font-weight:bold;color:#BF360C;\">Embarked 는 사망 여부에 영향을 미칠 가능성이 크지는 않을 요소임을 확인할 수 있음</font>\n",
    "</div>"
   ]
  },
  {
   "cell_type": "markdown",
   "metadata": {},
   "source": [
    "### 4.3 수치형 데이터 확인\n",
    "- Age, SibSp, Parch, Fare\n",
    "\n",
    "### 수치형 데이터\n",
    "- 연속형(continuous) 데이터: 특정한 범위 안에 어떤 값(정수와 **부동소숫점**)이든 가질 수 있는 데이터\n",
    "- 이산(discrete) 데이터: 횟수와 같은 **정수**만 가질 수 있는 데이터"
   ]
  },
  {
   "cell_type": "markdown",
   "metadata": {},
   "source": [
    "### 수치형 데이터 탐색 방법\n",
    "- EDA 5 수치 + 평균(mean) 확인\n",
    "  - 최소값(minimum), 제1사분위수, 중간값(mediam)=제2사분위수, 제3사분위수, 최대값(maximum) + 평균(mean) 확인\n",
    "  - 특잇값(outlier) 확인\n",
    "- 필요하면 boxplot 과 histogram 그려보기\n",
    "\n",
    "<div class=\"alert alert-block\" style=\"border: 2px solid #E65100;background-color:#FFF3E0;padding:10px\">\n",
    "<font size=\"4em\" style=\"font-weight:bold;color:#BF360C;\">머신러닝 2-2 단계: 수치형 데이터 확인</font>\n",
    "</div>        "
   ]
  },
  {
   "cell_type": "code",
   "execution_count": null,
   "metadata": {},
   "outputs": [],
   "source": [
    "# 초기화 코드 (본 노트북을 중간부터 보실 수 있으므로, 수시로 초기화(?) 코드를 넣어놓기로 함)\n",
    "import pandas as pd\n",
    "\n",
    "train = pd.read_csv('titanic/train.csv')\n",
    "test = pd.read_csv('titanic/test.csv')"
   ]
  },
  {
   "cell_type": "code",
   "execution_count": null,
   "metadata": {},
   "outputs": [],
   "source": [
    "train.head()"
   ]
  },
  {
   "cell_type": "markdown",
   "metadata": {},
   "source": [
    "### 4.3.1 Age 로 분석하기\n",
    "- **Age**, SibSp, Parch, Fare"
   ]
  },
  {
   "cell_type": "markdown",
   "metadata": {},
   "source": [
    "### 수치형 데이터의 요약(탐색)\n",
    "1. 다섯 수치 요약 (5 number summary) 확인하기\n",
    "   - 최소값(minimum), 제1사분위수, 중간값(mediam)=제2사분위수, 제3사분위수, 최대값(maximum) 확인하기\n",
    "   - 분위수(quartile)\n",
    "     - 자료 크기 순서에 따른 위치값(경계값)\n",
    "   - EDA 에서는 사분위수를 사용\n",
    "     - Q1: 제1사분위수 (25%에 해당하는 값)\n",
    "     - Q2: 제2사분위수 (50%에 해당하는 값, 중간값)\n",
    "     - Q3: 제3사분위수 (75%에 해당하는 값)\n",
    "     - Q4: 제4사분위수 (100%에 해당하는 값, 최대값)\n",
    "     \n",
    "<div class=\"alert alert-block\" style=\"border: 2px solid #E65100;background-color:#FFF3E0;padding:10px\">\n",
    "<font size=\"4em\" style=\"font-weight:bold;color:#BF360C;\">머신러닝 2-2-1 단계: 수치형 데이터 describe(), 5 number summary  확인</font>\n",
    "</div>             "
   ]
  },
  {
   "cell_type": "code",
   "execution_count": null,
   "metadata": {},
   "outputs": [],
   "source": [
    "train['Age'].describe()"
   ]
  },
  {
   "cell_type": "markdown",
   "metadata": {},
   "source": [
    "### 없는 데이터(결측치) 가 있는지 확인하기\n",
    "  - isnull() : 없는 데이터가 있는지 확인 (True or False)\n",
    "  - sum() : 없는 데이터가 있는 행의 갯수 확인 \n",
    "  - 통상 isnull().sum() 으로 사용\n",
    "\n",
    "<div class=\"alert alert-block\" style=\"border: 2px solid #E65100;background-color:#FFF3E0;padding:10px\">\n",
    "<font size=\"4em\" style=\"font-weight:bold;color:#BF360C;\">머신러닝 2-2-2 단계: 수치형 데이터 isnull().sum(), null 값  확인</font>\n",
    "</div>    "
   ]
  },
  {
   "cell_type": "code",
   "execution_count": null,
   "metadata": {},
   "outputs": [],
   "source": [
    "train['Age'].isnull().sum()"
   ]
  },
  {
   "cell_type": "markdown",
   "metadata": {},
   "source": [
    "<div class=\"alert alert-block\" style=\"border: 2px solid #E65100;background-color:#FFF3E0;padding:10px\">\n",
    "<font size=\"4em\" style=\"font-weight:bold;color:#BF360C;\">머신러닝 2-2-3 단계: 수치형 데이터 시각화해보기</font>\n",
    "</div>    "
   ]
  },
  {
   "cell_type": "markdown",
   "metadata": {},
   "source": [
    "#### 참고: unstack() 사용법\n",
    "- **정의:**  \n",
    "  `unstack()`은 **인덱스 레벨 중 가장 안쪽(마지막) 레벨을 열(column)로 변환**하는 메서드입니다.  \n",
    "  - 기본적으로 **MultiIndex(멀티 인덱스)** 를 가진 Series나 DataFrame에서 사용되며, 다중 인덱스의 구조를 2차원 표 형태로 “피벗”하는 역할을 합니다.\n",
    "  - 단일 인덱스인 경우, 인덱스를 열로 변환하지만, 일반적으로는 멀티 인덱스에서 더 자주 쓰입니다.\n",
    "- **사용 예:**  \n",
    "  - `df.unstack()`: 가장 안쪽 레벨을 열(column)로 펼침  \n",
    "  - `df.unstack(level='레벨이름')`: 특정 레벨 이름을 지정해 해당 레벨을 열(column)로 펼침  \n",
    "  - `df.unstack(level=정수)`: 레벨 번호를 지정해 해당 레벨을 열(column)로 펼침  \n",
    "- **주의사항:**  \n",
    "  - `unstack()` 후에 누락된(없는) 레이블은 기본적으로 `NaN`으로 표시됩니다.  \n",
    "  - `unstack(fill_value=0)`처럼 `fill_value`를 지정하면 누락된 값이 `0`으로 채워집니다."
   ]
  },
  {
   "cell_type": "code",
   "execution_count": null,
   "metadata": {},
   "outputs": [],
   "source": [
    "import pandas as pd\n",
    "\n",
    "# 간단한 DataFrame 생성\n",
    "df = pd.DataFrame({\n",
    "    'Category': ['A', 'A', 'B', 'B'],\n",
    "    'Number': [1, 2, 1, 2],\n",
    "    'Value': [10, 20, 30, 40]\n",
    "})\n",
    "\n",
    "# Category와 Number로 그룹화하여 Value의 합계를 구합니다.\n",
    "grouped = df.groupby(['Category', 'Number'])['Value'].sum()\n",
    "print (type(grouped), '\\n', grouped, '\\n', grouped.index, '\\n', grouped.values)"
   ]
  },
  {
   "cell_type": "code",
   "execution_count": null,
   "metadata": {},
   "outputs": [],
   "source": [
    "# 가장 안쪽 레벨(Number)을 열로 변환합니다.\n",
    "unstacked = grouped.unstack()\n",
    "\n",
    "# unstacked DataFrame의 타입, 인덱스, 컬럼, 값들을 출력합니다.\n",
    "print(\"Type:\", type(unstacked))\n",
    "print(\"Index:\", unstacked.index)                  # 인덱스 값들\n",
    "print(\"Index name:\", unstacked.index.name)        # 인덱스의 이름 (여기서는 'Category')\n",
    "print(\"Columns:\", unstacked.columns)              # 컬럼 값들\n",
    "print(\"Columns name:\", unstacked.columns.name)    # 컬럼의 이름 (여기서는 'Number')\n",
    "print(\"Values:\\n\", unstacked.values)\n",
    "\n",
    "# 결과 DataFrame의 상위 5개 행 출력\n",
    "print(\"\\nHead:\")\n",
    "unstacked.head()"
   ]
  },
  {
   "cell_type": "markdown",
   "metadata": {},
   "source": [
    "- **groupby() 단계:**\n",
    "  - **작업:**  \n",
    "    - `df.groupby(['Category', 'Number'])['Value'].sum()`  \n",
    "    - DataFrame `df`를 `'Category'`와 `'Number'` 컬럼으로 그룹화하고, 각 그룹의 `'Value'` 합계를 계산합니다.\n",
    "  - **결과:**  \n",
    "    - 결과는 MultiIndex Series가 됩니다.\n",
    "    - **인덱스 이름:**  \n",
    "      - MultiIndex의 첫 번째 레벨은 `'Category'`, 두 번째 레벨은 `'Number'`가 됩니다.\n",
    "    - 예를 들어, 결과 인덱스는 `('A', 1)`, `('A', 2)`, `('B', 1)`, `('B', 2)`로 구성되고, 각 레벨에는 각각의 이름이 부여됩니다.\n",
    "\n",
    "- **unstack() 단계:**\n",
    "  - **작업:**  \n",
    "    - `grouped.unstack()`을 사용하면 가장 안쪽 레벨(여기서는 `'Number'`)이 열(column)로 변환됩니다.\n",
    "  - **결과:**  \n",
    "    - **행 인덱스:**  \n",
    "      - 원래의 첫 번째 레벨인 `'Category'`가 그대로 행 인덱스가 됩니다.\n",
    "      - 인덱스의 이름은 `'Category'`입니다.\n",
    "    - **열(컬럼):**  \n",
    "      - unstack()된 결과에서 열은 원래 두 번째 레벨의 값이 됩니다.\n",
    "      - 이 열들의 이름은 MultiIndex의 두 번째 레벨 이름, 즉 `'Number'`가 됩니다.\n",
    "    - 즉, 최종 DataFrame의 상단에 `'Number'`라는 컬럼 이름이 표시되며, 실제 열 라벨은 1과 2가 됩니다."
   ]
  },
  {
   "cell_type": "markdown",
   "metadata": {},
   "source": [
    "#### fill_value 옵션 관련 이해"
   ]
  },
  {
   "cell_type": "code",
   "execution_count": null,
   "metadata": {},
   "outputs": [],
   "source": [
    "import pandas as pd\n",
    "\n",
    "# 예제 DataFrame 생성\n",
    "# Category 'A'에서는 Number가 1과 2만 존재하고, Number 3 조합은 없습니다.\n",
    "# Category 'B'에서는 Number가 1, 2, 3 모두 존재합니다.\n",
    "df = pd.DataFrame({\n",
    "    'Category': ['A', 'A', 'B', 'B', 'B'],\n",
    "    'Number': [1, 2, 1, 2, 3],\n",
    "    'Value': [10, 20, 30, 40, 50]\n",
    "})\n",
    "\n",
    "# 'Category'와 'Number'로 그룹화하여 각 그룹의 'Value' 합계를 계산합니다.\n",
    "grouped = df.groupby(['Category', 'Number'])['Value'].sum()\n",
    "\n",
    "# unstack()으로 가장 안쪽 레벨(Number)을 열로 변환합니다.\n",
    "unstacked_no_fill = grouped.unstack()\n",
    "\n",
    "print(\"### fill_value 없이 unstack() 사용한 결과:\")\n",
    "print(unstacked_no_fill)\n"
   ]
  },
  {
   "cell_type": "markdown",
   "metadata": {},
   "source": [
    "- `grouped.unstack()`를 호출하면, 가장 안쪽 레벨인 'Number'가 열로 변환됩니다.\n",
    "- Category 'A'에는 Number 3에 해당하는 값이 없으므로 그 위치에 NaN이 나타납니다.\n",
    "- 결과 예시:\n",
    "```\n",
    "Number      1     2     3\n",
    "Category                    \n",
    "A         10.0  20.0   NaN\n",
    "B         30.0  40.0  50.0\n",
    "```"
   ]
  },
  {
   "cell_type": "markdown",
   "metadata": {},
   "source": [
    "#### fill_value=0을 사용하여 unstack() (누락된 그룹은 0으로 채움)"
   ]
  },
  {
   "cell_type": "code",
   "execution_count": null,
   "metadata": {},
   "outputs": [],
   "source": [
    "# fill_value=0 옵션을 사용하여 unstack()을 수행합니다.\n",
    "unstacked_fill = grouped.unstack(fill_value=0)\n",
    "\n",
    "print(\"\\nfill_value=0을 적용한 unstack() 결과:\")\n",
    "print(unstacked_fill)"
   ]
  },
  {
   "cell_type": "markdown",
   "metadata": {},
   "source": [
    "- **fill_value 옵션 사용:**  \n",
    "  - `grouped.unstack(fill_value=0)`는 unstack() 시에 누락된 조합을 0으로 채워줍니다.\n",
    "  - 즉, Category 'A'의 Number 3 조합이 NaN 대신 0으로 표시됩니다.\n",
    "  - 결과 예시:\n",
    "    ```\n",
    "    Number      1     2     3\n",
    "    Category                    \n",
    "    A         10    20     0\n",
    "    B         30    40    50\n",
    "    ```"
   ]
  },
  {
   "cell_type": "markdown",
   "metadata": {},
   "source": [
    "#### 나이기반 생존자/사망자 분포 파악"
   ]
  },
  {
   "cell_type": "code",
   "execution_count": null,
   "metadata": {},
   "outputs": [],
   "source": [
    "# 1. 원본 train 데이터프레임을 수정하지 않기 위해 복사본을 만듭니다.\n",
    "train_age = train.copy()"
   ]
  },
  {
   "cell_type": "code",
   "execution_count": null,
   "metadata": {},
   "outputs": [],
   "source": [
    "# 2. 'Age' 컬럼에 결측치(NaN)가 있는 행들을 삭제합니다.\n",
    "train_age = train_age.dropna(subset=['Age'])"
   ]
  },
  {
   "cell_type": "code",
   "execution_count": null,
   "metadata": {},
   "outputs": [],
   "source": [
    "# 소숫점 나이 확인\n",
    "non_integer_ages = train_age[train_age['Age'] % 1 != 0]\n",
    "non_integer_ages.head()\n",
    "# non_integer_ages.shape"
   ]
  },
  {
   "cell_type": "code",
   "execution_count": null,
   "metadata": {},
   "outputs": [],
   "source": [
    "# 2. 'Age' 컬럼의 결측치를 0으로 채우고, 소수점 이하를 버리기 위해 정수형으로 변환한 'Age_int' 컬럼을 추가합니다.\n",
    "# 즉, 예를 들어 Age가 28.5인 경우에는 28로 변환됩니다.\n",
    "train_age['Age_int'] = train_age['Age'].astype(int)"
   ]
  },
  {
   "cell_type": "code",
   "execution_count": null,
   "metadata": {},
   "outputs": [],
   "source": [
    "# 소숫점 나이 확인\n",
    "non_integer_ages = train_age[train_age['Age_int'] % 1 != 0]\n",
    "non_integer_ages.head()\n",
    "# non_integer_ages.shape"
   ]
  },
  {
   "cell_type": "markdown",
   "metadata": {},
   "source": [
    "**1. 그룹화 (groupby)**  \n",
    "  - **문법:** `train_age.groupby(['Age_int', 'Survived'])`\n",
    "  - **설명:**  \n",
    "    - `train_age` 데이터프레임을 `'Age_int'`와 `'Survived'` 두 컬럼의 값에 따라 그룹화합니다.  \n",
    "    - 이 과정에서 각 그룹은 특정 나이(`Age_int`)와 생존 여부(`Survived`)의 조합으로 구성됩니다.  \n",
    "    - 예를 들어, 나이가 28인 생존자 그룹, 나이가 28인 사망자 그룹 등으로 나뉩니다.\n",
    "    \n",
    "**2. 그룹별 크기 계산 (size)**  \n",
    "  - **문법:** `.size()`\n",
    "  - **설명:**  \n",
    "    - 그룹별로 행의 개수를 계산합니다.  \n",
    "    - 결과는 각 그룹(즉, (Age_int, Survived) 조합)에 해당하는 행의 수를 값으로 갖는 Series가 됩니다.  \n",
    "    - 이 Series의 인덱스는 다중 인덱스(MultiIndex) 형태로 `(Age_int, Survived)`의 튜플로 구성됩니다.\n",
    "\n",
    "**3. 인덱스 변환 (unstack)**  \n",
    "  - **문법:** `.unstack(fill_value=0)`\n",
    "  - **설명:**  \n",
    "    - 다중 인덱스의 Series를 DataFrame으로 변환합니다.  \n",
    "    - 기본적으로 가장 안쪽 인덱스(여기서는 `Survived` 값)가 열(column)로 변환됩니다.\n",
    "    - `fill_value=0` 옵션은 특정 나이(`Age_int`)에서 해당 생존 여부 그룹이 없을 경우, 그 위치에 0을 채워줍니다.\n",
    "    - 결과 DataFrame의 행 인덱스는 `Age_int`가 되고, 열은 `Survived`의 값(보통 0과 1)으로 나타나며, 각 셀은 해당 조합의 행 수(빈도수)를 의미합니다.\n"
   ]
  },
  {
   "cell_type": "code",
   "execution_count": null,
   "metadata": {},
   "outputs": [],
   "source": [
    "survival_counts = train_age.groupby(['Age_int', 'Survived']).size()\n",
    "survival_counts.head()"
   ]
  },
  {
   "cell_type": "code",
   "execution_count": null,
   "metadata": {},
   "outputs": [],
   "source": [
    "survival_counts.unstack(fill_value=0)"
   ]
  },
  {
   "cell_type": "code",
   "execution_count": null,
   "metadata": {},
   "outputs": [],
   "source": [
    "# 3. 'Age_int'와 'Survived'를 기준으로 그룹화하여 각 그룹의 개수를 계산합니다.\n",
    "#    unstack(fill_value=0)를 사용해서 계층적 인덱스를 DataFrame 형태로 변환하고,\n",
    "#    존재하지 않는 그룹은 0으로 채웁니다.\n",
    "survival_counts = train_age.groupby(['Age_int', 'Survived']).size().unstack(fill_value=0)\n",
    "survival_counts.head()"
   ]
  },
  {
   "cell_type": "code",
   "execution_count": null,
   "metadata": {},
   "outputs": [],
   "source": [
    "# 4. 그룹화 결과의 컬럼(0: 사망, 1: 생존)을 'Dead'와 'Survived'로 변경합니다.\n",
    "survival_counts.columns = ['Dead', 'Survived']\n",
    "survival_counts.head()"
   ]
  },
  {
   "cell_type": "code",
   "execution_count": null,
   "metadata": {},
   "outputs": [],
   "source": [
    "import plotly.graph_objects as go  # 임포트: Plotly의 그래프 객체 모듈을 불러옴\n",
    "\n",
    "\n",
    "# 1. survival_counts의 인덱스(Age_int)를 컬럼으로 변환하여 사용\n",
    "df = survival_counts.reset_index()\n",
    "\n",
    "# 2. Figure 객체 생성\n",
    "fig = go.Figure()\n",
    "\n",
    "# 3. 'Dead' 데이터를 표시하는 Bar trace 추가\n",
    "fig.add_trace(\n",
    "    go.Bar(\n",
    "        x=df['Age_int'],      # x축: 나이(Age_int)\n",
    "        y=df['Dead'],         # y축: Dead 수\n",
    "        name='Dead',          # 범례에 표시될 이름\n",
    "        marker_color='blue',  # 막대 색상: 파란색\n",
    "        opacity=0.5           # 막대 투명도: 50%\n",
    "    )\n",
    ")\n",
    "\n",
    "# 4. 'Survived' 데이터를 표시하는 Bar trace 추가\n",
    "fig.add_trace(\n",
    "    go.Bar(\n",
    "        x=df['Age_int'],         # x축: 나이(Age_int)\n",
    "        y=df['Survived'],        # y축: Survived 수\n",
    "        name='Survived',         # 범례에 표시될 이름\n",
    "        marker_color='orange',   # 막대 색상: 주황색\n",
    "        opacity=0.5              # 막대 투명도: 50%\n",
    "    )\n",
    ")\n",
    "\n",
    "# 5. 레이아웃 업데이트: 막대들을 겹쳐서(overlaid) 표시하도록 설정\n",
    "fig.update_layout(\n",
    "    barmode='overlay',  # barmode 옵션:\n",
    "                         #   - 'group': 막대들이 나란히 표시됨 (기본값)\n",
    "                         #   - 'stack': 막대들이 위로 누적됨\n",
    "                         #   - 'relative': 양수/음수로 분리하여 누적됨\n",
    "                         #   - 'overlay': 막대들이 겹쳐서 표시됨\n",
    "    title='Age Distribution by Survival Status (Overlaid)'\n",
    ")\n",
    "\n",
    "# 6. 그래프 출력\n",
    "fig.show()"
   ]
  },
  {
   "cell_type": "markdown",
   "metadata": {},
   "source": [
    "<div class=\"alert alert-block\" style=\"border: 1px solid #FFB300;background-color:#F9FBE7;\">\n",
    "<font size=\"3em\" style=\"font-weight:bold;color:#3f8dbf;\">0 ~ 16세까지는 살아남은 분들이 많고, 50세 이상도 살아남은 분들이 좀더 많아 보이지만, 중간 나이는 사망자가 더 많아보임</font><br>\n",
    "    <font size=\"4em\" style=\"font-weight:bold;color:#BF360C;\">Age 는 사망 여부에 영향을 미칠 가능성이 높은 요소임을 확인할 수 있음</font></div>"
   ]
  },
  {
   "cell_type": "markdown",
   "metadata": {},
   "source": [
    "<div class=\"alert alert-block\" style=\"border: 1px solid #FFB300;background-color:#F9FBE7;\">\n",
    "<font size=\"4em\" style=\"font-weight:bold;color:#BF360C;\">하지만, Age 값이 없는 행이 177개나 되므로, 분석에 한계가 있어보임 (이 부분은 후에 별도로 보완 시도)</font>\n",
    "</div>"
   ]
  },
  {
   "cell_type": "markdown",
   "metadata": {},
   "source": [
    "### 4.3.2 SibSp 로 분석하기\n",
    "- Age, **SibSp**, Parch, Fare\n",
    "- **SibSp** : #명의 형제자매/와이프와 동승했는지를 나타냄 (형제자매/와이프가 동승하지 않았으면 0)"
   ]
  },
  {
   "cell_type": "code",
   "execution_count": null,
   "metadata": {},
   "outputs": [],
   "source": [
    "# 초기화 코드 (본 노트북을 중간부터 보실 수 있으므로, 수시로 초기화(?) 코드를 넣어놓기로 함)\n",
    "import pandas as pd\n",
    "\n",
    "train = pd.read_csv('titanic/train.csv')\n",
    "test = pd.read_csv('titanic/test.csv')"
   ]
  },
  {
   "cell_type": "markdown",
   "metadata": {},
   "source": [
    "<div class=\"alert alert-block\" style=\"border: 2px solid #E65100;background-color:#FFF3E0;padding:10px\">\n",
    "<font size=\"4em\" style=\"font-weight:bold;color:#BF360C;\">머신러닝 2-2-1 단계: 수치형 데이터 describe(), 5 number summary  확인</font>\n",
    "</div>             "
   ]
  },
  {
   "cell_type": "code",
   "execution_count": null,
   "metadata": {},
   "outputs": [],
   "source": [
    "train['SibSp'].describe()  "
   ]
  },
  {
   "cell_type": "markdown",
   "metadata": {},
   "source": [
    "<div class=\"alert alert-block\" style=\"border: 2px solid #E65100;background-color:#FFF3E0;padding:10px\">\n",
    "<font size=\"4em\" style=\"font-weight:bold;color:#BF360C;\">머신러닝 2-2-2 단계: 수치형 데이터 isnull().sum(), null 값  확인</font>\n",
    "</div>    "
   ]
  },
  {
   "cell_type": "code",
   "execution_count": null,
   "metadata": {},
   "outputs": [],
   "source": [
    "train['SibSp'].isnull().sum()"
   ]
  },
  {
   "cell_type": "markdown",
   "metadata": {},
   "source": [
    "<div class=\"alert alert-block\" style=\"border: 2px solid #E65100;background-color:#FFF3E0;padding:10px\">\n",
    "<font size=\"4em\" style=\"font-weight:bold;color:#BF360C;\">머신러닝 2-2-3 단계: 수치형 데이터 시각화해보기</font>\n",
    "</div>    "
   ]
  },
  {
   "cell_type": "code",
   "execution_count": null,
   "metadata": {},
   "outputs": [],
   "source": [
    "train_sibsp = train.copy()\n",
    "sibsp_counts = train_sibsp.groupby(['SibSp', 'Survived']).size().unstack(fill_value=0)\n",
    "sibsp_counts.columns = ['Dead', 'Survived']\n",
    "sibsp_counts.head()"
   ]
  },
  {
   "cell_type": "code",
   "execution_count": null,
   "metadata": {},
   "outputs": [],
   "source": [
    "import plotly.graph_objects as go  # 임포트: Plotly의 그래프 객체 모듈을 불러옴\n",
    "\n",
    "df = sibsp_counts.reset_index()\n",
    "\n",
    "# 1. Figure 객체를 생성합니다.\n",
    "fig = go.Figure()\n",
    "\n",
    "# 2. 'Dead' 데이터를 표시하는 Bar trace를 추가합니다.\n",
    "fig.add_trace(\n",
    "    go.Bar(\n",
    "        x=df['SibSp'],        # x축: SibSp (형제/배우자 수)\n",
    "        y=df['Dead'],         # y축: Dead 수\n",
    "        name='Dead',          # 범례에 표시될 이름\n",
    "        marker_color='blue',  # 막대 색상: 파란색\n",
    "        opacity=0.5           # 막대 투명도: 50%\n",
    "    )\n",
    ")\n",
    "\n",
    "# 3. 'Survived' 데이터를 표시하는 Bar trace를 추가합니다.\n",
    "fig.add_trace(\n",
    "    go.Bar(\n",
    "        x=df['SibSp'],           # x축: SibSp\n",
    "        y=df['Survived'],        # y축: Survived 수\n",
    "        name='Survived',         # 범례에 표시될 이름\n",
    "        marker_color='orange',   # 막대 색상: 주황색\n",
    "        opacity=0.5              # 막대 투명도: 50%\n",
    "    )\n",
    ")\n",
    "\n",
    "# 4. 레이아웃을 업데이트하여 막대들을 겹쳐서(overlaid) 표시하도록 설정합니다.\n",
    "fig.update_layout(\n",
    "    barmode='overlay',  # barmode 옵션:\n",
    "                         #   - 'group': 막대들이 나란히 표시됨 (기본값)\n",
    "                         #   - 'stack': 막대들이 위로 누적됨\n",
    "                         #   - 'relative': 양수/음수로 분리하여 누적됨\n",
    "                         #   - 'overlay': 막대들이 겹쳐서 표시됨\n",
    "    title='Survival Counts by SibSp (Overlaid)'  # 그래프 제목\n",
    ")\n",
    "\n",
    "# 5. 그래프를 출력합니다.\n",
    "fig.show()"
   ]
  },
  {
   "cell_type": "markdown",
   "metadata": {},
   "source": [
    "<div class=\"alert alert-block\" style=\"border: 1px solid #FFB300;background-color:#F9FBE7;\">\n",
    "<font size=\"3em\" style=\"font-weight:bold;color:#3f8dbf;\">형제자매/와이프와 동승하지 않은 경우와, 동승한 경우로 나눠서 본다면, 동승하지 않은 경우는 사망률이 높아보임</font><br>\n",
    "    <font size=\"4em\" style=\"font-weight:bold;color:#BF360C;\">SibSp 도 사망 여부에 영향을 미칠 가능성이 있는 요소임을 확인할 수 있음</font></div>"
   ]
  },
  {
   "cell_type": "markdown",
   "metadata": {},
   "source": [
    "### 4.3.2 Parch 로 분석하기\n",
    "- Age, SibSp, **Parch**, Fare\n",
    "- **Parch** : #명의 부모/아이와 동승했는지를 나타냄 (부모/아이가 동승하지 않았으면 0)\n",
    "  - SibSp 와 유사한 데이터"
   ]
  },
  {
   "cell_type": "code",
   "execution_count": null,
   "metadata": {},
   "outputs": [],
   "source": [
    "# 초기화 코드 (본 노트북을 중간부터 보실 수 있으므로, 수시로 초기화(?) 코드를 넣어놓기로 함)\n",
    "import pandas as pd\n",
    "\n",
    "train = pd.read_csv('titanic/train.csv')\n",
    "test = pd.read_csv('titanic/test.csv')"
   ]
  },
  {
   "cell_type": "markdown",
   "metadata": {},
   "source": [
    "<div class=\"alert alert-block\" style=\"border: 2px solid #E65100;background-color:#FFF3E0;padding:10px\">\n",
    "<font size=\"4em\" style=\"font-weight:bold;color:#BF360C;\">머신러닝 2-2-1 단계: 수치형 데이터 describe(), 5 number summary  확인</font>\n",
    "</div>             "
   ]
  },
  {
   "cell_type": "code",
   "execution_count": null,
   "metadata": {},
   "outputs": [],
   "source": [
    "train['Parch'].describe()  "
   ]
  },
  {
   "cell_type": "markdown",
   "metadata": {},
   "source": [
    "<div class=\"alert alert-block\" style=\"border: 2px solid #E65100;background-color:#FFF3E0;padding:10px\">\n",
    "<font size=\"4em\" style=\"font-weight:bold;color:#BF360C;\">머신러닝 2-2-2 단계: 수치형 데이터 isnull().sum(), null 값  확인</font>\n",
    "</div>    "
   ]
  },
  {
   "cell_type": "code",
   "execution_count": null,
   "metadata": {},
   "outputs": [],
   "source": [
    "train['Parch'].isnull().sum()"
   ]
  },
  {
   "cell_type": "markdown",
   "metadata": {},
   "source": [
    "<div class=\"alert alert-block\" style=\"border: 2px solid #E65100;background-color:#FFF3E0;padding:10px\">\n",
    "<font size=\"4em\" style=\"font-weight:bold;color:#BF360C;\">머신러닝 1-6-3 단계: 수치형 데이터 시각화해보기</font>\n",
    "</div>    "
   ]
  },
  {
   "cell_type": "code",
   "execution_count": null,
   "metadata": {},
   "outputs": [],
   "source": [
    "train_parch = train.copy()\n",
    "parch_counts = train_parch.groupby(['Parch', 'Survived']).size().unstack(fill_value=0)\n",
    "parch_counts.columns = ['Dead', 'Survived']\n",
    "parch_counts.head()"
   ]
  },
  {
   "cell_type": "code",
   "execution_count": null,
   "metadata": {},
   "outputs": [],
   "source": [
    "import plotly.graph_objects as go\n",
    "\n",
    "# 1. 그룹화 결과의 인덱스(Parch)를 컬럼으로 변환하여 사용합니다.\n",
    "df = parch_counts.reset_index()\n",
    "\n",
    "# 2. Figure 객체를 생성합니다.\n",
    "fig = go.Figure()\n",
    "\n",
    "# 3. 'Dead' 데이터를 표시하는 Bar trace를 추가합니다.\n",
    "fig.add_trace(\n",
    "    go.Bar(\n",
    "        x=df['Parch'],         # x축: Parch (부모/자녀 수)\n",
    "        y=df['Dead'],          # y축: Dead 수\n",
    "        name='Dead',           # 범례에 표시될 이름\n",
    "        marker_color='blue',   # 막대 색상: 파란색\n",
    "        opacity=0.5            # 막대 투명도: 50%\n",
    "    )\n",
    ")\n",
    "\n",
    "# 4. 'Survived' 데이터를 표시하는 Bar trace를 추가합니다.\n",
    "fig.add_trace(\n",
    "    go.Bar(\n",
    "        x=df['Parch'],           # x축: Parch\n",
    "        y=df['Survived'],        # y축: Survived 수\n",
    "        name='Survived',         # 범례에 표시될 이름\n",
    "        marker_color='orange',   # 막대 색상: 주황색\n",
    "        opacity=0.5              # 막대 투명도: 50%\n",
    "    )\n",
    ")\n",
    "\n",
    "# 5. 레이아웃 업데이트: 막대들을 겹쳐서(overlaid) 표시하도록 설정합니다.\n",
    "fig.update_layout(\n",
    "    barmode='overlay',  # barmode 옵션:\n",
    "                         #   - 'group': 막대들이 나란히 표시됨 (기본값)\n",
    "                         #   - 'stack': 막대들이 위로 누적됨\n",
    "                         #   - 'relative': 양수/음수로 분리하여 누적됨\n",
    "                         #   - 'overlay': 막대들이 겹쳐서 표시됨\n",
    "    title='Survival Counts by Parch (Overlaid)'  # 그래프 제목\n",
    ")\n",
    "\n",
    "# 6. 그래프 출력\n",
    "fig.show()"
   ]
  },
  {
   "cell_type": "markdown",
   "metadata": {},
   "source": [
    "### 4.3.3 Parch + SibSp 로 추가 분석하기\n",
    "- Age, **SibSp, Parch**, Fare\n",
    "- **SibSp** : #명의 형제자매/와이프와 동승했는지를 나타냄 (형제자매/와이프가 동승하지 않았으면 0)\n",
    "- **Parch** : #명의 부모/아이와 동승했는지를 나타냄 (부모/아이가 동승하지 않았으면 0)\n"
   ]
  },
  {
   "cell_type": "markdown",
   "metadata": {},
   "source": [
    "<div class=\"alert alert-block\" style=\"border: 1px solid #FFB300;background-color:#F9FBE7;\">\n",
    "<font size=\"4em\" style=\"font-weight:bold;color:#BF360C;\">\n",
    "    SibSp 와 Parch 가 유사하므로 두 값을 합쳐서, 탐색해보기\n",
    "</font>\n",
    "</div>"
   ]
  },
  {
   "cell_type": "code",
   "execution_count": null,
   "metadata": {},
   "outputs": [],
   "source": [
    "train_family = train.copy()\n",
    "train_family[\"FamilySize\"] = train_family[\"SibSp\"] + train_family[\"Parch\"]\n",
    "family_counts = train_family.groupby([\"FamilySize\", \"Survived\"]).size().unstack(fill_value=0)\n",
    "family_counts.columns = ['Dead', 'Survived']\n",
    "family_counts.head()"
   ]
  },
  {
   "cell_type": "code",
   "execution_count": null,
   "metadata": {},
   "outputs": [],
   "source": [
    "import plotly.graph_objects as go\n",
    "\n",
    "# 1. 그룹화 결과의 인덱스(FamilySize)를 컬럼으로 변환하여 사용합니다.\n",
    "df = family_counts.reset_index()\n",
    "\n",
    "# 2. Figure 객체를 생성합니다.\n",
    "fig = go.Figure()\n",
    "\n",
    "# 3. 'Dead' 데이터를 표시하는 Bar trace를 추가합니다.\n",
    "fig.add_trace(\n",
    "    go.Bar(\n",
    "        x=df['FamilySize'],       # x축: FamilySize (가족 구성원 수)\n",
    "        y=df['Dead'],             # y축: Dead 수\n",
    "        name='Dead',              # 범례에 표시될 이름\n",
    "        marker_color='blue',      # 막대 색상: 파란색\n",
    "        opacity=0.5               # 막대 투명도: 50%\n",
    "    )\n",
    ")\n",
    "\n",
    "# 4. 'Survived' 데이터를 표시하는 Bar trace를 추가합니다.\n",
    "fig.add_trace(\n",
    "    go.Bar(\n",
    "        x=df['FamilySize'],       # x축: FamilySize\n",
    "        y=df['Survived'],         # y축: Survived 수\n",
    "        name='Survived',          # 범례에 표시될 이름\n",
    "        marker_color='orange',    # 막대 색상: 주황색\n",
    "        opacity=0.5               # 막대 투명도: 50%\n",
    "    )\n",
    ")\n",
    "\n",
    "# 5. 레이아웃 업데이트: 막대들을 겹쳐서(overlaid) 표시하도록 설정합니다.\n",
    "fig.update_layout(\n",
    "    barmode='overlay',  # barmode 옵션:\n",
    "                         #   - 'group': 막대들이 나란히 표시됨 (기본값)\n",
    "                         #   - 'stack': 막대들이 위로 누적됨\n",
    "                         #   - 'relative': 양수/음수로 분리하여 누적됨\n",
    "                         #   - 'overlay': 막대들이 겹쳐서 표시됨\n",
    "    title='Survival Counts by FamilySize (Overlaid)'  # 그래프 제목\n",
    ")\n",
    "\n",
    "# 6. 그래프 출력\n",
    "fig.show()"
   ]
  },
  {
   "cell_type": "markdown",
   "metadata": {},
   "source": [
    "<div class=\"alert alert-block\" style=\"border: 1px solid #FFB300;background-color:#F9FBE7;\">\n",
    "<font size=\"3em\" style=\"font-weight:bold;color:#3f8dbf;\">SibSp 와 Parch 를 별도로 구분할 때보다, 합쳤을 때, 보다 경향성이 보임</font><br>    \n",
    "<font size=\"3em\" style=\"font-weight:bold;color:#3f8dbf;\">형제/자매/와이프/자녀 1명 이상 ~ 3명과 함께 동승했을 때는, 생존 가능성이 높고, 이외에는 낮은 것으로 확인됨</font><br>\n",
    "    <font size=\"4em\" style=\"font-weight:bold;color:#BF360C;\">따라서, SibSp + Parch 를 합쳐서, 다루면 보다 유의미할 것이며, <br> SibSp + Parch 는 사망 여부에 영향을 미칠 가능성 높은 요소임을 확인할 수 있음</font></div>"
   ]
  },
  {
   "cell_type": "markdown",
   "metadata": {},
   "source": [
    "### 4.3.4 Fare 로 추가 분석하기\n",
    "- Age, SibSp, Parch, **Fare**"
   ]
  },
  {
   "cell_type": "code",
   "execution_count": null,
   "metadata": {},
   "outputs": [],
   "source": [
    "# 초기화 코드 (본 노트북을 중간부터 보실 수 있으므로, 수시로 초기화(?) 코드를 넣어놓기로 함)\n",
    "import pandas as pd\n",
    "\n",
    "train = pd.read_csv('titanic/train.csv')\n",
    "test = pd.read_csv('titanic/test.csv')"
   ]
  },
  {
   "cell_type": "markdown",
   "metadata": {},
   "source": [
    "<div class=\"alert alert-block\" style=\"border: 2px solid #E65100;background-color:#FFF3E0;padding:10px\">\n",
    "<font size=\"4em\" style=\"font-weight:bold;color:#BF360C;\">머신러닝 2-2-1 단계: 수치형 데이터 describe(), 5 number summary  확인</font>\n",
    "</div>        "
   ]
  },
  {
   "cell_type": "code",
   "execution_count": null,
   "metadata": {},
   "outputs": [],
   "source": [
    "train['Fare'].describe()"
   ]
  },
  {
   "cell_type": "markdown",
   "metadata": {},
   "source": [
    "<div class=\"alert alert-block\" style=\"border: 2px solid #E65100;background-color:#FFF3E0;padding:10px\">\n",
    "<font size=\"4em\" style=\"font-weight:bold;color:#BF360C;\">머신러닝 2-2-2 단계: 수치형 데이터 isnull().sum(), null 값  확인</font>\n",
    "</div>   "
   ]
  },
  {
   "cell_type": "code",
   "execution_count": null,
   "metadata": {},
   "outputs": [],
   "source": [
    "train['Fare'].isnull().sum()"
   ]
  },
  {
   "cell_type": "markdown",
   "metadata": {},
   "source": [
    "<div class=\"alert alert-block\" style=\"border: 2px solid #E65100;background-color:#FFF3E0;padding:10px\">\n",
    "<font size=\"4em\" style=\"font-weight:bold;color:#BF360C;\">머신러닝 2-2-3 단계: 수치형 데이터 시각화해보기</font>\n",
    "</div>    "
   ]
  },
  {
   "cell_type": "markdown",
   "metadata": {},
   "source": [
    "#### map() 사용법\n",
    "- **정의:**  \n",
    "  pandas의 `Series.map()`는 **딕셔너리**나 **함수**를 인자로 받아, 시리즈(Series)의 각 원소를 **대체**(변환)하는 데 사용됩니다.\n",
    "\n",
    "- **대표적인 활용 예:**  \n",
    "  - 숫자형 데이터를 문자형으로 바꾸고 싶을 때 (0 → \"Dead\", 1 → \"Survived\")  \n",
    "  - 특정 코드 값(R, G, B 등)을 사람이 읽기 쉬운 레이블(\"Red\", \"Green\", \"Blue\" 등)로 변경할 때  \n",
    "  - 함수를 이용해 시리즈의 각 값에 임의의 로직을 적용할 때\n",
    "\n",
    "- 문법\n",
    "```python\n",
    "Series.map(arg, na_action=None)\n",
    "```\n",
    "\n",
    "- **arg:**  \n",
    "  - **딕셔너리(Dictionary)**: `{기존값: 새값, ...}` 형태 또는 **함수(Function)**\n",
    "- **na_action:**  \n",
    "  - 기본값은 `None`으로, 결측치(NaN)가 있는 경우 해당 값을 그대로 유지합니다.  \n",
    "  - `ignore`로 설정하면 결측치는 변환에서 제외됩니다.\n"
   ]
  },
  {
   "cell_type": "code",
   "execution_count": null,
   "metadata": {},
   "outputs": [],
   "source": [
    "import pandas as pd\n",
    "\n",
    "# 예: 0과 1로 이루어진 Survived 시리즈\n",
    "survived_series = pd.Series([0, 1, 1, 0, 1])\n",
    "\n",
    "# map에 사용할 딕셔너리: 0은 'Dead', 1은 'Survived'로 매핑\n",
    "status_map = {0: \"Dead\", 1: \"Survived\"}\n",
    "\n",
    "# map()을 통해 시리즈의 각 값을 딕셔너리의 대응 값으로 변경\n",
    "outcome_series = survived_series.map(status_map)\n",
    "\n",
    "print(outcome_series)\n"
   ]
  },
  {
   "cell_type": "code",
   "execution_count": null,
   "metadata": {},
   "outputs": [],
   "source": [
    "# 1. 원본 train 데이터프레임을 수정하지 않기 위해 복사본을 만듭니다.\n",
    "#    Fare 분석을 위해 변수명을 train_fare로 사용합니다.\n",
    "train_fare = train.copy()"
   ]
  },
  {
   "cell_type": "code",
   "execution_count": null,
   "metadata": {},
   "outputs": [],
   "source": [
    "import plotly.express as px\n",
    "\n",
    "# 2. \"Survived\" 컬럼의 값(0 또는 1)을 사용하여, 생존 여부를 \"Dead\"와 \"Survived\"로 표시하는 새로운 컬럼 \"Outcome\"을 생성합니다.\n",
    "train_fare[\"Outcome\"] = train_fare[\"Survived\"].map({0: \"Dead\", 1: \"Survived\"})\n",
    "\n",
    "# 3. Plotly Express를 사용하여 Fare 분포를 히스토그램으로 시각화합니다.\n",
    "#    여기서는 barmode를 'overlay'로 설정하여 Dead와 Survived 데이터가 겹쳐(overlaid) 표시되도록 합니다.\n",
    "fig = px.histogram(\n",
    "    train_fare,                     # 데이터: Fare 분석을 위한 train_fare 복사본 사용\n",
    "    x=\"Fare\",                       # x축: Fare (요금)\n",
    "    color=\"Outcome\",                # 색상 구분: Outcome 컬럼 (\"Dead\" 또는 \"Survived\")\n",
    "    barmode=\"overlay\",              # 막대그래프 모드: overlay (막대들이 겹쳐서 표시됨)\n",
    "    nbins=50,                       # 히스토그램 구간(bin) 수: 50개 (필요에 따라 조정 가능)\n",
    "    title=\"Fare Distribution by Survival Status (Overlay)\"  # 그래프 제목\n",
    ")\n",
    "\n",
    "\n",
    "# 5. 생성된 그래프를 출력합니다.\n",
    "fig.show()"
   ]
  },
  {
   "cell_type": "markdown",
   "metadata": {},
   "source": [
    "<div class=\"alert alert-block\" style=\"border: 1px solid #FFB300;background-color:#F9FBE7;\">\n",
    "<font size=\"3em\" style=\"font-weight:bold;color:#3f8dbf;\">요금이 50 이상일 때는 생존 가능성이 높고, 이외에는 낮은 것으로 확인됨</font><br>\n",
    "    <font size=\"4em\" style=\"font-weight:bold;color:#BF360C;\">Fare 도 사망 여부에 영향을 미칠 가능성 높은 요소임을 확인할 수 있음</font></div>"
   ]
  },
  {
   "cell_type": "markdown",
   "metadata": {},
   "source": [
    "### 수치형 데이터 확인 결과\n",
    "- Age, SibSp, Parch, Fare\n",
    "\n",
    "<div class=\"alert alert-block\" style=\"border: 1px solid #FFB300;background-color:#F9FBE7;\">\n",
    "<font size=\"3em\" style=\"font-weight:bold;color:#3f8dbf;\">0 ~ 16세까지는 살아남은 분들이 많고, 50세 이상도 살아남은 분들이 좀더 많아 보이지만, 중간 나이는 사망자가 더 많아보임</font><br>\n",
    "    <font size=\"4em\" style=\"font-weight:bold;color:#BF360C;\">Age 는 사망 여부에 영향을 미칠 가능성이 높은 요소임을 확인할 수 있음</font><br>\n",
    "<font size=\"4em\" style=\"font-weight:bold;color:#BF360C;\">단, Age 값이 없는 행이 177개나 되므로, 분석에 한계가 있어보임 (이 부분은 후에 별도로 보완 시도)</font>\n",
    "</div>\n",
    "\n",
    "<div class=\"alert alert-block\" style=\"border: 1px solid #FFB300;background-color:#F9FBE7;\">\n",
    "<font size=\"3em\" style=\"font-weight:bold;color:#3f8dbf;\">형제/자매/와이프/자녀와 동승하지 않은 경우와, 동승한 경우로 나눠서 본다면, 동승하지 않은 경우는 사망률이 높아보임</font><br>\n",
    "    <font size=\"4em\" style=\"font-weight:bold;color:#BF360C;\">SibSp/Parch 도 사망 여부에 영향을 미칠 가능성이 있는 요소임을 확인할 수 있음</font></div>\n",
    "    \n",
    "<div class=\"alert alert-block\" style=\"border: 1px solid #FFB300;background-color:#F9FBE7;\">\n",
    "<font size=\"3em\" style=\"font-weight:bold;color:#3f8dbf;\">형제/자매/와이프/자녀 1명 이상 ~ 3명과 함께 동승했을 때는, 생존 가능성이 높고, 이외에는 낮은 것으로 확인됨</font><br>\n",
    "    <font size=\"4em\" style=\"font-weight:bold;color:#BF360C;\">SibSp + Parch 도 사망 여부에 영향을 미칠 가능성 높은 요소임을 확인할 수 있음</font></div>\n",
    "\n",
    "<div class=\"alert alert-block\" style=\"border: 1px solid #FFB300;background-color:#F9FBE7;\">\n",
    "<font size=\"3em\" style=\"font-weight:bold;color:#3f8dbf;\">요금이 50 이상일 때는 생존 가능성이 높고, 이외에는 낮은 것으로 확인됨</font><br>\n",
    "    <font size=\"4em\" style=\"font-weight:bold;color:#BF360C;\">Fare 도 사망 여부에 영향을 미칠 가능성 높은 요소임을 확인할 수 있음</font></div>"
   ]
  },
  {
   "cell_type": "markdown",
   "metadata": {},
   "source": [
    "### 5. 나머지 feature 확인"
   ]
  },
  {
   "cell_type": "code",
   "execution_count": null,
   "metadata": {},
   "outputs": [],
   "source": [
    "# 초기화 코드 (본 노트북을 중간부터 보실 수 있으므로, 수시로 초기화(?) 코드를 넣어놓기로 함)\n",
    "import pandas as pd\n",
    "\n",
    "train = pd.read_csv('titanic/train.csv')\n",
    "test = pd.read_csv('titanic/test.csv')\n",
    "train.head()"
   ]
  },
  {
   "cell_type": "markdown",
   "metadata": {},
   "source": [
    "### 5.1 PassengerId"
   ]
  },
  {
   "cell_type": "code",
   "execution_count": null,
   "metadata": {},
   "outputs": [],
   "source": [
    "train['PassengerId'].describe()"
   ]
  },
  {
   "cell_type": "code",
   "execution_count": null,
   "metadata": {},
   "outputs": [],
   "source": [
    "train['PassengerId'].isnull().sum()"
   ]
  },
  {
   "cell_type": "code",
   "execution_count": null,
   "metadata": {},
   "outputs": [],
   "source": [
    "# 1. 원본 train 데이터프레임을 수정하지 않기 위해 복사본을 만듭니다.\n",
    "#    이번에는 PassengerId 분석을 위해 변수명을 train_passenger로 사용합니다.\n",
    "train_passenger = train.copy()"
   ]
  },
  {
   "cell_type": "code",
   "execution_count": null,
   "metadata": {},
   "outputs": [],
   "source": [
    "import plotly.express as px  # Plotly Express 임포트\n",
    "\n",
    "# 2. \"Survived\" 컬럼의 값(0 또는 1)을 사용하여, 생존 여부를 \"Dead\"와 \"Survived\"로 표시하는 새로운 컬럼 \"Outcome\"을 생성합니다.\n",
    "train_passenger[\"Outcome\"] = train_passenger[\"Survived\"].map({0: \"Dead\", 1: \"Survived\"})\n",
    "\n",
    "# 3. Plotly Express를 사용하여 PassengerId 분포를 히스토그램으로 시각화합니다.\n",
    "#    여기서는 barmode를 'overlay'로 설정하여 Dead와 Survived 데이터가 겹쳐(overlaid) 표시되도록 합니다.\n",
    "#    또한, x축 범위를 0에서 1000으로 설정하고, 50개의 구간(bin)을 사용합니다.\n",
    "fig = px.histogram(\n",
    "    train_passenger,                     # 데이터: PassengerId 분석을 위한 train_passenger 복사본 사용\n",
    "    x=\"PassengerId\",                     # x축: PassengerId\n",
    "    color=\"Outcome\",                     # 색상 구분: Outcome 컬럼 (\"Dead\" 또는 \"Survived\")\n",
    "    barmode=\"overlay\",                   # 막대그래프 모드: overlay (막대들이 겹쳐서 표시됨)\n",
    "    nbins=50,                            # 히스토그램 구간(bin) 수: 50개\n",
    "    range_x=[0, 1000],                   # x축 범위: 0에서 1000까지\n",
    "    title=\"PassengerId Distribution by Survival Status (Overlay)\"  # 그래프 제목\n",
    ")\n",
    "\n",
    "# 4. 생성된 그래프를 출력합니다.\n",
    "fig.show()"
   ]
  },
  {
   "cell_type": "markdown",
   "metadata": {},
   "source": [
    "<div class=\"alert alert-block\" style=\"border: 1px solid #FFB300;background-color:#F9FBE7;\">\n",
    "<font size=\"3em\" style=\"font-weight:bold;color:#3f8dbf;\">큰 맥락은 없어보이지만, 특이사항으로 PassengerId 가 300 ~ 350 사이는 특이하게 생존률이 높음</font><br>\n",
    "    <font size=\"4em\" style=\"font-weight:bold;color:#BF360C;\">PassengerId 는 사망 여부에 영향을 미칠 요소는 아닌 듯 함</font></div>"
   ]
  },
  {
   "cell_type": "markdown",
   "metadata": {},
   "source": [
    "### 5.2 Name"
   ]
  },
  {
   "cell_type": "code",
   "execution_count": null,
   "metadata": {},
   "outputs": [],
   "source": [
    "# 초기화 코드 (본 노트북을 중간부터 보실 수 있으므로, 수시로 초기화(?) 코드를 넣어놓기로 함)\n",
    "import pandas as pd\n",
    "\n",
    "train = pd.read_csv('titanic/train.csv')\n",
    "test = pd.read_csv('titanic/test.csv')"
   ]
  },
  {
   "cell_type": "code",
   "execution_count": null,
   "metadata": {},
   "outputs": [],
   "source": [
    "train[['Name', 'Survived']].head(50)"
   ]
  },
  {
   "cell_type": "code",
   "execution_count": null,
   "metadata": {},
   "outputs": [],
   "source": [
    "train['Name'].isnull().sum() # null 값 확인"
   ]
  },
  {
   "cell_type": "markdown",
   "metadata": {},
   "source": [
    "<div class=\"alert alert-block\" style=\"border: 2px solid #E65100;background-color:#FFF3E0;padding:10px\">\n",
    "<font size=\"4em\" style=\"font-weight:bold;color:#BF360C;\">머신러닝 2-3 단계: 데이터에서 추가 정보를 추출해서 탐색해보기</font>\n",
    "</div>      "
   ]
  },
  {
   "cell_type": "code",
   "execution_count": null,
   "metadata": {},
   "outputs": [],
   "source": [
    "# 'Name'과 'Survived' 컬럼만 선택하여 별도의 데이터프레임으로 복사하고, 변수명을 train_title로 설정합니다.\n",
    "train_title = train[['Name', 'Survived']].copy()"
   ]
  },
  {
   "cell_type": "markdown",
   "metadata": {},
   "source": [
    "#### 시리즈.str.extract(정규표현식) : 시리즈 각 행에서 정규표현식에 맞는 문자열 추출\n",
    "   - expand=True 이면, 데이터프레임 리턴, expand=False 이면 시리즈 리턴\n",
    "\n",
    "- **Raw 문자열 (r\"문자열\")의 개념:**  \n",
    "  - 문자열 앞에 `r` 또는 `R`을 붙이면, 해당 문자열을 raw string으로 취급합니다.  \n",
    "  - Raw string은 백슬래시(`\\`)를 이스케이프 문자로 해석하지 않고, 문자 그대로 처리합니다.\n",
    "\n",
    "- **r을 사용하지 않을 경우 발생하는 문제:**  \n",
    "  - 일반 문자열에서는 백슬래시가 이스케이프 문자로 사용되므로, `\"\\.\"`처럼 사용하면 잘못된 이스케이프 시퀀스로 인식되어 SyntaxWarning이 발생할 수 있습니다.  \n",
    "  - 올바른 문자열을 표현하려면 `\"\\\\.\"`와 같이 백슬래시를 두 번 써야 하는 번거로움과 가독성 저하가 있습니다."
   ]
  },
  {
   "cell_type": "code",
   "execution_count": null,
   "metadata": {},
   "outputs": [],
   "source": [
    "train_title['Title'] = train_title['Name'].str.extract(r' ([A-Za-z]+)\\.', expand=False)"
   ]
  },
  {
   "cell_type": "markdown",
   "metadata": {},
   "source": [
    "#### Series 로 feature를 보다 상세하게 탐색하기\n",
    "- size : 사이즈 반환\n",
    "- count() : 데이터가 없는 경우를 뺀 사이즈 반환\n",
    "- unique(): 유일한 값만 반환\n",
    "- value_counts(): 데이터가 없는 경우를 제외하고, 각 값의 갯수를 반환"
   ]
  },
  {
   "cell_type": "code",
   "execution_count": null,
   "metadata": {},
   "outputs": [],
   "source": [
    "train_title['Title'].value_counts()"
   ]
  },
  {
   "cell_type": "markdown",
   "metadata": {},
   "source": [
    "#### 추출한 데이터는 결국, 범주형 데이터가 되므로, 히스토그램 그려보기"
   ]
  },
  {
   "cell_type": "code",
   "execution_count": null,
   "metadata": {},
   "outputs": [],
   "source": [
    "import plotly.express as px  # Plotly Express 임포트\n",
    "\n",
    "# 2. \"Survived\" 컬럼의 값(0 또는 1)을 사용하여, 생존 여부를 \"Dead\"와 \"Survived\"로 표시하는 새로운 컬럼 \"Outcome\"을 생성합니다.\n",
    "train_title[\"Outcome\"] = train_title[\"Survived\"].map({0: \"Dead\", 1: \"Survived\"})\n",
    "\n",
    "# 3. Plotly Express를 사용하여 Title 분포를 히스토그램으로 시각화합니다.\n",
    "#    여기서는 barmode를 'overlay'로 설정하여 Dead와 Survived 데이터가 겹쳐(overlaid) 표시되도록 합니다.\n",
    "fig = px.histogram(\n",
    "    train_title,                                    # 데이터: train_title 데이터프레임 사용\n",
    "    x=\"Title\",                                      # x축: Title (호칭)\n",
    "    color=\"Outcome\",                                # 색상 구분: Outcome 컬럼 (\"Dead\" 또는 \"Survived\")\n",
    "    barmode=\"overlay\",                              # 막대그래프 모드: overlay (막대들이 겹쳐서 표시됨)\n",
    "    title=\"Title Distribution by Survival Status (Overlay)\"  # 그래프 제목\n",
    ")\n",
    "\n",
    "# 4. 생성된 그래프를 출력합니다.\n",
    "fig.show()"
   ]
  },
  {
   "cell_type": "markdown",
   "metadata": {},
   "source": [
    "<div class=\"alert alert-block\" style=\"border: 1px solid #FFB300;background-color:#F9FBE7;\">\n",
    "<font size=\"3em\" style=\"font-weight:bold;color:#3f8dbf;\">원 데이터에서 새로운 데이터를 도출해서, 의미있는 데이터를 만들 수 있음</font><br>\n",
    "<font size=\"3em\" style=\"font-weight:bold;color:#3f8dbf;\">Mr 는 사망률이 높고, Mrs, Miss, Master 는 생존률이 높음</font><br>\n",
    "<font size=\"4em\" style=\"font-weight:bold;color:#BF360C;\">타이틀은 사망 여부에 영향을 미칠 요소일 가능성이 높음</font></div>"
   ]
  },
  {
   "cell_type": "markdown",
   "metadata": {},
   "source": [
    "### 5.3 Ticket"
   ]
  },
  {
   "cell_type": "code",
   "execution_count": null,
   "metadata": {},
   "outputs": [],
   "source": [
    "# 초기화 코드 (본 노트북을 중간부터 보실 수 있으므로, 수시로 초기화(?) 코드를 넣어놓기로 함)\n",
    "import pandas as pd\n",
    "\n",
    "train = pd.read_csv('titanic/train.csv')\n",
    "test = pd.read_csv('titanic/test.csv')\n",
    "train.head()"
   ]
  },
  {
   "cell_type": "code",
   "execution_count": null,
   "metadata": {},
   "outputs": [],
   "source": [
    "train[['Ticket', 'Survived']].head(60)"
   ]
  },
  {
   "cell_type": "code",
   "execution_count": null,
   "metadata": {},
   "outputs": [],
   "source": [
    "train['Ticket'].isnull().sum() # null 값 확인"
   ]
  },
  {
   "cell_type": "markdown",
   "metadata": {},
   "source": [
    "<div class=\"alert alert-block\" style=\"border: 2px solid #E65100;background-color:#FFF3E0;padding:10px\">\n",
    "<font size=\"4em\" style=\"font-weight:bold;color:#BF360C;\">머신러닝 2-3 단계: 데이터에서 추가 정보를 추출해서 탐색해보기</font>\n",
    "</div>      "
   ]
  },
  {
   "cell_type": "markdown",
   "metadata": {},
   "source": [
    "#### 시리즈.str.contains(문자열) : 시리즈 각 행에서 문자열을 포함하는지를 True/False 로 리턴해줌"
   ]
  },
  {
   "cell_type": "code",
   "execution_count": null,
   "metadata": {},
   "outputs": [],
   "source": [
    "# 1. 원본 train 데이터프레임을 수정하지 않기 위해 복사본을 만듭니다.\n",
    "#    이번에는 Ticket 분석을 위해 변수명을 train_ticket로 사용합니다.\n",
    "train_ticket = train.copy()"
   ]
  },
  {
   "cell_type": "code",
   "execution_count": null,
   "metadata": {},
   "outputs": [],
   "source": [
    "# 2. 'Ticket' 컬럼의 값을 기반으로, 'A' 문자가 포함되어 있는지 여부를 판단하여\n",
    "#    새로운 부울형 컬럼 'TicketTag'를 생성합니다.\n",
    "# 'str.contains()'는 각 문자열에 대해 특정 패턴이 포함되어 있는지 검사하는 pandas 메서드입니다.\n",
    "# - 첫 번째 인자인 'A'는 검색할 패턴을 지정합니다.\n",
    "# - 'case=False' 옵션은 대소문자를 구분하지 않고 ('a' 또는 'A') 모두 검색하도록 설정합니다.\n",
    "# 결과로, 각 Ticket 값에 대해 'A' 또는 'a'가 포함되어 있으면 True, 그렇지 않으면 False가 반환됩니다.\n",
    "# 이 부울형 값들을 새로운 컬럼 'TicketTag'에 저장합니다.\n",
    "train_ticket['TicketTag'] = train_ticket['Ticket'].str.contains('A', case=False)"
   ]
  },
  {
   "cell_type": "code",
   "execution_count": null,
   "metadata": {},
   "outputs": [],
   "source": [
    "# 3. 'TicketTag'와 'Survived'를 기준으로 그룹화하여 각 그룹의 개수를 계산합니다.\n",
    "#    unstack(fill_value=0)를 사용하여 계층적 인덱스를 DataFrame 형태로 변환하고,\n",
    "#    존재하지 않는 그룹은 0으로 채웁니다.\n",
    "ticket_counts = train_ticket.groupby(['TicketTag', 'Survived']).size().unstack(fill_value=0)\n",
    "ticket_counts.head()"
   ]
  },
  {
   "cell_type": "code",
   "execution_count": null,
   "metadata": {},
   "outputs": [],
   "source": [
    "ticket_counts.columns = ['Dead', 'Survived']\n",
    "ticket_counts.head()"
   ]
  },
  {
   "cell_type": "code",
   "execution_count": null,
   "metadata": {},
   "outputs": [],
   "source": [
    "df_ticket = ticket_counts.reset_index()\n",
    "\n",
    "import plotly.graph_objects as go  # Plotly의 그래프 객체 모듈 임포트\n",
    "\n",
    "# 6. Figure 객체를 생성합니다.\n",
    "fig = go.Figure()\n",
    "\n",
    "# 7. 'Dead' 데이터를 표시하는 Bar trace를 추가합니다.\n",
    "fig.add_trace(\n",
    "    go.Bar(\n",
    "        x=df_ticket['TicketTag'],  # x축: TicketTag (A 문자가 포함되었는지 여부)\n",
    "        y=df_ticket['Dead'],       # y축: Dead 수\n",
    "        name='Dead',               # 범례에 표시될 이름\n",
    "        marker_color='blue',       # 막대 색상: 파란색\n",
    "        opacity=0.5                # 막대 투명도: 50%\n",
    "    )\n",
    ")\n",
    "\n",
    "# 8. 'Survived' 데이터를 표시하는 Bar trace를 추가합니다.\n",
    "fig.add_trace(\n",
    "    go.Bar(\n",
    "        x=df_ticket['TicketTag'],   # x축: TicketTag\n",
    "        y=df_ticket['Survived'],      # y축: Survived 수\n",
    "        name='Survived',            # 범례에 표시될 이름\n",
    "        marker_color='orange',      # 막대 색상: 주황색\n",
    "        opacity=0.5                 # 막대 투명도: 50%\n",
    "    )\n",
    ")\n",
    "\n",
    "# 9. 레이아웃 업데이트: 막대들을 겹쳐서(overlaid) 표시하도록 설정합니다.\n",
    "fig.update_layout(\n",
    "    barmode='overlay',  # barmode 옵션:\n",
    "                         #   - 'group': 막대들이 나란히 표시됨 (기본값)\n",
    "                         #   - 'stack': 막대들이 위로 누적됨\n",
    "                         #   - 'relative': 양수/음수로 분리하여 누적됨\n",
    "                         #   - 'overlay': 막대들이 겹쳐서 표시됨\n",
    "    title='TicketTag Distribution by Survival Status (Overlay)'  # 그래프 제목\n",
    ")\n",
    "\n",
    "# 10. 생성된 그래프를 출력합니다.\n",
    "fig.show()"
   ]
  },
  {
   "cell_type": "markdown",
   "metadata": {},
   "source": [
    "<div class=\"alert alert-block\" style=\"border: 1px solid #FFB300;background-color:#F9FBE7;\">\n",
    "<font size=\"4em\" style=\"font-weight:bold;color:#BF360C;\">Ticket은 아직까지는사망 여부에 영향을 미치지 않을 요소로 보임</font><br>\n",
    "<font size=\"4em\" style=\"font-weight:bold;color:#BF360C;\">(단, Ticket 번호 의미를 좀더 잘 알면, 유의미한 정보를 추출할 수도 있을 듯)</font></div>"
   ]
  },
  {
   "cell_type": "markdown",
   "metadata": {},
   "source": [
    "### 5.4 Cabin\n",
    "- 선실번호 (짐을 어디다 놓았는지)"
   ]
  },
  {
   "cell_type": "code",
   "execution_count": null,
   "metadata": {},
   "outputs": [],
   "source": [
    "# 초기화 코드 (본 노트북을 중간부터 보실 수 있으므로, 수시로 초기화(?) 코드를 넣어놓기로 함)\n",
    "import pandas as pd\n",
    "\n",
    "train = pd.read_csv('titanic/train.csv')\n",
    "test = pd.read_csv('titanic/test.csv')\n",
    "train.head()"
   ]
  },
  {
   "cell_type": "code",
   "execution_count": null,
   "metadata": {},
   "outputs": [],
   "source": [
    "train[['Cabin', 'Survived']].head(50)"
   ]
  },
  {
   "cell_type": "code",
   "execution_count": null,
   "metadata": {},
   "outputs": [],
   "source": [
    "train['Cabin'].isnull().sum() # null 값 확인"
   ]
  },
  {
   "cell_type": "markdown",
   "metadata": {},
   "source": [
    "<div class=\"alert alert-block\" style=\"border: 1px solid #FFB300;background-color:#F9FBE7;\">\n",
    "<font size=\"4em\" style=\"font-weight:bold;color:#BF360C;\">Cabin 은 70% 정도가 null값으로, 사망여부와 유의미한 데이터로 활용하기 어려울 듯</font><br>\n",
    "</div>"
   ]
  },
  {
   "cell_type": "markdown",
   "metadata": {},
   "source": [
    "## 핵심 패턴 정리\n",
    "\n",
    "- 머신러닝 데이터 탐색 (EDA)\n",
    "  - 머신러닝 1-1 단계: head() + tail() + 각 feature 의미 확인\n",
    "  - 머신러닝 1-2 단계: shape, 데이터 사이즈 확인\n",
    "  - 머신러닝 1-3 단계: info(), 데이터 타입 + Null 데이터 확인\n",
    "  - 머신러닝 1-4 단계: describe(), 5 number summary 확인\n",
    "  - 머신러닝 2-1 단계: 범주형 데이터 확인\n",
    "    - 머신러닝 2-1-1 단계: 범주형 데이터 level (수준) 값 확인\n",
    "    - 머신러닝 2-1-2 단계: 범주형 데이터 isnull().sum(), null 값 확인\n",
    "    - 머신러닝 2-1-3 단계: 범주형 데이터 level (수준) 별 갯수 세기\n",
    "  - 머신러닝 2-2 단계: 수치형 데이터 확인\n",
    "    - 머신러닝 2-2-1 단계: 수치형 데이터 describe(), 5 number summary 확인\n",
    "    - 머신러닝 2-2-2 단계: 수치형 데이터 isnull().sum(), null 값 확인\n",
    "    - 머신러닝 2-2-3 단계: 수치형 데이터 시각화해보기\n",
    "  - 머신러닝 2-3 단계: 데이터에서 추가 정보를 추출해서 탐색해보기    "
   ]
  },
  {
   "cell_type": "markdown",
   "metadata": {},
   "source": [
    "<div class=\"alert alert-block\" style=\"border: 2px solid #1976D2;background-color:#E3F2FD;padding:5px;font-size:0.9em;\">\n",
    "본 자료는 저작권법 제25조 2항에 의해 보호를 받습니다. 본 컨텐츠 및 컨텐츠 일부 문구등을 외부에 공개, 게시하지 말아주세요.<br>\n",
    "본 강의를 잘 정리하면, 데이터 분석과 데이터 과학(머신러닝, 인공지능) 모두 가능합니다!<br>\n",
    "<b><a href=\"https://school.fun-coding.org/\">잔재미코딩</a> 에서 본 강의 기반 최적화된 로드맵도 확인하실 수 있습니다</b>\n",
    "</div>"
   ]
  }
 ],
 "metadata": {
  "kernelspec": {
   "display_name": "Python 3 (ipykernel)",
   "language": "python",
   "name": "python3"
  },
  "language_info": {
   "codemirror_mode": {
    "name": "ipython",
    "version": 3
   },
   "file_extension": ".py",
   "mimetype": "text/x-python",
   "name": "python",
   "nbconvert_exporter": "python",
   "pygments_lexer": "ipython3",
   "version": "3.12.7"
  },
  "nbTranslate": {
   "displayLangs": [
    "*"
   ],
   "hotkey": "alt-t",
   "langInMainMenu": true,
   "sourceLang": "en",
   "targetLang": "fr",
   "useGoogleTranslate": true
  },
  "widgets": {
   "application/vnd.jupyter.widget-state+json": {
    "state": {},
    "version_major": 2,
    "version_minor": 0
   }
  }
 },
 "nbformat": 4,
 "nbformat_minor": 4
}
