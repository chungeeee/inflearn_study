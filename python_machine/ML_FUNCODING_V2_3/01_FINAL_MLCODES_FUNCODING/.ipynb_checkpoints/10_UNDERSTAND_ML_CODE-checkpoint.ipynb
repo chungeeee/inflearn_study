{
 "cells": [
  {
   "cell_type": "markdown",
   "metadata": {},
   "source": [
    "<div class=\"alert alert-block\" style=\"border: 2px solid #1976D2;background-color:#E3F2FD;padding:5px;font-size:0.9em;\">\n",
    "본 자료는 저작권법 제25조 2항에 의해 보호를 받습니다. 본 컨텐츠 및 컨텐츠 일부 문구등을 외부에 공개, 게시하지 말아주세요.<br>\n",
    "본 강의를 잘 정리하면, 데이터 분석과 데이터 과학(머신러닝, 인공지능) 모두 가능합니다!<br>\n",
    "<b><a href=\"https://school.fun-coding.org/\">잔재미코딩</a> 에서 본 강의 기반 최적화된 로드맵도 확인하실 수 있습니다</b>\n",
    "</div>"
   ]
  },
  {
   "cell_type": "markdown",
   "metadata": {},
   "source": [
    "### 설치\n",
    "- 아나콘다를 설치하셨다면, 별도 설치는 필요 없음\n",
    "- -U 옵션은 업데이트 옵션"
   ]
  },
  {
   "cell_type": "raw",
   "metadata": {},
   "source": [
    "!pip install -U scikit-learn"
   ]
  },
  {
   "cell_type": "markdown",
   "metadata": {},
   "source": [
    "### 데이터 가져오기\n",
    "- raw data 변환 및 데이터 전처리도 된 데이터로 이해하기로 함\n",
    "\n",
    "> 모든 데이터는 pandas Dataframe 으로 처리되므로, pandas 사용법에 어느 정도 익숙해지지 않으면, 머신러닝에 집중하기 어려움\n",
    "> 익숙하지 않다면, 처음하는 파이썬 데이터 분석 강의를 통해 pandas 와 EDA 기법 적용을 집중적으로 함께 익히세요~"
   ]
  },
  {
   "cell_type": "markdown",
   "metadata": {},
   "source": [
    "> 본 코드는 sk-learn 공식 문서에 기반한 예\n",
    "https://scipy-lectures.org/packages/scikit-learn/index.html"
   ]
  },
  {
   "cell_type": "code",
   "execution_count": null,
   "metadata": {},
   "outputs": [],
   "source": [
    "from sklearn.datasets import load_digits\n",
    "digits = load_digits()"
   ]
  },
  {
   "cell_type": "markdown",
   "metadata": {},
   "source": [
    "### 데이터와 정답 (샘플)\n",
    "- 실전 문제에서는 예측 성능을 높이기 위해, 모델에 데이터를 학습시키기 전, 매우 다양한 데이터 가공을 진행함\n",
    "- 이러한 과정은 이후 실전 문제에서 익히기로 함\n",
    "- 현 단계에서는 큰 그림으로 하나씩 이해하기로 함"
   ]
  },
  {
   "cell_type": "code",
   "execution_count": null,
   "metadata": {},
   "outputs": [],
   "source": [
    "digits['data'] # 각 이미지를 숫자화한 데이터"
   ]
  },
  {
   "cell_type": "code",
   "execution_count": null,
   "metadata": {},
   "outputs": [],
   "source": [
    "digits['target'] # 각 이미지에 대한 정답"
   ]
  },
  {
   "cell_type": "markdown",
   "metadata": {},
   "source": [
    "### 이미지 확인해보기\n",
    "- 화면에 잘 보여주기 위해, 특별히 만든 코드로, 관련 코드는 현단계에서는 결과만 확인하기로 함"
   ]
  },
  {
   "cell_type": "code",
   "execution_count": null,
   "metadata": {},
   "outputs": [],
   "source": [
    "from matplotlib import pyplot as plt\n",
    "%matplotlib inline \n",
    "fig = plt.figure(figsize=(6, 6))  # 각 이미지 사이즈 설정 (6x6)\n",
    "fig.subplots_adjust(left=0, right=1, bottom=0, top=1, hspace=0.05, wspace=0.05)\n",
    "\n",
    "for i in range(64):\n",
    "    ax = fig.add_subplot(8, 8, i + 1, xticks=[], yticks=[])\n",
    "    ax.imshow(digits.images[i], cmap=plt.cm.binary, interpolation='nearest')\n",
    "    ax.text(0, 7, str(digits.target[i]))"
   ]
  },
  {
   "cell_type": "markdown",
   "metadata": {},
   "source": [
    "### 훈련 집합과 테스트 집합 \n",
    "- 실제는 훈련 집합이 있고, 예측해야할 데이터가 있음\n",
    "- 훈련 집합을 정답이 있는 데이터와, 정답이 없는 데이터로 나눈 후에,\n",
    "  - 머신러닝 모델을 정답이 있는 데이터로 학습시키고\n",
    "  - 정답이 없는 데이터로 예측을 시킨 후,\n",
    "  - 실제 정답과 비교해서, 예측 성능 측정\n",
    "  - 이를 기반으로, 다양한 방법을 통해, 예측 성능 개선"
   ]
  },
  {
   "cell_type": "markdown",
   "metadata": {},
   "source": [
    "### 훈련 집합을 기반으로 테스트 집합 만들기\n",
    "> 역시 현단계에서는 코드는 신경쓰지 마세요\n",
    "- train_test_split() 리턴값\n",
    "  - X_train: 랜덤하게 뽑은 data\n",
    "  - X_test: 나머지 data\n",
    "  - y_train: 랜덤하게 뽑은 X_train 데이터에 대한 정답\n",
    "  - y_test: 나머지 X_test 데이터에 대한 정답"
   ]
  },
  {
   "cell_type": "code",
   "execution_count": null,
   "metadata": {},
   "outputs": [],
   "source": [
    "from sklearn.model_selection import train_test_split\n",
    "\n",
    "X_train, X_test, y_train, y_test = train_test_split(digits.data, digits.target)"
   ]
  },
  {
   "cell_type": "markdown",
   "metadata": {},
   "source": [
    "### 모델로 예측\n",
    "> 실제 예측 코드는 단 3줄\n",
    "1. 모델 생성\n",
    "2. 학습\n",
    "3. 예측"
   ]
  },
  {
   "cell_type": "markdown",
   "metadata": {},
   "source": [
    "#### 1. 모델 생성\n",
    "- 파이썬 프로그래밍으로 말하면, 객체 생성"
   ]
  },
  {
   "cell_type": "code",
   "execution_count": null,
   "metadata": {},
   "outputs": [],
   "source": [
    "from sklearn.naive_bayes import GaussianNB\n",
    "\n",
    "# 확률 분야의 Bayesian 정리를 기반으로 수학 기법이 추가된 모델식\n",
    "# 동일한 원리를 기반으로 하더라도, 다양한 수학 기법이 추가된 모델들이 있을 수 있음\n",
    "\n",
    "OneOfNavieBayesianModels = GaussianNB()"
   ]
  },
  {
   "cell_type": "markdown",
   "metadata": {},
   "source": [
    "#### 2. 학습\n",
    "> 단, 한줄"
   ]
  },
  {
   "cell_type": "code",
   "execution_count": null,
   "metadata": {},
   "outputs": [],
   "source": [
    "OneOfNavieBayesianModels.fit(X_train, y_train)"
   ]
  },
  {
   "cell_type": "markdown",
   "metadata": {},
   "source": [
    "#### 3. 예측\n",
    "- 예측한 정답을 리턴함"
   ]
  },
  {
   "cell_type": "code",
   "execution_count": null,
   "metadata": {},
   "outputs": [],
   "source": [
    "predicted = OneOfNavieBayesianModels.predict(X_test)"
   ]
  },
  {
   "cell_type": "markdown",
   "metadata": {},
   "source": [
    "### 성능 평가를 하고 싶다면...\n",
    "> 다음 코드는 특수한 코드로 눈으로도 볼 수 있도록 하는 코드이지만, 보통은 다양한 성능 평가식을 통해 예측 성능 평가"
   ]
  },
  {
   "cell_type": "code",
   "execution_count": null,
   "metadata": {},
   "outputs": [],
   "source": [
    "# Plot the prediction\n",
    "fig = plt.figure(figsize=(6, 6))  # figure size in inches\n",
    "fig.subplots_adjust(left=0, right=1, bottom=0, top=1, hspace=0.05, wspace=0.05)\n",
    "\n",
    "# plot the digits: each image is 8x8 pixels\n",
    "for i in range(64):\n",
    "    ax = fig.add_subplot(8, 8, i + 1, xticks=[], yticks=[])\n",
    "    ax.imshow(X_test.reshape(-1, 8, 8)[i], cmap=plt.cm.binary,\n",
    "              interpolation='nearest')\n",
    "\n",
    "    # label the image with the target value\n",
    "    if predicted[i] == y_test[i]:\n",
    "        ax.text(0, 7, str(predicted[i]), color='green')\n",
    "    else:\n",
    "        ax.text(0, 7, str(predicted[i]), color='red')\n",
    "\n",
    "# 2025.02.10 업데이트\n",
    "# 최근 버전에서는 그림 출력시 명시적으로 다음 코드를 넣어야 함 \n",
    "plt.show()        "
   ]
  },
  {
   "cell_type": "markdown",
   "metadata": {},
   "source": [
    "<div class=\"alert alert-block\" style=\"border: 2px solid #1976D2;background-color:#E3F2FD;padding:5px;font-size:0.9em;\">\n",
    "본 자료는 저작권법 제25조 2항에 의해 보호를 받습니다. 본 컨텐츠 및 컨텐츠 일부 문구등을 외부에 공개, 게시하지 말아주세요.<br>\n",
    "본 강의를 잘 정리하면, 데이터 분석과 데이터 과학(머신러닝, 인공지능) 모두 가능합니다!<br>\n",
    "<b><a href=\"https://school.fun-coding.org/\">잔재미코딩</a> 에서 본 강의 기반 최적화된 로드맵도 확인하실 수 있습니다</b>\n",
    "</div>"
   ]
  }
 ],
 "metadata": {
  "kernelspec": {
   "display_name": "Python 3 (ipykernel)",
   "language": "python",
   "name": "python3"
  },
  "language_info": {
   "codemirror_mode": {
    "name": "ipython",
    "version": 3
   },
   "file_extension": ".py",
   "mimetype": "text/x-python",
   "name": "python",
   "nbconvert_exporter": "python",
   "pygments_lexer": "ipython3",
   "version": "3.12.7"
  }
 },
 "nbformat": 4,
 "nbformat_minor": 4
}
