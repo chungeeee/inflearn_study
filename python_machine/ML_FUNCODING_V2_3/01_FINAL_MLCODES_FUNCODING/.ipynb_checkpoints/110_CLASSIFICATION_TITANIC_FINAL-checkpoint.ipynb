{
 "cells": [
  {
   "cell_type": "markdown",
   "metadata": {},
   "source": [
    "<div class=\"alert alert-block\" style=\"border: 2px solid #1976D2;background-color:#E3F2FD;padding:5px;font-size:0.9em;\">\n",
    "본 자료는 저작권법 제25조 2항에 의해 보호를 받습니다. 본 컨텐츠 및 컨텐츠 일부 문구등을 외부에 공개, 게시하지 말아주세요.<br>\n",
    "본 강의를 잘 정리하면, 데이터 분석과 데이터 과학(머신러닝, 인공지능) 모두 가능합니다!<br>\n",
    "<b><a href=\"https://school.fun-coding.org/\">잔재미코딩</a> 에서 본 강의 기반 최적화된 로드맵도 확인하실 수 있습니다</b>\n",
    "</div>"
   ]
  },
  {
   "cell_type": "markdown",
   "metadata": {},
   "source": [
    "### 0. train/test 데이터 임포트"
   ]
  },
  {
   "cell_type": "code",
   "execution_count": null,
   "metadata": {
    "_cell_guid": "79c7e3d0-c299-4dcb-8224-4455121ee9b0",
    "_kg_hide-input": false,
    "_uuid": "d629ff2d2480ee46fbb7e2d37f6b5fab8052498a"
   },
   "outputs": [],
   "source": [
    "import numpy as np\n",
    "import pandas as pd\n",
    "\n",
    "from sklearn.ensemble import RandomForestClassifier\n",
    "from sklearn.preprocessing import OneHotEncoder, StandardScaler\n",
    "from sklearn.model_selection import StratifiedKFold\n",
    "from sklearn.metrics import accuracy_score\n",
    "\n",
    "import string\n",
    "import warnings\n",
    "import missingno\n",
    "warnings.filterwarnings('ignore')"
   ]
  },
  {
   "cell_type": "code",
   "execution_count": null,
   "metadata": {
    "_kg_hide-input": false,
    "_uuid": "467443fda7135a8ce89c4d537da3f3a8546e2384"
   },
   "outputs": [],
   "source": [
    "df_train = pd.read_csv('titanic/train.csv')\n",
    "df_test = pd.read_csv('titanic/test.csv')\n",
    "df_all = pd.concat((df_train, df_test)).reset_index(drop=True)"
   ]
  },
  {
   "cell_type": "markdown",
   "metadata": {
    "_uuid": "dfabd70ff1cbd50e3107727e5bb630aa59110d83"
   },
   "source": [
    "### 1. 결측치 보정"
   ]
  },
  {
   "cell_type": "code",
   "execution_count": null,
   "metadata": {},
   "outputs": [],
   "source": [
    "missingno.matrix(df_all)"
   ]
  },
  {
   "cell_type": "markdown",
   "metadata": {},
   "source": [
    "### 1.1. Age"
   ]
  },
  {
   "cell_type": "code",
   "execution_count": null,
   "metadata": {},
   "outputs": [],
   "source": [
    "df_all['Title'] = df_all.Name.str.extract('([A-Za-z]+)\\.')\n",
    "df_all['Title'] = df_all['Title'].replace(['Miss', 'Mrs','Ms', 'Mlle', 'Lady', 'Mme', 'Countess', 'Dona'], 'Mz')\n",
    "df_all['Title'] = df_all['Title'].replace(['Don', 'Dr','Rev', 'Col', 'Major', 'Capt', 'Sir', 'Jonkheer'], 'Honor')\n",
    "\n",
    "# 202502 업데이트: 기존 코드는 최신 라이브러리에서 다음 에러가 납니다.\n",
    "# 기존 코드: df_all['Age'] = df_all.groupby(['Title', 'Pclass'])['Age'].apply(lambda x: x.fillna(x.median()))\n",
    "# 해당 문제는 apply 대신에 transform 메서드를 사용하면 해결할 수 있습니다.\n",
    "df_all['Age'] = df_all.groupby(['Title', 'Pclass'])['Age'].transform(lambda x: x.fillna(x.median()))\n",
    "df_all['Title'].value_counts()"
   ]
  },
  {
   "cell_type": "markdown",
   "metadata": {},
   "source": [
    "### 1.2. Embarked"
   ]
  },
  {
   "cell_type": "code",
   "execution_count": null,
   "metadata": {
    "_kg_hide-input": true
   },
   "outputs": [],
   "source": [
    "df_all[df_all['Embarked'].isnull()]"
   ]
  },
  {
   "cell_type": "code",
   "execution_count": null,
   "metadata": {},
   "outputs": [],
   "source": [
    "df_all['Ticket']"
   ]
  },
  {
   "cell_type": "code",
   "execution_count": null,
   "metadata": {},
   "outputs": [],
   "source": [
    "df_all[df_all['Cabin'].str.startswith('B2', na=False)]"
   ]
  },
  {
   "cell_type": "raw",
   "metadata": {},
   "source": [
    "# 참고\n",
    "df_all[(pd.to_numeric(df_all['Ticket'], errors='coerce') > 113500) & (pd.to_numeric(df_all['Ticket'], errors='coerce') < 113600)]"
   ]
  },
  {
   "cell_type": "code",
   "execution_count": null,
   "metadata": {},
   "outputs": [],
   "source": [
    "# Filling the missing values in Embarked with S\n",
    "df_all['Embarked'] = df_all['Embarked'].fillna('S')"
   ]
  },
  {
   "cell_type": "markdown",
   "metadata": {},
   "source": [
    "### 1.3. Fare"
   ]
  },
  {
   "cell_type": "markdown",
   "metadata": {},
   "source": [
    "<center><img src='https://qph.fs.quoracdn.net/main-qimg-2eaedf5504e843485d9485a773f65bb7.webp'></center>"
   ]
  },
  {
   "cell_type": "code",
   "execution_count": null,
   "metadata": {
    "_kg_hide-input": true
   },
   "outputs": [],
   "source": [
    "df_all[df_all['Fare'].isnull()]"
   ]
  },
  {
   "cell_type": "code",
   "execution_count": null,
   "metadata": {
    "_kg_hide-input": false
   },
   "outputs": [],
   "source": [
    "median_fare = df_all[\n",
    "    (df_all['Pclass'] == 3) & (df_all['Parch'] == 0) & \n",
    "    (df_all['SibSp'] == 0) & (df_all['Embarked'] == 'S')]['Fare'].median()\n",
    "df_all['Fare'] = df_all['Fare'].fillna(median_fare)"
   ]
  },
  {
   "cell_type": "markdown",
   "metadata": {},
   "source": [
    "### 1.4. Cabin"
   ]
  },
  {
   "cell_type": "code",
   "execution_count": null,
   "metadata": {},
   "outputs": [],
   "source": [
    "df_all['Cabin'] = df_all['Cabin'].str[0]\n",
    "df_all['Cabin'] = df_all['Cabin'].fillna('X')\n",
    "df_all.loc[(df_all['Cabin'] == 'T'), 'Cabin'] = 'A'"
   ]
  },
  {
   "cell_type": "code",
   "execution_count": null,
   "metadata": {},
   "outputs": [],
   "source": [
    "df_all['Cabin'].value_counts()"
   ]
  },
  {
   "cell_type": "code",
   "execution_count": null,
   "metadata": {
    "_kg_hide-input": true
   },
   "outputs": [],
   "source": [
    "missingno.matrix(df_all)"
   ]
  },
  {
   "cell_type": "markdown",
   "metadata": {
    "_uuid": "e14506a365afef0af44894e46642acf27ac2545f"
   },
   "source": [
    "## **2. Feature Engineering**"
   ]
  },
  {
   "cell_type": "markdown",
   "metadata": {},
   "source": [
    "### **2.1 Binning Continuous Features**"
   ]
  },
  {
   "cell_type": "markdown",
   "metadata": {},
   "source": [
    "### Fare"
   ]
  },
  {
   "cell_type": "code",
   "execution_count": null,
   "metadata": {},
   "outputs": [],
   "source": [
    "df_all.loc[ df_all['Fare'] <= 20, 'Fare'] = 0\n",
    "df_all.loc[(df_all['Fare'] > 20) & (df_all['Fare'] <= 40), 'Fare'] = 1\n",
    "df_all.loc[(df_all['Fare'] > 40) & (df_all['Fare'] <= 60), 'Fare'] = 2\n",
    "df_all.loc[(df_all['Fare'] > 60) & (df_all['Fare'] <= 80), 'Fare'] = 3\n",
    "df_all.loc[(df_all['Fare'] > 80) & (df_all['Fare'] <= 100), 'Fare'] = 4\n",
    "df_all.loc[ df_all['Fare'] > 100, 'Fare'] = 5"
   ]
  },
  {
   "cell_type": "markdown",
   "metadata": {},
   "source": [
    "### Age"
   ]
  },
  {
   "cell_type": "code",
   "execution_count": null,
   "metadata": {},
   "outputs": [],
   "source": [
    "# 시각화 값에 딱 맞게 설정하는 것은 학습 데이터(train)에만 잘 맞는 overfitting 현상이 발생할 수 있으므로 적절히 적용\n",
    "df_all.loc[df_all['Age'] <= 2, 'Age'] = 0\n",
    "df_all.loc[(df_all['Age'] > 2) & (df_all['Age'] <= 15), 'Age'] = 1\n",
    "df_all.loc[(df_all['Age'] > 15) & (df_all['Age'] <= 20), 'Age'] = 2\n",
    "df_all.loc[(df_all['Age'] > 20) & (df_all['Age'] <= 33), 'Age'] = 3\n",
    "df_all.loc[(df_all['Age'] > 33) & (df_all['Age'] <= 43), 'Age'] = 4\n",
    "df_all.loc[(df_all['Age'] > 43) & (df_all['Age'] <= 60), 'Age'] = 5\n",
    "df_all.loc[(df_all['Age'] > 60) & (df_all['Age'] <= 75), 'Age'] = 6\n",
    "df_all.loc[ df_all['Age'] > 75, 'Age'] = 7"
   ]
  },
  {
   "cell_type": "markdown",
   "metadata": {},
   "source": [
    "### **2.2 Frequency Encoding**"
   ]
  },
  {
   "cell_type": "markdown",
   "metadata": {},
   "source": [
    "### Family_Size"
   ]
  },
  {
   "cell_type": "code",
   "execution_count": null,
   "metadata": {},
   "outputs": [],
   "source": [
    "df_all['Family_Size'] = df_all['SibSp'] + df_all['Parch'] + 1"
   ]
  },
  {
   "cell_type": "markdown",
   "metadata": {},
   "source": [
    "### Family_Size_Group"
   ]
  },
  {
   "cell_type": "code",
   "execution_count": null,
   "metadata": {},
   "outputs": [],
   "source": [
    "df_all.loc[df_all['Family_Size'] <= 1, 'Family_Size_Group'] = 'Alone'\n",
    "df_all.loc[(df_all['Family_Size'] > 1) & (df_all['Family_Size'] <= 4), 'Family_Size_Group'] = 'Small'\n",
    "df_all.loc[(df_all['Family_Size'] > 4) & (df_all['Family_Size'] <= 6), 'Family_Size_Group'] = 'Medium'\n",
    "df_all.loc[ df_all['Family_Size'] > 6, 'Family_Size_Group'] = 'Large'"
   ]
  },
  {
   "cell_type": "markdown",
   "metadata": {},
   "source": [
    "### Ticket_Frequency"
   ]
  },
  {
   "cell_type": "code",
   "execution_count": null,
   "metadata": {},
   "outputs": [],
   "source": [
    "def refine_ticket(data):\n",
    "    tickets = list()\n",
    "    for index in range(len(data)):\n",
    "        ticket = data.iloc[index]\n",
    "        ticket = ticket.replace(' ', '').strip()\n",
    "        for punctuation in string.punctuation:\n",
    "            ticket = ticket.replace(punctuation, '')\n",
    "        tickets.append(ticket)\n",
    "    return tickets"
   ]
  },
  {
   "cell_type": "code",
   "execution_count": null,
   "metadata": {},
   "outputs": [],
   "source": [
    "df_all['Ticket_Refinement'] = refine_ticket(df_all['Ticket'])"
   ]
  },
  {
   "cell_type": "code",
   "execution_count": null,
   "metadata": {},
   "outputs": [],
   "source": [
    "df_all['Ticket_Frequency'] = df_all.groupby('Ticket_Refinement')['Ticket_Refinement'].transform('count')"
   ]
  },
  {
   "cell_type": "code",
   "execution_count": null,
   "metadata": {},
   "outputs": [],
   "source": [
    "df_all[df_all['Ticket_Frequency'] == 5]"
   ]
  },
  {
   "cell_type": "markdown",
   "metadata": {},
   "source": [
    "### Family_Name\n",
    "- 이름은 Lefebre(Sur Name),(콤마) Master.(Initial) Henry Forbes(First Name)"
   ]
  },
  {
   "cell_type": "code",
   "execution_count": null,
   "metadata": {},
   "outputs": [],
   "source": [
    "print (\"<\" + string.punctuation + \">\")"
   ]
  },
  {
   "cell_type": "code",
   "execution_count": null,
   "metadata": {},
   "outputs": [],
   "source": [
    "def get_surname(data):\n",
    "    surnames = list()\n",
    "    for index in range(len(data)):\n",
    "        name = data.iloc[index].split(',')[0]\n",
    "        name = name.replace(' ', '').strip()\n",
    "        for punctuation in string.punctuation:\n",
    "            name = name.replace(punctuation, '')\n",
    "        surnames.append(name)\n",
    "    return surnames"
   ]
  },
  {
   "cell_type": "code",
   "execution_count": null,
   "metadata": {},
   "outputs": [],
   "source": [
    "df_all['Family_Name'] = get_surname(df_all['Name'])\n",
    "df_train = df_all.loc[:890]\n",
    "df_test = df_all.loc[891:]"
   ]
  },
  {
   "cell_type": "markdown",
   "metadata": {},
   "source": [
    "### Family_Survival_Rate & Ticket_Survival_Rate"
   ]
  },
  {
   "cell_type": "code",
   "execution_count": null,
   "metadata": {},
   "outputs": [],
   "source": [
    "# 202502 업데이트: 최신 pandas 라이브러리에서는 컬럼을 선택할 때 리스트 형식을 사용해야 합니다.\n",
    "# 따라서 다음과 같이 코드를 수정합니다.\n",
    "# 기존 코드: df_train.groupby('Family_Name')['Survived', 'Family_Size'].median()\n",
    "df_train.groupby('Family_Name')[['Survived', 'Family_Size']].median()"
   ]
  },
  {
   "cell_type": "code",
   "execution_count": null,
   "metadata": {},
   "outputs": [],
   "source": [
    "# 202502 업데이트: 최신 pandas 라이브러리에서는 컬럼을 선택할 때 리스트 형식을 사용해야 합니다.\n",
    "# 따라서 다음과 같이 코드를 수정합니다.\n",
    "# 기존 코드: df_family_survived_rate = df_train.groupby('Family_Name')['Survived', 'Family_Size'].median()\n",
    "df_family_survived_rate = df_train.groupby('Family_Name')[['Survived', 'Family_Size']].median()\n",
    "\n",
    "family_rates = dict()\n",
    "for family_name in df_family_survived_rate.index:\n",
    "    if df_family_survived_rate.loc[family_name][1] > 1 and (family_name in df_train['Family_Name'].unique() and family_name in df_test['Family_Name'].unique()):\n",
    "        family_rates[family_name] = df_family_survived_rate.loc[family_name][0]\n",
    "\n",
    "family_survival_rate = list()\n",
    "family_survival_rate_NA = list()\n",
    "mean_survival_rate = np.mean(df_train['Survived'])\n",
    "\n",
    "for i in range(len(df_all)):\n",
    "    if df_all['Family_Name'][i] in family_rates:\n",
    "        family_survival_rate.append(family_rates[df_all['Family_Name'][i]])\n",
    "        family_survival_rate_NA.append(1)\n",
    "    else:\n",
    "        family_survival_rate.append(mean_survival_rate)\n",
    "        family_survival_rate_NA.append(0)\n",
    "\n",
    "df_all['Family_Survival_Rate'] = family_survival_rate\n",
    "df_all['Family_Survival_Rate_NA'] = family_survival_rate_NA        "
   ]
  },
  {
   "cell_type": "code",
   "execution_count": null,
   "metadata": {},
   "outputs": [],
   "source": [
    "# 2025 02 업데이트: 최신 pandas 라이브러리에서는 컬럼을 선택할 때 리스트 형식을 사용해야 합니다.\n",
    "# 따라서 다음과 같이 코드를 수정합니다.\n",
    "# 기존 코드: df_ticket_survived_rate = df_train.groupby('Ticket_Refinement')['Survived', 'Ticket_Frequency'].median()\n",
    "df_ticket_survived_rate = df_train.groupby('Ticket_Refinement')[['Survived', 'Ticket_Frequency']].median()\n",
    "\n",
    "ticket_rates = dict()\n",
    "for ticket_name in df_ticket_survived_rate.index:\n",
    "    if df_ticket_survived_rate.loc[ticket_name][1] > 1 and (ticket_name in df_train['Ticket_Refinement'].unique() and ticket_name in df_test['Ticket_Refinement'].unique()):    \n",
    "        ticket_rates[ticket_name] = df_ticket_survived_rate.loc[ticket_name][0]\n",
    "\n",
    "ticket_survival_rate = list()\n",
    "ticket_survival_rate_NA = list()\n",
    "mean_survival_rate = np.mean(df_train['Survived'])\n",
    "\n",
    "for i in range(len(df_all)):\n",
    "    if df_all['Ticket_Refinement'][i] in ticket_rates:\n",
    "        ticket_survival_rate.append(ticket_rates[df_all['Ticket_Refinement'][i]])\n",
    "        ticket_survival_rate_NA.append(1)\n",
    "    else:\n",
    "        ticket_survival_rate.append(mean_survival_rate)\n",
    "        ticket_survival_rate_NA.append(0)\n",
    "\n",
    "df_all['Ticket_Survival_Rate'] = ticket_survival_rate\n",
    "df_all['Ticket_Survival_Rate_NA'] = ticket_survival_rate_NA        "
   ]
  },
  {
   "cell_type": "markdown",
   "metadata": {},
   "source": [
    "### Survival_Rate"
   ]
  },
  {
   "cell_type": "code",
   "execution_count": null,
   "metadata": {},
   "outputs": [],
   "source": [
    "df_all['Total_Survival_Rate'] = (df_all['Ticket_Survival_Rate'] + df_all['Family_Survival_Rate']) / 2\n",
    "df_all['Total_Survival_Rate_NA'] = (df_all['Ticket_Survival_Rate_NA'] + df_all['Family_Survival_Rate_NA']) / 2\n",
    "df_train = df_all.loc[:890]\n",
    "df_test = df_all.loc[891:]"
   ]
  },
  {
   "cell_type": "markdown",
   "metadata": {},
   "source": [
    "### OneHot Encoding\n",
    "- Pclass, Sex, Deck, Embarked, Title (Categorical features are converted to One-hot encoding)\n",
    "- ordinal features are not converted"
   ]
  },
  {
   "cell_type": "code",
   "execution_count": null,
   "metadata": {},
   "outputs": [],
   "source": [
    "onehot_cols = ['Pclass', 'Sex', 'Cabin', 'Embarked', 'Title', 'Family_Size_Group']\n",
    "df_train = pd.get_dummies(df_train, columns=onehot_cols)\n",
    "df_test = pd.get_dummies(df_test, columns=onehot_cols)"
   ]
  },
  {
   "cell_type": "markdown",
   "metadata": {
    "_uuid": "1b3d47212b52113b53a3e6d0d0a4ee08aa97b02f"
   },
   "source": [
    "## **3. Model**"
   ]
  },
  {
   "cell_type": "markdown",
   "metadata": {},
   "source": [
    "- 컬럼값의 범위가 다른 경우, 모델에도 영향을 미치므로, 값을 균일한 정도로 변경하기 위해, 스케일링을 적용할 수 있음\n",
    "- 데이터를 모델링하기 전, 스케일링을 통해, 성능 개선 가능\n",
    "- StandardScaler: 기본 스케일로, 평균과 표준편차 사용하여 스케일링\n",
    "  - MinMaxScaler: 최대/최소값이 1/0이 되도록 스케일링"
   ]
  },
  {
   "cell_type": "code",
   "execution_count": null,
   "metadata": {},
   "outputs": [],
   "source": [
    "drop_cols = ['Family_Name', 'Family_Size', 'Survived',\n",
    "             'Name', 'Parch', 'PassengerId', 'SibSp', 'Ticket',\n",
    "            'Family_Survival_Rate', 'Ticket_Survival_Rate', \n",
    "             'Ticket_Survival_Rate_NA', 'Family_Survival_Rate_NA', 'Ticket_Refinement']"
   ]
  },
  {
   "cell_type": "code",
   "execution_count": null,
   "metadata": {},
   "outputs": [],
   "source": [
    "X_train = StandardScaler().fit_transform(df_train.drop(columns=drop_cols))\n",
    "y_train = df_train['Survived'].values\n",
    "X_test = StandardScaler().fit_transform(df_test.drop(columns=drop_cols))"
   ]
  },
  {
   "cell_type": "markdown",
   "metadata": {},
   "source": [
    "### 모델 파라미터 선택\n",
    "- 모델 파라미터는 노트북 최다하단부의 GridSearchCV() 를 사용한 Hyper parameter 값 사용"
   ]
  },
  {
   "cell_type": "code",
   "execution_count": null,
   "metadata": {},
   "outputs": [],
   "source": [
    "single_best_model = RandomForestClassifier(\n",
    "                                           n_estimators=1500,\n",
    "                                           max_depth=6,\n",
    "                                           min_samples_split=5,\n",
    "                                           min_samples_leaf=6,\n",
    "                                           oob_score=True,\n",
    "                                           random_state=1,\n",
    "                                           n_jobs=-1,\n",
    "                                           verbose=True)"
   ]
  },
  {
   "cell_type": "markdown",
   "metadata": {},
   "source": [
    "### OOB Score 및 생존확률값 계산"
   ]
  },
  {
   "cell_type": "code",
   "execution_count": null,
   "metadata": {},
   "outputs": [],
   "source": [
    "skf = StratifiedKFold(n_splits=5, random_state=5, shuffle=True)\n",
    "probs = pd.DataFrame(\n",
    "    np.zeros((len(X_test), 5)), \n",
    "    columns=['Fold{}'.format(i) for i in range(5)]\n",
    ")\n",
    "\n",
    "oob = 0\n",
    "for fold, indices in enumerate(skf.split(X_train, y_train)):\n",
    "    train_index, val_index = indices\n",
    "    single_best_model.fit(X_train[train_index], y_train[train_index])\n",
    "    oob += single_best_model.oob_score_\n",
    "    probs['Fold{}'.format(fold)] = single_best_model.predict_proba(X_test)[:, 1] # 각 fold 에서 해당 사람이 Survived 될 확률\n",
    "\n",
    "print (\"OOB Score:\", \"{:.3f}\".format(oob / 5))\n",
    "\n",
    "probs['avg'] = probs.mean(axis=1) # 해당 사람이 fold 별 Survived 될 확률의 평균 계산\n",
    "probs['final'] = 0\n",
    "probs.loc[probs['avg'] > 0.5, 'final'] = 1 # 해당 사람이 fold 별 Survived 될 확률의 평균이 50% 이상일 경우, 최종 생존으로 예측"
   ]
  },
  {
   "cell_type": "markdown",
   "metadata": {},
   "source": [
    "### 실제 제출"
   ]
  },
  {
   "cell_type": "code",
   "execution_count": null,
   "metadata": {},
   "outputs": [],
   "source": [
    "submission_df = pd.DataFrame(columns=['PassengerId', 'Survived'])\n",
    "submission_df['PassengerId'] = df_test['PassengerId']\n",
    "submission_df['Survived'] = probs['final'].tolist()\n",
    "submission_df.to_csv('submissions_final.csv', header=True, index=False)\n",
    "submission_df.head(10)"
   ]
  },
  {
   "cell_type": "code",
   "execution_count": null,
   "metadata": {},
   "outputs": [],
   "source": [
    "!kaggle competitions submit -c titanic -f submissions_final.csv -m \"Message\""
   ]
  },
  {
   "cell_type": "markdown",
   "metadata": {},
   "source": [
    "### 4. 참고: Hyperparameter Tuning with GridSearchCV\n",
    "- 예상범위의 값을 기반으로, GridSearchCV 적용"
   ]
  },
  {
   "cell_type": "code",
   "execution_count": null,
   "metadata": {},
   "outputs": [],
   "source": [
    "from sklearn.model_selection import GridSearchCV\n",
    "\n",
    "n_estimators = [1000, 1100, 1200, 1300, 1400, 1500, 1600, 1700]\n",
    "max_depth = [5, 6, 7, 8, 9, 10]\n",
    "min_samples_split = [5, 6, 7, 8, 9, 10]\n",
    "min_samples_leaf = [5, 6, 7, 8, 9, 10]\n",
    "\n",
    "hyperparams = {\n",
    "    'n_estimators': n_estimators, \n",
    "    'max_depth': max_depth, \n",
    "    'min_samples_split': min_samples_split, \n",
    "    'min_samples_leaf': min_samples_leaf\n",
    "}\n",
    "\n",
    "gd=GridSearchCV(\n",
    "    estimator = RandomForestClassifier(random_state=1), \n",
    "    param_grid = hyperparams, \n",
    "    verbose=True, \n",
    "    cv=5, \n",
    "    scoring=\"accuracy\", \n",
    "    n_jobs=-1\n",
    ")\n",
    "\n",
    "gd.fit(X_train, y_train)\n",
    "print(gd.best_score_)\n",
    "print(gd.best_params_)"
   ]
  },
  {
   "cell_type": "markdown",
   "metadata": {},
   "source": [
    "<div class=\"alert alert-block\" style=\"border: 2px solid #1976D2;background-color:#E3F2FD;padding:5px;font-size:0.9em;\">\n",
    "본 자료는 저작권법 제25조 2항에 의해 보호를 받습니다. 본 컨텐츠 및 컨텐츠 일부 문구등을 외부에 공개, 게시하지 말아주세요.<br>\n",
    "본 강의를 잘 정리하면, 데이터 분석과 데이터 과학(머신러닝, 인공지능) 모두 가능합니다!<br>\n",
    "<b><a href=\"https://school.fun-coding.org/\">잔재미코딩</a> 에서 본 강의 기반 최적화된 로드맵도 확인하실 수 있습니다</b>\n",
    "</div>"
   ]
  }
 ],
 "metadata": {
  "kernelspec": {
   "display_name": "Python 3 (ipykernel)",
   "language": "python",
   "name": "python3"
  },
  "language_info": {
   "codemirror_mode": {
    "name": "ipython",
    "version": 3
   },
   "file_extension": ".py",
   "mimetype": "text/x-python",
   "name": "python",
   "nbconvert_exporter": "python",
   "pygments_lexer": "ipython3",
   "version": "3.12.7"
  }
 },
 "nbformat": 4,
 "nbformat_minor": 4
}
