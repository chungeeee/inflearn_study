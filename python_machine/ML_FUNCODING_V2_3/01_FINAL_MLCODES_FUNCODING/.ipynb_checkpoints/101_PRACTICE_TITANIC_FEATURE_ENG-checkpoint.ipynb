{
 "cells": [
  {
   "cell_type": "markdown",
   "metadata": {},
   "source": [
    "<div class=\"alert alert-block\" style=\"border: 2px solid #1976D2;background-color:#E3F2FD;padding:5px;font-size:0.9em;\">\n",
    "본 자료는 저작권법 제25조 2항에 의해 보호를 받습니다. 본 컨텐츠 및 컨텐츠 일부 문구등을 외부에 공개, 게시하지 말아주세요.<br>\n",
    "본 강의를 잘 정리하면, 데이터 분석과 데이터 과학(머신러닝, 인공지능) 모두 가능합니다!<br>\n",
    "<b><a href=\"https://school.fun-coding.org/\">잔재미코딩</a> 에서 본 강의 기반 최적화된 로드맵도 확인하실 수 있습니다</b>\n",
    "</div>"
   ]
  },
  {
   "cell_type": "markdown",
   "metadata": {},
   "source": [
    "### Feature Engineering: Feature Transformation Practice"
   ]
  },
  {
   "cell_type": "code",
   "execution_count": null,
   "metadata": {},
   "outputs": [],
   "source": [
    "import pandas as pd\n",
    "# 2025 업데이트 \n",
    "# 본 코드에서는 pandas 만 import 하고, 시각화 라이브러리 필요시 해당 코드에서 시각화 라이브러리 import 하기로 함\n",
    "\n",
    "train = pd.read_csv('titanic/train.csv')\n",
    "test = pd.read_csv('titanic/test.csv')"
   ]
  },
  {
   "cell_type": "markdown",
   "metadata": {},
   "source": [
    "### 1. 합치기"
   ]
  },
  {
   "cell_type": "code",
   "execution_count": null,
   "metadata": {},
   "outputs": [],
   "source": [
    "ntrain = train.shape[0]\n",
    "ntest = test.shape[0]\n",
    "df = pd.concat((train, test))"
   ]
  },
  {
   "cell_type": "code",
   "execution_count": null,
   "metadata": {},
   "outputs": [],
   "source": [
    "ntest"
   ]
  },
  {
   "cell_type": "code",
   "execution_count": null,
   "metadata": {},
   "outputs": [],
   "source": [
    "df.head()"
   ]
  },
  {
   "cell_type": "markdown",
   "metadata": {},
   "source": [
    "> Sex, Embarked 는 쉽기 때문에, 먼저 진행"
   ]
  },
  {
   "cell_type": "markdown",
   "metadata": {},
   "source": [
    "### 2. Sex 숫자 변환"
   ]
  },
  {
   "cell_type": "code",
   "execution_count": null,
   "metadata": {},
   "outputs": [],
   "source": [
    "df[\"Sex\"].isnull().sum()"
   ]
  },
  {
   "cell_type": "code",
   "execution_count": null,
   "metadata": {},
   "outputs": [],
   "source": [
    "gender = { \"male\": 0, \"female\": 1 }\n",
    "df['Sex'] = df['Sex'].map(gender)"
   ]
  },
  {
   "cell_type": "code",
   "execution_count": null,
   "metadata": {},
   "outputs": [],
   "source": [
    "df[\"Sex\"]"
   ]
  },
  {
   "cell_type": "markdown",
   "metadata": {},
   "source": [
    "### 3. Pclass 는 변경할 필요 없음\n",
    "- Pclass 값이 1, 2, 3"
   ]
  },
  {
   "cell_type": "markdown",
   "metadata": {},
   "source": [
    "### 4. Embarked 정보를 숫자로 바꾸기"
   ]
  },
  {
   "cell_type": "code",
   "execution_count": null,
   "metadata": {},
   "outputs": [],
   "source": [
    "df['Embarked'].isnull().sum() # 결측치 확인"
   ]
  },
  {
   "cell_type": "code",
   "execution_count": null,
   "metadata": {},
   "outputs": [],
   "source": [
    "df['Embarked'].value_counts() # level 값 확인"
   ]
  },
  {
   "cell_type": "code",
   "execution_count": null,
   "metadata": {},
   "outputs": [],
   "source": [
    "df.loc[(df['Embarked'].isnull())]"
   ]
  },
  {
   "cell_type": "code",
   "execution_count": null,
   "metadata": {},
   "outputs": [],
   "source": [
    "df.sort_values(['Ticket'], ascending = True)[55:70]"
   ]
  },
  {
   "cell_type": "code",
   "execution_count": null,
   "metadata": {},
   "outputs": [],
   "source": [
    "df.loc[(df['Embarked'].isnull()), 'Embarked'] = 'S'"
   ]
  },
  {
   "cell_type": "code",
   "execution_count": null,
   "metadata": {},
   "outputs": [],
   "source": [
    "df_temp1 = df.copy()"
   ]
  },
  {
   "cell_type": "code",
   "execution_count": null,
   "metadata": {},
   "outputs": [],
   "source": [
    "gender = { \"S\": 0, \"C\": 1, \"Q\":2 }\n",
    "df_temp1['Embarked'] = df_temp1['Embarked'].map(gender)"
   ]
  },
  {
   "cell_type": "code",
   "execution_count": null,
   "metadata": {},
   "outputs": [],
   "source": [
    "df_temp1.head()"
   ]
  },
  {
   "cell_type": "markdown",
   "metadata": {},
   "source": [
    "### 참고: pandas.factorize() \n",
    "- 데이터의 범주가 많아서, 일일이 각 데이터를 숫자로 기재해주기 어려운 경우에 사용"
   ]
  },
  {
   "cell_type": "code",
   "execution_count": null,
   "metadata": {},
   "outputs": [],
   "source": [
    "df_temp2 = df.copy()"
   ]
  },
  {
   "cell_type": "code",
   "execution_count": null,
   "metadata": {},
   "outputs": [],
   "source": [
    "df_temp2['Embarked'].factorize()"
   ]
  },
  {
   "cell_type": "code",
   "execution_count": null,
   "metadata": {},
   "outputs": [],
   "source": [
    "df_temp2['Embarked'].factorize()[0]"
   ]
  },
  {
   "cell_type": "code",
   "execution_count": null,
   "metadata": {},
   "outputs": [],
   "source": [
    "df_temp2['Embarked'] = df_temp2['Embarked'].factorize()[0]"
   ]
  },
  {
   "cell_type": "code",
   "execution_count": null,
   "metadata": {},
   "outputs": [],
   "source": [
    "df_temp2['Embarked'].value_counts() # level 값 확인"
   ]
  },
  {
   "cell_type": "markdown",
   "metadata": {},
   "source": [
    "### 각 범주의 의미를 기록해놓기 위해, 직접 기입하기로 함"
   ]
  },
  {
   "cell_type": "code",
   "execution_count": null,
   "metadata": {},
   "outputs": [],
   "source": [
    "gender = { \"S\": 0, \"C\": 1, \"Q\":2 }\n",
    "df['Embarked'] = df['Embarked'].map(gender)"
   ]
  },
  {
   "cell_type": "code",
   "execution_count": null,
   "metadata": {},
   "outputs": [],
   "source": [
    "df.head()"
   ]
  },
  {
   "cell_type": "markdown",
   "metadata": {},
   "source": [
    "### 5. Name \n",
    "- 참고: 여기서 부터 시작한다면, 처음부터 여기까지 코드 실행을 한 후에, 진행해야 df 에 지금까지 변환된 데이터프레임이 들어감"
   ]
  },
  {
   "cell_type": "code",
   "execution_count": null,
   "metadata": {},
   "outputs": [],
   "source": [
    "# 2025 업데이트\n",
    "# 최근 pandas 버전에서는 백슬래시(`\\`)를 이스케이프 문자로 해석하여 코드는 정상동작하지만, warning 메세지를 보여줍니다\n",
    "# 이를 방지하기 위해 문자열 앞에 `r` 또는 `R`을 붙이면, 해당 문자열을 raw string으로 취급하여, 백슬래시(`\\`)를 이스케이프 문자로 해석하지 않고\n",
    "# warning 메세지를 보여주지 않으므로 r 을 추가하였습니다.\n",
    "df['Initial'] = df.Name.str.extract(r'([A-Za-z]+)\\.')"
   ]
  },
  {
   "cell_type": "code",
   "execution_count": null,
   "metadata": {},
   "outputs": [],
   "source": [
    "df['Initial'].value_counts()"
   ]
  },
  {
   "cell_type": "markdown",
   "metadata": {},
   "source": [
    "- Ms. 는 당시에는 귀족 미망인을 의미함\n",
    "- Mlle나 Mme등도 마드모아젤과 마담의 줄인말로, 귀족 여성을 의미함\n",
    "- Countess 는 백작 부인을 의미하므로, 귀족 여성을 의미함\n",
    "- Lady 도 귀족 부인을 의미함"
   ]
  },
  {
   "cell_type": "code",
   "execution_count": null,
   "metadata": {},
   "outputs": [],
   "source": [
    "df[(df['Initial'] == 'Mme') | (df['Initial'] == 'Mlle') | (df['Initial'] == 'Ms') | (df['Initial'] == 'Countess') | (df['Initial'] == 'Lady')]"
   ]
  },
  {
   "cell_type": "code",
   "execution_count": null,
   "metadata": {},
   "outputs": [],
   "source": [
    "df.loc[(df['Initial'] == 'Mme') | (df['Initial'] == 'Mlle') | (df['Initial'] == 'Ms') | (df['Initial'] == 'Countess') | (df['Initial'] == 'Lady'), 'Initial'] = 'Lady'"
   ]
  },
  {
   "cell_type": "code",
   "execution_count": null,
   "metadata": {},
   "outputs": [],
   "source": [
    "title_mapping = {'Mr': 0, 'Miss': 1, 'Mrs': 2, 'Master': 3, 'Lady': 4, 'Don': 5, 'Rev': 6, 'Dr': 7, \n",
    "                 'Major': 8, 'Sir': 9, 'Col': 10,  'Capt': 11, 'Jonkheer': 12}\n",
    "df['Initial'] = df['Initial'].map(title_mapping)"
   ]
  },
  {
   "cell_type": "code",
   "execution_count": null,
   "metadata": {},
   "outputs": [],
   "source": [
    "df[df['Initial'] == 3] "
   ]
  },
  {
   "cell_type": "code",
   "execution_count": null,
   "metadata": {},
   "outputs": [],
   "source": [
    "drop_features = ['Name']\n",
    "df.drop(drop_features, axis=1, inplace=True)\n",
    "df.head()"
   ]
  },
  {
   "cell_type": "markdown",
   "metadata": {},
   "source": [
    "### 6. Age \n",
    "- 결측치 보완\n",
    "- 범위별 숫자 변환"
   ]
  },
  {
   "cell_type": "code",
   "execution_count": null,
   "metadata": {},
   "outputs": [],
   "source": [
    "df['Age'].isnull().sum() # 결측치 확인"
   ]
  },
  {
   "cell_type": "code",
   "execution_count": null,
   "metadata": {},
   "outputs": [],
   "source": [
    "title_mapping = {'Mr': 0, 'Miss': 1, 'Mrs': 2, 'Master': 3, 'Lady': 4, 'Don': 5, 'Rev': 6, 'Dr': 7, \n",
    "                 'Major': 8, 'Sir': 9, 'Col': 10,  'Capt': 11, 'Jonkheer': 12}\n",
    "df.groupby('Initial').agg({'Age': ['mean', 'median', 'count']})"
   ]
  },
  {
   "cell_type": "code",
   "execution_count": null,
   "metadata": {},
   "outputs": [],
   "source": [
    "df[\"Age\"] = df[\"Age\"].fillna(df.groupby(\"Initial\")[\"Age\"].transform(\"median\"))"
   ]
  },
  {
   "cell_type": "code",
   "execution_count": null,
   "metadata": {},
   "outputs": [],
   "source": [
    "df.head()"
   ]
  },
  {
   "cell_type": "markdown",
   "metadata": {},
   "source": [
    "### 참고: Violin Plot\n",
    "- 대략적인 비율 비교를 위한 특별한 그래프 형태\n",
    "\n",
    "> 이 비율을 참고해서, 나잇대를 숫자로 변경하기로 함"
   ]
  },
  {
   "cell_type": "code",
   "execution_count": null,
   "metadata": {},
   "outputs": [],
   "source": [
    "train = df[:ntrain]"
   ]
  },
  {
   "cell_type": "code",
   "execution_count": null,
   "metadata": {},
   "outputs": [],
   "source": [
    "import plotly.express as px\n",
    "fig = px.violin(train, y=\"Age\", color=\"Survived\", violinmode='overlay')\n",
    "fig.show()"
   ]
  },
  {
   "cell_type": "markdown",
   "metadata": {},
   "source": [
    "#### 참고\n",
    "**Violin Plot**  \n",
    "- **여러 그룹의 분포 비교:** 서로 다른 그룹 간 데이터의 분포 모양과 밀도를 비교할 때 유용합니다.  \n",
    "- **전체 분포 시각화:** 단순히 중앙값이나 범위뿐만 아니라 데이터가 어떻게 분포되어 있는지를 한눈에 볼 수 있습니다.  \n",
    "- **이상치 및 데이터 밀집도 확인:** 박스 플롯보다 데이터의 분포와 이상치를 더 세밀하게 파악할 수 있습니다.\n",
    "\n",
    "**커널 밀도 추정 (Kernel Density Estimation)**  \n",
    "- 데이터의 분포를 더 부드럽고 연속적으로 시각화하는 방법입니다. 각 데이터 포인트 주위에 작은 곡선을 그려, 이 곡선들을 합산해 전체 데이터가 어떤 구간에 몰려 있는지 표현합니다.\n",
    "- **데이터 주변 곡선 그리기:**  \n",
    "  각 데이터 포인트에 작은 부드러운 곡선을 적용해, 해당 데이터가 주변에 미치는 영향을 나타냅니다.\n",
    "- **밀도 형태 표현:**  \n",
    "  모든 데이터 포인트의 곡선을 합쳐, 특정 구간에 데이터가 얼마나 집중되어 있는지를 시각적으로 보여줍니다.\n",
    "- **부드러운 분포 시각화:**  \n",
    "  이 방법을 통해 히스토그램보다 더 자연스럽고 연속적인 데이터 분포를 확인할 수 있어, 데이터의 특성을 쉽게 파악할 수 있습니다."
   ]
  },
  {
   "cell_type": "markdown",
   "metadata": {},
   "source": [
    "### 각 나잇대를 숫자로 변경해보기\n",
    "  - baby (2살 이하): 0\n",
    "  - child (15살 이하): 1 \n",
    "  - young (20살 이하): 2  \n",
    "  - mid-age (33살 이하): 3  \n",
    "  - junior (43살 이하): 4\n",
    "  - senior (60살 이하): 5\n",
    "  - old (75살 이하): 6\n",
    "  - too old (75살 이상): 7"
   ]
  },
  {
   "cell_type": "code",
   "execution_count": null,
   "metadata": {},
   "outputs": [],
   "source": [
    "# 시각화 값에 딱 맞게 설정하는 것은 학습 데이터(train)에만 잘 맞는 overfitting 현상이 발생할 수 있으므로 적절히 적용\n",
    "df.loc[df['Age'] <= 2, 'Age'] = 0\n",
    "df.loc[(df['Age'] > 2) & (df['Age'] <= 15), 'Age'] = 1\n",
    "df.loc[(df['Age'] > 15) & (df['Age'] <= 20), 'Age'] = 2\n",
    "df.loc[(df['Age'] > 20) & (df['Age'] <= 33), 'Age'] = 3\n",
    "df.loc[(df['Age'] > 33) & (df['Age'] <= 43), 'Age'] = 4\n",
    "df.loc[(df['Age'] > 43) & (df['Age'] <= 60), 'Age'] = 5\n",
    "df.loc[(df['Age'] > 60) & (df['Age'] <= 75), 'Age'] = 6\n",
    "df.loc[ df['Age'] > 75, 'Age'] = 7"
   ]
  },
  {
   "cell_type": "code",
   "execution_count": null,
   "metadata": {
    "scrolled": true
   },
   "outputs": [],
   "source": [
    "df.head()"
   ]
  },
  {
   "cell_type": "markdown",
   "metadata": {},
   "source": [
    "### 7. Fare"
   ]
  },
  {
   "cell_type": "markdown",
   "metadata": {},
   "source": [
    "#### Fare 최대값 확인하기"
   ]
  },
  {
   "cell_type": "code",
   "execution_count": null,
   "metadata": {},
   "outputs": [],
   "source": [
    "train_fare = train.copy()\n",
    "max_fare = train_fare[\"Fare\"].max()\n",
    "max_fare"
   ]
  },
  {
   "cell_type": "markdown",
   "metadata": {},
   "source": [
    "#### 히스토그램 그려서 확인하기"
   ]
  },
  {
   "cell_type": "code",
   "execution_count": null,
   "metadata": {},
   "outputs": [],
   "source": [
    "import plotly.express as px  \n",
    "\n",
    "# 원본 데이터프레임(train)을 복사해 train_fare에 저장.\n",
    "train_fare = train.copy()\n",
    "\n",
    "# Survived 컬럼이 0이면 Dead, 1이면 Survived로 매핑하여, 새 컬럼 Outcome 생성.\n",
    "train_fare[\"Outcome\"] = train_fare[\"Survived\"].map({0: \"Dead\", 1: \"Survived\"})\n",
    "\n",
    "# px.histogram을 이용해 히스토그램(막대그래프) 생성.\n",
    "fig = px.histogram(\n",
    "    train_fare,               # 그래프에 사용할 데이터프레임\n",
    "    x=\"Fare\",                 # x축으로 사용할 컬럼(숫자형 데이터)\n",
    "    color=\"Outcome\",          # Outcome(Dead/Survived)에 따라 막대 색상 구분\n",
    "    range_x=[0, 520],         # x축 범위를 0~520으로 고정\n",
    "    barmode=\"overlay\",        # 서로 다른 그룹(Dead, Survived) 막대를 겹쳐서 표현\n",
    "    title=\"Fare Distribution by Survival Status (Overlay, 20-unit bins)\"  \n",
    "    # 그래프 제목\n",
    ")\n",
    "\n",
    "# update_traces() 메서드: 이미 생성된 그래프 트레이스(막대)에 대해 추가/수정 설정을 할 수 있음.\n",
    "# xbins 인자: 히스토그램의 bin(구간) 시작점(start), 끝점(end), 크기(size)를 직접 지정해\n",
    "#            모든 bin을 동일한 폭으로 정확히 나누도록 설정.\n",
    "fig.update_traces(\n",
    "    xbins=dict(start=0, end=520, size=20)\n",
    ")\n",
    "\n",
    "# update_layout() 메서드: 그래프 전체 레이아웃(축, 범례, 타이틀 등)을 수정.\n",
    "# xaxis=dict(...) : x축 관련 설정을 딕셔너리 형태로 전달.\n",
    "#   tickmode : x축 눈금을 결정하는 방식. 'array', 'auto', 'linear' 등이 있음.\n",
    "#     - 'array'  : tickvals에 지정된 배열/리스트의 값들만 눈금으로 사용.\n",
    "#     - 'auto'   : Plotly가 자동으로 적절한 눈금을 결정(기본값).\n",
    "#     - 'linear' : tick0(시작점)와 dtick(간격)을 이용해 균등하게 눈금을 배치.\n",
    "#   tickvals : x축 눈금을 표시할 위치(값)들을 리스트로 직접 지정.\n",
    "fig.update_layout(\n",
    "    xaxis=dict(\n",
    "        tickmode='array',               # 'array' 모드 → 아래 tickvals에 명시된 값들만 눈금으로 사용\n",
    "        tickvals=[i for i in range(0, 521, 20)]  # 0부터 520까지 20 간격으로 눈금 표시\n",
    "    )\n",
    ")\n",
    "\n",
    "fig.show()  # 그래프를 출력(렌더링)하여 시각화 결과 확인"
   ]
  },
  {
   "cell_type": "code",
   "execution_count": null,
   "metadata": {},
   "outputs": [],
   "source": [
    "# test 데이터는 결측치가 있음을 확인\n",
    "df['Fare'].isnull().sum() "
   ]
  },
  {
   "cell_type": "code",
   "execution_count": null,
   "metadata": {},
   "outputs": [],
   "source": [
    "# 아무래도 Pclass 에 따라, 요금이 결정될 가능성이 높으므로\n",
    "df['Fare'] = df['Fare'].fillna(df.groupby(\"Pclass\")[\"Fare\"].transform(\"median\"))"
   ]
  },
  {
   "cell_type": "markdown",
   "metadata": {},
   "source": [
    "> 요금을 더 세분화해도, 요금에 따른 경향성은 일정 요금 이상(약 50), 이하에서만 나타나는 것을 EDA 를 통해, 이해하였고, <br>\n",
    "> 실제 요금 데이터에 대한 이해를 통해서도, 특정 세분화된 요금 구간만, 다른 경향을 보이지는 않을 것이라 예측되므로, <br>\n",
    "> 매우 세분화할 필요는 없어보였음"
   ]
  },
  {
   "cell_type": "code",
   "execution_count": null,
   "metadata": {},
   "outputs": [],
   "source": [
    "df.loc[ df['Fare'] <= 20, 'Fare'] = 0\n",
    "df.loc[(df['Fare'] > 20) & (df['Fare'] <= 40), 'Fare'] = 1\n",
    "df.loc[(df['Fare'] > 40) & (df['Fare'] <= 60), 'Fare'] = 2\n",
    "df.loc[(df['Fare'] > 60) & (df['Fare'] <= 80), 'Fare'] = 3\n",
    "df.loc[(df['Fare'] > 80) & (df['Fare'] <= 100), 'Fare'] = 4\n",
    "df.loc[ df['Fare'] > 100, 'Fare'] = 5"
   ]
  },
  {
   "cell_type": "code",
   "execution_count": null,
   "metadata": {},
   "outputs": [],
   "source": [
    "df.head()"
   ]
  },
  {
   "cell_type": "markdown",
   "metadata": {},
   "source": [
    "### 8. SibSp + Parch \n",
    "- EDA 를 통해, SibSp 와 Parch 를 별도로 구분할 때보다, 합쳤을 때, 보다 경향성이 보였으므로, 합치기로 함"
   ]
  },
  {
   "cell_type": "code",
   "execution_count": null,
   "metadata": {},
   "outputs": [],
   "source": [
    "df['Family'] = df['SibSp'] + df['Parch'] + 1"
   ]
  },
  {
   "cell_type": "code",
   "execution_count": null,
   "metadata": {},
   "outputs": [],
   "source": [
    "df.head()"
   ]
  },
  {
   "cell_type": "code",
   "execution_count": null,
   "metadata": {},
   "outputs": [],
   "source": [
    "drop_features = ['SibSp', 'Parch']\n",
    "df.drop(drop_features, axis=1, inplace=True)\n",
    "df.head()"
   ]
  },
  {
   "cell_type": "markdown",
   "metadata": {},
   "source": [
    "### 9. Cabin"
   ]
  },
  {
   "cell_type": "code",
   "execution_count": null,
   "metadata": {},
   "outputs": [],
   "source": [
    "!pip install missingno"
   ]
  },
  {
   "cell_type": "code",
   "execution_count": null,
   "metadata": {},
   "outputs": [],
   "source": [
    "import missingno\n",
    "missingno.matrix(df, figsize = (15,5))"
   ]
  },
  {
   "cell_type": "code",
   "execution_count": null,
   "metadata": {},
   "outputs": [],
   "source": [
    "df['Cabin'].unique() # level 값 확인"
   ]
  },
  {
   "cell_type": "code",
   "execution_count": null,
   "metadata": {},
   "outputs": [],
   "source": [
    "df['Cabin'] = df['Cabin'].fillna('U')  # Unknown 의 약자로 U 로 구분해서 넣기"
   ]
  },
  {
   "cell_type": "code",
   "execution_count": null,
   "metadata": {},
   "outputs": [],
   "source": [
    "df['Cabin'] = df['Cabin'].str[0] # 각 컬럼값을 문자열로 추출해서, 첫 글자로 대입"
   ]
  },
  {
   "cell_type": "code",
   "execution_count": null,
   "metadata": {},
   "outputs": [],
   "source": [
    "df['Cabin'].unique()"
   ]
  },
  {
   "cell_type": "code",
   "execution_count": null,
   "metadata": {},
   "outputs": [],
   "source": [
    "df[df['Cabin'] == 'U']['Ticket'] # Ticket 으로 Cabin 예측은 어려워보임"
   ]
  },
  {
   "cell_type": "code",
   "execution_count": null,
   "metadata": {},
   "outputs": [],
   "source": [
    "train = df[:ntrain]"
   ]
  },
  {
   "cell_type": "code",
   "execution_count": null,
   "metadata": {},
   "outputs": [],
   "source": [
    "train"
   ]
  },
  {
   "cell_type": "code",
   "execution_count": null,
   "metadata": {},
   "outputs": [],
   "source": [
    "import plotly.express as px  # Plotly Express 임포트\n",
    "\n",
    "# 1. 원본 train 데이터프레임을 수정하지 않기 위해 복사본을 만듭니다.\n",
    "#    이번에는 Cabin 분석을 위해 변수명을 train_cabin으로 사용합니다.\n",
    "train_cabin = train.copy()\n",
    "\n",
    "# 2. \"Survived\" 컬럼의 값(0 또는 1)을 사용하여, 생존 여부를 \"Dead\"와 \"Survived\"로 표시하는\n",
    "#    새로운 컬럼 \"Outcome\"을 생성합니다.\n",
    "train_cabin[\"Outcome\"] = train_cabin[\"Survived\"].map({0: \"Dead\", 1: \"Survived\"})\n",
    "\n",
    "\n",
    "# 4. Plotly Express를 사용하여 Cabin 분포를 히스토그램으로 시각화합니다.\n",
    "#    여기서는 barmode를 'overlay'로 설정하여 Dead와 Survived 데이터가 겹쳐(overlaid) 표시되도록 합니다.\n",
    "fig = px.histogram(\n",
    "    train_cabin,                           # 데이터: Cabin 분석을 위한 train_cabin 복사본 사용\n",
    "    x=\"Cabin\",                             # x축: Cabin (선실)\n",
    "    color=\"Outcome\",                       # 색상 구분: Outcome 컬럼 (\"Dead\" 또는 \"Survived\")\n",
    "    barmode=\"overlay\",                     # 막대그래프 모드: overlay (막대들이 겹쳐서 표시됨)\n",
    "    title=\"Cabin Distribution by Survival Status (Overlay)\"  # 그래프 제목\n",
    ")\n",
    "\n",
    "# 5. 생성된 그래프를 출력합니다.\n",
    "fig.show()\n"
   ]
  },
  {
   "cell_type": "markdown",
   "metadata": {},
   "source": [
    "> 이렇게 처리해보니, 경향성이 있어 보임"
   ]
  },
  {
   "cell_type": "code",
   "execution_count": null,
   "metadata": {},
   "outputs": [],
   "source": [
    "# factorize()는 (코드 배열, 고유값 배열)을 반환합니다. 예를 들어, 'Cabin'의 'U'는 (0, 'U')와 같이 매핑됩니다.\n",
    "# 여기서는 첫 번째 반환값인 코드 배열만 사용하여 'Cabin' 컬럼을 정수 레이블로 변환합니다.\n",
    "df['Cabin'] = df['Cabin'].factorize()[0]"
   ]
  },
  {
   "cell_type": "code",
   "execution_count": null,
   "metadata": {},
   "outputs": [],
   "source": [
    "df.head(n=10)"
   ]
  },
  {
   "cell_type": "markdown",
   "metadata": {},
   "source": [
    "### 10. Ticket"
   ]
  },
  {
   "cell_type": "code",
   "execution_count": null,
   "metadata": {},
   "outputs": [],
   "source": [
    "df['Ticket'].unique()"
   ]
  },
  {
   "cell_type": "code",
   "execution_count": null,
   "metadata": {},
   "outputs": [],
   "source": [
    "df['Ticket_Initial'] = df['Ticket'].str.extract('([^ \\t\\n\\r\\f\\v]+) ')"
   ]
  },
  {
   "cell_type": "markdown",
   "metadata": {},
   "source": [
    "> 파이썬 입문과 크롤링 부트캠프에서 설명한 부분입니다\n",
    "\n",
    "<table>\n",
    "    <thead>\n",
    "        <tr style=\"font-size:1.2em\">\n",
    "            <th style=\"text-align:center\">정규 표현식</th>\n",
    "            <th style=\"text-align:center\">축약 표현</th>\n",
    "            <th style=\"text-align:left\">사용 예</th>\n",
    "        </tr>\n",
    "    </thead>\n",
    "    <tbody>\n",
    "        <tr style=\"font-size:1.2em\">\n",
    "            <td style=\"text-align:center\">[0-9]</td>\n",
    "            <td style=\"text-align:center\">\\d</td>\n",
    "            <td style=\"text-align:left\">숫자를 찾음</td>\n",
    "        </tr>\n",
    "        <tr style=\"font-size:1.2em\">\n",
    "            <td style=\"text-align:center\">[^0-9]</td>\n",
    "            <td style=\"text-align:center\">\\D</td>\n",
    "            <td style=\"text-align:left\">숫자가 아닌 것을 찾음(텍스트, 특수 문자, white space(스페이스, 탭, 엔터 등등)를 찾을 때)</td>\n",
    "        </tr>\n",
    "        <tr style=\"font-size:1.2em\">\n",
    "            <td style=\"text-align:center\">[ \\t\\n\\r\\f\\v]</td>\n",
    "            <td style=\"text-align:center\">\\s</td>\n",
    "            <td style=\"text-align:left\">white space(스페이스, 탭, 엔터 등등) 문자인 것을 찾음</td>\n",
    "        </tr>\n",
    "        <tr style=\"font-size:1.2em\">\n",
    "            <td style=\"text-align:center\">[^ \\t\\n\\r\\f\\v]</td>\n",
    "            <td style=\"text-align:center\">\\S</td>\n",
    "            <td style=\"text-align:left\">white space(스페이스, 탭, 엔터 등등) 문자가 아닌 것을 찾음(텍스트, 특수 문자, 숫자를 찾을 때)</td>\n",
    "        </tr>\n",
    "        <tr style=\"font-size:1.2em\">\n",
    "            <td style=\"text-align:center\">[A-Za-z0-9]</td>\n",
    "            <td style=\"text-align:center\">\\w</td>\n",
    "            <td style=\"text-align:left\">문자, 숫자를 찾음</td>\n",
    "        </tr>\n",
    "        <tr style=\"font-size:1.2em\">\n",
    "            <td style=\"text-align:center\">[^A-Za-z0-9]</td>\n",
    "            <td style=\"text-align:center\">\\W</td>\n",
    "            <td style=\"text-align:left\">문자, 숫자가 아닌 것을 찾음</td>\n",
    "        </tr>\n",
    "    </tbody>\n",
    "</table>"
   ]
  },
  {
   "cell_type": "code",
   "execution_count": null,
   "metadata": {},
   "outputs": [],
   "source": [
    "df.head()"
   ]
  },
  {
   "cell_type": "code",
   "execution_count": null,
   "metadata": {},
   "outputs": [],
   "source": [
    "df['Ticket_Num'] = df['Ticket'].str.extract('( [^ \\t\\n\\r\\f\\v]+)')"
   ]
  },
  {
   "cell_type": "code",
   "execution_count": null,
   "metadata": {},
   "outputs": [],
   "source": [
    "df.head()"
   ]
  },
  {
   "cell_type": "code",
   "execution_count": null,
   "metadata": {},
   "outputs": [],
   "source": [
    "df['Ticket_Num'] = df['Ticket_Num'].fillna(df['Ticket'])"
   ]
  },
  {
   "cell_type": "code",
   "execution_count": null,
   "metadata": {},
   "outputs": [],
   "source": [
    "df[df['Ticket_Num'] == 'LINE']"
   ]
  },
  {
   "cell_type": "code",
   "execution_count": null,
   "metadata": {},
   "outputs": [],
   "source": [
    "df.loc[(df['Ticket_Num'] == 'LINE'),'Ticket_Initial']= 'LINE'\n",
    "df.loc[(df['Ticket_Num'] == 'LINE'),'Ticket_Num']= 0"
   ]
  },
  {
   "cell_type": "code",
   "execution_count": null,
   "metadata": {},
   "outputs": [],
   "source": [
    "df[df['Ticket_Initial'] == 'LINE']"
   ]
  },
  {
   "cell_type": "code",
   "execution_count": null,
   "metadata": {},
   "outputs": [],
   "source": [
    "df[df['Ticket_Num'] == ' Basle']"
   ]
  },
  {
   "cell_type": "code",
   "execution_count": null,
   "metadata": {},
   "outputs": [],
   "source": [
    "df.loc[(df['Ticket_Num'] == ' Basle'), 'Ticket_Num'] = 541"
   ]
  },
  {
   "cell_type": "code",
   "execution_count": null,
   "metadata": {},
   "outputs": [],
   "source": [
    "df[df['Ticket_Num'] == ' Basle']"
   ]
  },
  {
   "cell_type": "markdown",
   "metadata": {},
   "source": [
    "- str.replace( ) 함수는 조건에 맞는 것을 다른 것으로 대체 해주는 함수.\n",
    "- '[^A-Za-z]' 는 알파벳 문자가 아닌 문자를 뜻하는 정규 표현식.\n",
    "- repl = '' 이건 제거하겠다는 의미, 만약 ' '면 공백으로 대체됨.\n",
    "- regex=True 이거는 꼭 작성해줘야 정규표현식이 작동함."
   ]
  },
  {
   "cell_type": "code",
   "execution_count": null,
   "metadata": {},
   "outputs": [],
   "source": [
    "df['Ticket_Initial_Test'] = df['Ticket_Initial'].str.replace(pat='[^A-Za-z]', repl='', regex=True)"
   ]
  },
  {
   "cell_type": "code",
   "execution_count": null,
   "metadata": {},
   "outputs": [],
   "source": [
    "df['Ticket_Initial2'] = df['Ticket_Initial'].str.replace(pat='[^A-Za-z]', repl='', regex=True).str[0:2]"
   ]
  },
  {
   "cell_type": "code",
   "execution_count": null,
   "metadata": {},
   "outputs": [],
   "source": [
    "df.head()"
   ]
  },
  {
   "cell_type": "code",
   "execution_count": null,
   "metadata": {},
   "outputs": [],
   "source": [
    "train = df[:ntrain]"
   ]
  },
  {
   "cell_type": "code",
   "execution_count": null,
   "metadata": {},
   "outputs": [],
   "source": [
    "train"
   ]
  },
  {
   "cell_type": "code",
   "execution_count": null,
   "metadata": {},
   "outputs": [],
   "source": [
    "import plotly.express as px  # Plotly Express 임포트\n",
    "\n",
    "# 1. 원본 train 데이터프레임을 수정하지 않기 위해 복사본을 만듭니다.\n",
    "#    이번에는 Ticket_Initial2 분석을 위해 변수명을 train_ticket로 사용합니다.\n",
    "train_ticket = train.copy()\n",
    "\n",
    "# 2. \"Survived\" 컬럼의 값(0 또는 1)을 사용하여, 생존 여부를 \"Dead\"와 \"Survived\"로 표시하는 새로운 컬럼 \"Outcome\"을 생성합니다.\n",
    "train_ticket[\"Outcome\"] = train_ticket[\"Survived\"].map({0: \"Dead\", 1: \"Survived\"})\n",
    "\n",
    "# 3. Plotly Express를 사용하여 Ticket_Initial2 분포를 히스토그램으로 시각화합니다.\n",
    "#    여기서는 barmode를 'overlay'로 설정하여 Dead와 Survived 데이터가 겹쳐(overlaid) 표시되도록 합니다.\n",
    "fig = px.histogram(\n",
    "    train_ticket,                                  # 데이터: Ticket_Initial2 분석을 위한 train_ticket 복사본 사용\n",
    "    x=\"Ticket_Initial2\",                           # x축: Ticket_Initial2 (티켓의 초기 문자)\n",
    "    color=\"Outcome\",                               # 색상 구분: Outcome 컬럼 (\"Dead\" 또는 \"Survived\")\n",
    "    barmode=\"overlay\",                             # 막대그래프 모드: overlay (막대들이 겹쳐서 표시됨)\n",
    "    title=\"Ticket_Initial2 Distribution by Survival Status (Overlay)\"  # 그래프 제목\n",
    ")\n",
    "\n",
    "# 4. 생성된 그래프를 출력합니다.\n",
    "fig.show()\n"
   ]
  },
  {
   "cell_type": "code",
   "execution_count": null,
   "metadata": {},
   "outputs": [],
   "source": [
    "df['Ticket_Initial2'].isnull().sum()"
   ]
  },
  {
   "cell_type": "code",
   "execution_count": null,
   "metadata": {},
   "outputs": [],
   "source": [
    "df['Ticket_Initial2'] = df['Ticket_Initial2'].fillna('UN')\n",
    "train = df[:ntrain]\n",
    "train.head()"
   ]
  },
  {
   "cell_type": "code",
   "execution_count": null,
   "metadata": {},
   "outputs": [],
   "source": [
    "import plotly.express as px  # Plotly Express 임포트\n",
    "\n",
    "# 1. 원본 train 데이터프레임을 수정하지 않기 위해 복사본을 만듭니다.\n",
    "#    이번에는 Ticket_Initial2 분석을 위해 변수명을 train_ticket로 사용합니다.\n",
    "train_ticket = train.copy()\n",
    "\n",
    "# 2. \"Survived\" 컬럼의 값(0 또는 1)을 사용하여, 생존 여부를 \"Dead\"와 \"Survived\"로 표시하는 새로운 컬럼 \"Outcome\"을 생성합니다.\n",
    "train_ticket[\"Outcome\"] = train_ticket[\"Survived\"].map({0: \"Dead\", 1: \"Survived\"})\n",
    "\n",
    "# 3. Plotly Express를 사용하여 Ticket_Initial2 분포를 히스토그램으로 시각화합니다.\n",
    "#    여기서는 barmode를 'overlay'로 설정하여 Dead와 Survived 데이터가 겹쳐(overlaid) 표시되도록 합니다.\n",
    "fig = px.histogram(\n",
    "    train_ticket,                                  # 데이터: Ticket_Initial2 분석을 위한 train_ticket 복사본 사용\n",
    "    x=\"Ticket_Initial2\",                           # x축: Ticket_Initial2 (티켓의 초기 문자)\n",
    "    color=\"Outcome\",                               # 색상 구분: Outcome 컬럼 (\"Dead\" 또는 \"Survived\")\n",
    "    barmode=\"overlay\",                             # 막대그래프 모드: overlay (막대들이 겹쳐서 표시됨)\n",
    "    title=\"Ticket_Initial2 Distribution by Survival Status (Overlay)\"  # 그래프 제목\n",
    ")\n",
    "\n",
    "# 4. 생성된 그래프를 출력합니다.\n",
    "fig.show()\n"
   ]
  },
  {
   "cell_type": "code",
   "execution_count": null,
   "metadata": {},
   "outputs": [],
   "source": [
    "df['Ticket_Initial2'] = df['Ticket_Initial2'].factorize()[0]"
   ]
  },
  {
   "cell_type": "markdown",
   "metadata": {},
   "source": [
    "### qcut() 과 cut()\n",
    "- pandas.qcut(나눌데이터컬럼, q=나눌 수, labels=각그룹이름(배열) 또는 False)\n",
    "  - 나눌데이터컬럼값의 분포를 기반으로, 균등 사이즈로 각 그룹으로 나눔\n",
    "- pandas.cut(나눌데이터컬럼, 나눌 수)\n",
    "  - 나눌데이터컬럼값을 기반으로 동일한 범위로, 각 그룹을 나눔"
   ]
  },
  {
   "cell_type": "code",
   "execution_count": null,
   "metadata": {},
   "outputs": [],
   "source": [
    "df['Ticket_Num_Cut'] = df['Ticket_Num'].astype('float')"
   ]
  },
  {
   "cell_type": "code",
   "execution_count": null,
   "metadata": {},
   "outputs": [],
   "source": [
    "df['Ticket_Num_Cut'] = pd.qcut(df['Ticket_Num_Cut'], q=10, labels=False)"
   ]
  },
  {
   "cell_type": "code",
   "execution_count": null,
   "metadata": {},
   "outputs": [],
   "source": [
    "df.head()"
   ]
  },
  {
   "cell_type": "code",
   "execution_count": null,
   "metadata": {},
   "outputs": [],
   "source": [
    "import plotly.express as px  # Plotly Express 임포트\n",
    "\n",
    "# 1. 원본 df 데이터프레임을 수정하지 않기 위해 복사본을 만듭니다.\n",
    "df_ticket = df.copy()\n",
    "\n",
    "# 2. \"Survived\" 컬럼의 값(0 또는 1)을 사용하여, 생존 여부를 \"Dead\"와 \"Survived\"로 표시하는\n",
    "#    새로운 컬럼 \"Outcome\"을 생성합니다.\n",
    "df_ticket[\"Outcome\"] = df_ticket[\"Survived\"].map({0: \"Dead\", 1: \"Survived\"})\n",
    "\n",
    "# 3. Plotly Express를 사용하여 Ticket_Num_Cut 분포를 히스토그램으로 시각화합니다.\n",
    "#    여기서는 nbins 옵션을 지정하지 않아, 자동으로 구간(bin) 수가 결정되도록 합니다.\n",
    "#    barmode를 'overlay'로 설정하여 Dead와 Survived 데이터가 겹쳐(overlaid) 표시되도록 합니다.\n",
    "fig = px.histogram(\n",
    "    df_ticket,                     # 데이터: df_ticket 복사본 사용\n",
    "    x=\"Ticket_Num_Cut\",            # x축: Ticket_Num_Cut (티켓 번호의 구간화된 값)\n",
    "    color=\"Outcome\",               # 색상 구분: Outcome 컬럼 (\"Dead\" 또는 \"Survived\")\n",
    "    barmode=\"overlay\",             # 막대그래프 모드: overlay (막대들이 겹쳐서 표시됨)\n",
    "    title=\"Ticket_Num_Cut Distribution by Survival Status (Overlay)\"  # 그래프 제목\n",
    ")\n",
    "\n",
    "# 4. 생성된 그래프를 출력합니다.\n",
    "fig.show()\n"
   ]
  },
  {
   "cell_type": "markdown",
   "metadata": {},
   "source": [
    "> 이정도 하면 경향성이 다소 보임"
   ]
  },
  {
   "cell_type": "code",
   "execution_count": null,
   "metadata": {},
   "outputs": [],
   "source": [
    "df.head()"
   ]
  },
  {
   "cell_type": "code",
   "execution_count": null,
   "metadata": {},
   "outputs": [],
   "source": [
    "drop_features = ['Ticket', 'Ticket_Initial_Test', 'Ticket_Initial', 'Ticket_Num']\n",
    "df.drop(drop_features, axis=1, inplace=True)\n",
    "df.head()"
   ]
  },
  {
   "cell_type": "markdown",
   "metadata": {},
   "source": [
    "### pickle \n",
    "- 데이터 구조나 객체등 어떤 데이터도 파일로 저장하고, 읽을 수 있음\n",
    "- 리스트를 저장하면, 해당 파일을 읽어서, 리스트 변수에 값을 넣을 수 있음"
   ]
  },
  {
   "cell_type": "code",
   "execution_count": null,
   "metadata": {},
   "outputs": [],
   "source": [
    "import pickle"
   ]
  },
  {
   "cell_type": "markdown",
   "metadata": {},
   "source": [
    "#### pickle 데이터 읽는 방법1: 일반 데이터(리스트 등) 불러오기\n",
    "- 파일 경로는 전체 디렉토리와 파일명을 모두 입력하거나\n",
    "- 파일명만 입력할 경우, 현재 주피터 노트북이 실행 중인 폴더 내 파일을 참조합니다\n",
    "```python\n",
    "with open(파일경로, 'rb') as pickle_file:\n",
    "    datas1 = pickle.load(pickle_file)\n",
    "```\n",
    "\n",
    "#### pickle 데이터 읽는 방법2: 데이터프레임 불러오기 (202502 업데이트)\n",
    "- pandas 2.0.3 버전 이상에서는 `pickle.load`로 데이터프레임 로드 시 오류가 발생하므로 `pd.read_pickle()`을 사용해야 합니다\n",
    "```python\n",
    "with open('titanic_step1_feature_change.pickle', 'rb') as pickle_file:\n",
    "    df = pd.read_pickle(pickle_file)\n",
    "```\n",
    "\n",
    "#### pickle 데이터 저장 방법: 리스트 등 일반 데이터 저장하기\n",
    "- 파일 경로는 전체 디렉토리와 파일명을 모두 입력하거나\n",
    "- 파일명만 입력할 경우, 현재 주피터 노트북이 실행 중인 폴더에 파일이 저장됩니다\n",
    "```python\n",
    "with open(파일경로, 'wb') as pickle_file:\n",
    "    pickle.dump(datas1, pickle_file)\n",
    "```"
   ]
  },
  {
   "cell_type": "code",
   "execution_count": null,
   "metadata": {},
   "outputs": [],
   "source": [
    "import pickle\n",
    "with open('titanic_step1_feature_change.pickle', 'wb') as pickle_filename:\n",
    "    pickle.dump(df, pickle_filename)"
   ]
  },
  {
   "cell_type": "markdown",
   "metadata": {},
   "source": [
    "<div class=\"alert alert-block\" style=\"border: 2px solid #1976D2;background-color:#E3F2FD;padding:5px;font-size:0.9em;\">\n",
    "본 자료는 저작권법 제25조 2항에 의해 보호를 받습니다. 본 컨텐츠 및 컨텐츠 일부 문구등을 외부에 공개, 게시하지 말아주세요.<br>\n",
    "본 강의를 잘 정리하면, 데이터 분석과 데이터 과학(머신러닝, 인공지능) 모두 가능합니다!<br>\n",
    "<b><a href=\"https://school.fun-coding.org/\">잔재미코딩</a> 에서 본 강의 기반 최적화된 로드맵도 확인하실 수 있습니다</b>\n",
    "</div>"
   ]
  }
 ],
 "metadata": {
  "kernelspec": {
   "display_name": "Python 3 (ipykernel)",
   "language": "python",
   "name": "python3"
  },
  "language_info": {
   "codemirror_mode": {
    "name": "ipython",
    "version": 3
   },
   "file_extension": ".py",
   "mimetype": "text/x-python",
   "name": "python",
   "nbconvert_exporter": "python",
   "pygments_lexer": "ipython3",
   "version": "3.12.7"
  }
 },
 "nbformat": 4,
 "nbformat_minor": 4
}
