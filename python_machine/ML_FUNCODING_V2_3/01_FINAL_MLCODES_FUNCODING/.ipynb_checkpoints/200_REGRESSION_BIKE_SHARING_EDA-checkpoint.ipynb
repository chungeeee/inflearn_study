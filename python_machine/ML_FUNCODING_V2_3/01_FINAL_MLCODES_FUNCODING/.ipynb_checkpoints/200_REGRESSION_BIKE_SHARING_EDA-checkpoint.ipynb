{
 "cells": [
  {
   "cell_type": "markdown",
   "metadata": {},
   "source": [
    "<div class=\"alert alert-block\" style=\"border: 2px solid #1976D2;background-color:#E3F2FD;padding:5px;font-size:0.9em;\">\n",
    "본 자료는 저작권법 제25조 2항에 의해 보호를 받습니다. 본 컨텐츠 및 컨텐츠 일부 문구등을 외부에 공개, 게시하지 말아주세요.<br>\n",
    "본 강의를 잘 정리하면, 데이터 분석과 데이터 과학(머신러닝, 인공지능) 모두 가능합니다!<br>\n",
    "<b><a href=\"https://school.fun-coding.org/\">잔재미코딩</a> 에서 본 강의 기반 최적화된 로드맵도 확인하실 수 있습니다</b>\n",
    "</div>"
   ]
  },
  {
   "cell_type": "markdown",
   "metadata": {},
   "source": [
    "### 0. Get data\n",
    "- https://www.kaggle.com/c/bike-sharing-demand"
   ]
  },
  {
   "cell_type": "raw",
   "metadata": {},
   "source": [
    "!kaggle competitions download -c bike-sharing-demand"
   ]
  },
  {
   "cell_type": "markdown",
   "metadata": {},
   "source": [
    "### 1. train/test 데이터 임포트"
   ]
  },
  {
   "cell_type": "code",
   "execution_count": null,
   "metadata": {},
   "outputs": [],
   "source": [
    "import numpy as np\n",
    "import pandas as pd\n",
    "\n",
    "from sklearn.ensemble import RandomForestRegressor, GradientBoostingRegressor\n",
    "from sklearn.preprocessing import OneHotEncoder, StandardScaler\n",
    "from sklearn.model_selection import StratifiedKFold\n",
    "from sklearn.metrics import accuracy_score\n",
    "\n",
    "import string\n",
    "import warnings\n",
    "import missingno\n",
    "warnings.filterwarnings('ignore')"
   ]
  },
  {
   "cell_type": "code",
   "execution_count": null,
   "metadata": {},
   "outputs": [],
   "source": [
    "df_train = pd.read_csv('bikesharing/train.csv')\n",
    "df_test = pd.read_csv('bikesharing/test.csv')\n",
    "df_all = pd.concat((df_train, df_test)).reset_index(drop=True)"
   ]
  },
  {
   "cell_type": "code",
   "execution_count": null,
   "metadata": {},
   "outputs": [],
   "source": [
    "df_all.head()"
   ]
  },
  {
   "cell_type": "markdown",
   "metadata": {},
   "source": [
    "### 자전거 공유 플랫폼\n",
    "\n",
    "- 자전거 공유 플랫폼은 도시 곳곳에 설치한 키오스크를 통해서, 특정 장소에서 빌려서, 자전거를 타고, 다시 특정 장소에 리턴해놓는 시스템을 의미함"
   ]
  },
  {
   "cell_type": "markdown",
   "metadata": {},
   "source": [
    "### 주요 컬럼\n",
    "\n",
    "* datetime: 연-월-일 시:분:초\n",
    "* season:\n",
    "   - 1 = spring\n",
    "   - 2 = summer\n",
    "   - 3 = fall\n",
    "   - 4 = winter \n",
    "* holiday: 해당 날짜(datetime)가 공휴일이었는지 여부(1은 공휴일)\n",
    "   - 공휴일이 아닌, 일반적인 주말(일안하는 날)은 0으로 표기됨\n",
    "* workingday: 해당 날짜(datetime)가 일하는 날(즉, 워킹데이, 공휴일 또는 주말이 아닌 날)인지 여부(1은 해당 날짜가 일하는 날임을 의미함)\n",
    "* weather:\n",
    "    * 1: Clear, Few clouds, Partly cloudy, Partly cloudy\n",
    "    * 2: Mist + Cloudy, Mist + Broken clouds, Mist + Few clouds, Mist\n",
    "    * 3: Light Snow, Light Rain + Thunderstorm + Scattered clouds, Light Rain + Scattered clouds\n",
    "    * 4: Heavy Rain + Ice Pallets + Thunderstorm + Mist, Snow + Fog \n",
    "* temp: 절대 온도 (화씨, C)\n",
    "* atemp: 체감 온도 (화씨, C)\n",
    "* humidity: 상대 습도\n",
    "* windspeed: 풍속\n",
    "* casual: 등록안한 사람의 대여 횟수\n",
    "* registered: 등록자의 대여 횟수\n",
    "* count: 총 대여 횟수 (casual + registered)"
   ]
  },
  {
   "cell_type": "markdown",
   "metadata": {},
   "source": [
    "### holiday 와 workingday 의 이해\n",
    "- 2011-01-17 과 workingday 추이를 보면 holiday 와 workingday 를 이해할 수 있음"
   ]
  },
  {
   "cell_type": "code",
   "execution_count": null,
   "metadata": {},
   "outputs": [],
   "source": [
    "df_train['datetime'] = pd.to_datetime(df_train['datetime'], format='%Y-%m-%d %H:%M:%S', errors='raise')\n",
    "df_train.groupby(pd.Grouper(key='datetime', freq='D')).mean().head(20)"
   ]
  },
  {
   "cell_type": "markdown",
   "metadata": {},
   "source": [
    "### train 과 test 컬럼 확인\n",
    "- test 에는 casual, registered, count 가 없고, \n",
    "- casual + registered = count 이므로,\n",
    "- test 의 count 를 예측하는 것이 목표임을 이해할 수 있음"
   ]
  },
  {
   "cell_type": "markdown",
   "metadata": {},
   "source": [
    "> train 은 매달 1일부터 19일까지, test 는 매달 20일부터, 마지막일까지를 가지고 있다고 캐글 사이트에서 설명하고 있음\n",
    "> https://www.kaggle.com/c/bike-sharing-demand/data"
   ]
  },
  {
   "cell_type": "code",
   "execution_count": null,
   "metadata": {},
   "outputs": [],
   "source": [
    "df_train['datetime_timestamp'] = pd.to_datetime(df_train['datetime'], format='%Y-%m-%d %H:%M:%S')\n",
    "df_train['datetime_timestamp'].dt.strftime('%Y-%m-%d').unique()"
   ]
  },
  {
   "cell_type": "code",
   "execution_count": null,
   "metadata": {},
   "outputs": [],
   "source": [
    "df_test['datetime_timestamp'] = pd.to_datetime(df_test['datetime'], format='%Y-%m-%d %H:%M:%S')\n",
    "df_test['datetime_timestamp'].dt.strftime('%Y-%m-%d').unique()"
   ]
  },
  {
   "cell_type": "markdown",
   "metadata": {},
   "source": [
    "### 결측치 확인"
   ]
  },
  {
   "cell_type": "code",
   "execution_count": null,
   "metadata": {},
   "outputs": [],
   "source": [
    "missingno.matrix(df_train)"
   ]
  },
  {
   "cell_type": "code",
   "execution_count": null,
   "metadata": {},
   "outputs": [],
   "source": [
    "missingno.matrix(df_test)"
   ]
  },
  {
   "cell_type": "markdown",
   "metadata": {},
   "source": [
    "### Understanding"
   ]
  },
  {
   "cell_type": "code",
   "execution_count": null,
   "metadata": {},
   "outputs": [],
   "source": [
    "df_train = pd.read_csv('bikesharing/train.csv')\n",
    "df_test = pd.read_csv('bikesharing/test.csv')\n",
    "df_all = pd.concat((df_train, df_test)).reset_index(drop=True)"
   ]
  },
  {
   "cell_type": "code",
   "execution_count": null,
   "metadata": {},
   "outputs": [],
   "source": [
    "df_train.shape"
   ]
  },
  {
   "cell_type": "code",
   "execution_count": null,
   "metadata": {},
   "outputs": [],
   "source": [
    "df_test.shape"
   ]
  },
  {
   "cell_type": "code",
   "execution_count": null,
   "metadata": {},
   "outputs": [],
   "source": [
    "df_train = df_all[:10886]\n",
    "df_test = df_all[10886:]"
   ]
  },
  {
   "cell_type": "code",
   "execution_count": null,
   "metadata": {},
   "outputs": [],
   "source": [
    "def split_df(df):\n",
    "    return df[:10886], df[10886:]"
   ]
  },
  {
   "cell_type": "code",
   "execution_count": null,
   "metadata": {},
   "outputs": [],
   "source": [
    "dt = pd.DatetimeIndex(df_all['datetime'])\n",
    "df_all.set_index(dt, inplace=True)\n",
    "\n",
    "df_all['date'] = dt.date\n",
    "df_all['day'] = dt.day\n",
    "df_all['month'] = dt.month\n",
    "df_all['year'] = dt.year\n",
    "df_all['hour'] = dt.hour\n",
    "df_all['dow'] = dt.dayofweek\n",
    "\n",
    "# 202502 업데이트: 최신 라이브러리에서는 weekofyear 가 지원되지 않음\n",
    "# 기존 코드: df_all['woy'] = dt.weekofyear\n",
    "df_all['woy'] = dt.isocalendar().week"
   ]
  },
  {
   "cell_type": "code",
   "execution_count": null,
   "metadata": {},
   "outputs": [],
   "source": [
    "df_all.head()"
   ]
  },
  {
   "cell_type": "markdown",
   "metadata": {},
   "source": [
    "- 본 머신러닝 문제의 성능 평가는 RMSLE(Root Mean Squared Log Error) 를 사용하므로,\n",
    "- RMSLE 계산을 위해, 관련 예측해야 하는 값들을 RMSLE 공식에 맞게, 변환한 컬럼을 추가함\n",
    "$$ RMSLE = \\sqrt{\\dfrac{\\sum_{i=0}^N (log(y_i + 1) - log(\\hat{y_i} + 1))^2 }{N}} $$ \n",
    "\n",
    "- 참고: 위의 log 는 자연 로그로, 자연 로그(natural logarithm)는 e를 밑으로 하는 로그를 의미함 "
   ]
  },
  {
   "cell_type": "code",
   "execution_count": null,
   "metadata": {},
   "outputs": [],
   "source": [
    "df_all['casual_log'] = np.log(df_all['casual'] + 1)\n",
    "df_all['registered_log'] = np.log(df_all['registered'] + 1)\n",
    "df_all['count_log'] = np.log(df_all['count'] + 1)"
   ]
  },
  {
   "cell_type": "markdown",
   "metadata": {},
   "source": [
    "### 타임 기반 EDA"
   ]
  },
  {
   "cell_type": "code",
   "execution_count": null,
   "metadata": {},
   "outputs": [],
   "source": [
    "import plotly.graph_objects as go\n",
    "from plotly.subplots import make_subplots\n",
    "\n",
    "df_train, df_test = split_df(df_all)\n",
    "\n",
    "def visualize(column_name):\n",
    "    # 202502 업데이트: sum() 메서드 사용시 데이터프레임이 숫자형 데이터 컬럼으로만 구성되어야 함\n",
    "    # 이를 위해 ['count'] 에 대해서만 sum() 을 수행하도록 변경\n",
    "    # 기존 코드\n",
    "    # df_train_workingday_time = df_train.groupby(['workingday', column_name]).sum()\n",
    "    # df_train_workingday_time = df_train_workingday_time.reset_index()\n",
    "    df_train_workingday_time = df_train.groupby(['workingday', column_name])['count'].sum().reset_index()\n",
    "    \n",
    "    times_nonworkday = df_train_workingday_time[df_train_workingday_time['workingday'] == 0][column_name]\n",
    "    counts_nonworkday = df_train_workingday_time[df_train_workingday_time['workingday'] == 0]['count']\n",
    "\n",
    "    times_workday = df_train_workingday_time[df_train_workingday_time['workingday'] == 1][column_name]\n",
    "    counts_workday = df_train_workingday_time[df_train_workingday_time['workingday'] == 1]['count']\n",
    "\n",
    "    df_temp_workday = pd.concat([times_workday, counts_workday], axis=1, keys=[column_name, 'count'])\n",
    "    df_temp_nonworkday = pd.concat([times_nonworkday, counts_nonworkday], axis=1, keys=[column_name, 'count'])\n",
    "    \n",
    "    fig = make_subplots(rows=1, cols=2, subplot_titles=(\"workday\", \"non-workday\"))\n",
    "    fig.add_trace( \n",
    "        go.Bar( x=df_temp_workday[column_name], y=df_temp_workday['count'], text=df_temp_workday['count'], textposition='auto', texttemplate='%{text:.0f}' ),\n",
    "        row=1, col=1\n",
    "    )\n",
    "    fig.add_trace( \n",
    "        go.Bar( x=df_temp_nonworkday[column_name], y=df_temp_nonworkday['count'], text=df_temp_nonworkday['count'], textposition='auto', texttemplate='%{text:.0f}' ),\n",
    "        row=1, col=2        \n",
    "    )\n",
    "    fig.update_layout(showlegend=False)\n",
    "    fig.show()"
   ]
  },
  {
   "cell_type": "raw",
   "metadata": {},
   "source": [
    "df_all['date'] = dt.date\n",
    "df_all['day'] = dt.day\n",
    "df_all['month'] = dt.month\n",
    "df_all['year'] = dt.year\n",
    "df_all['hour'] = dt.hour\n",
    "df_all['dow'] = dt.dayofweek\n",
    "\n",
    "# 202502 업데이트: 최신 라이브러리에서는 weekofyear 가 지원되지 않음\n",
    "# 기존 코드: df_all['woy'] = dt.weekofyear\n",
    "df_all['woy'] = dt.isocalendar().week"
   ]
  },
  {
   "cell_type": "code",
   "execution_count": null,
   "metadata": {},
   "outputs": [],
   "source": [
    "visualize('year')"
   ]
  },
  {
   "cell_type": "code",
   "execution_count": null,
   "metadata": {},
   "outputs": [],
   "source": [
    "visualize('month')"
   ]
  },
  {
   "cell_type": "code",
   "execution_count": null,
   "metadata": {},
   "outputs": [],
   "source": [
    "visualize('day')"
   ]
  },
  {
   "cell_type": "code",
   "execution_count": null,
   "metadata": {},
   "outputs": [],
   "source": [
    "visualize('dow')"
   ]
  },
  {
   "cell_type": "code",
   "execution_count": null,
   "metadata": {},
   "outputs": [],
   "source": [
    "visualize('woy')"
   ]
  },
  {
   "cell_type": "code",
   "execution_count": null,
   "metadata": {},
   "outputs": [],
   "source": [
    "visualize('hour')"
   ]
  },
  {
   "cell_type": "markdown",
   "metadata": {},
   "source": [
    "> 시간대별은 의미가 있어 보임 (피크 시간대가 있어 보임)"
   ]
  },
  {
   "cell_type": "markdown",
   "metadata": {},
   "source": [
    "### 시간대 분석"
   ]
  },
  {
   "cell_type": "code",
   "execution_count": null,
   "metadata": {},
   "outputs": [],
   "source": [
    "df_train, df_test = split_df(df_all)\n",
    "\n",
    "# 202502 업데이트: sum() 메서드 사용시 데이터프레임이 숫자형 데이터 컬럼으로만 구성되어야 함\n",
    "# 이를 위해 ['count'] 에 대해서만 sum() 을 수행하도록 변경\n",
    "# 기존 코드\n",
    "# df_train_workingday_hour = df_train.groupby(['workingday', 'hour']).sum()\n",
    "# df_train_workingday_hour = df_train_workingday_hour.reset_index()\n",
    "df_train_workingday_hour = df_train.groupby(['workingday', 'hour'])['count'].sum().reset_index()\n",
    "\n",
    "hours_nonworkday = df_train_workingday_hour[df_train_workingday_hour['workingday'] == 0]['hour']\n",
    "counts_nonworkday = df_train_workingday_hour[df_train_workingday_hour['workingday'] == 0]['count']\n",
    "\n",
    "hours_workday = df_train_workingday_hour[df_train_workingday_hour['workingday'] == 1]['hour']\n",
    "counts_workday = df_train_workingday_hour[df_train_workingday_hour['workingday'] == 1]['count']\n",
    "\n",
    "df_temp_workday = pd.concat([hours_workday, counts_workday], axis=1, keys=['hour', 'count'])\n",
    "df_temp_nonworkday = pd.concat([hours_nonworkday, counts_nonworkday], axis=1, keys=['hour', 'count'])"
   ]
  },
  {
   "cell_type": "code",
   "execution_count": null,
   "metadata": {},
   "outputs": [],
   "source": [
    "import plotly.graph_objects as go\n",
    "fig = go.Figure()\n",
    "fig.add_trace(\n",
    "    go.Bar( x=df_temp_workday['hour'], y=df_temp_workday['count'], text=df_temp_workday['count'], textposition='auto', texttemplate='%{text:.0f}' )\n",
    ")\n",
    "fig.update_layout({ \n",
    "        \"title\": { \"text\": \"<b>workday</b>\" },    \n",
    "        \"xaxis\": { \"showticklabels\":True, \"dtick\": \"1\" },\n",
    "        \"template\":'ggplot2'            \n",
    "})\n",
    "fig.show()\n",
    "\n",
    "fig = go.Figure()\n",
    "fig.add_trace(\n",
    "    go.Bar( x=df_temp_nonworkday['hour'], y=df_temp_nonworkday['count'], text=df_temp_nonworkday['count'], textposition='auto', texttemplate='%{text:.0f}' )\n",
    ")\n",
    "fig.update_layout({\n",
    "        \"title\": { \"text\": \"<b>non-workday</b>\" },\n",
    "        \"xaxis\": { \"showticklabels\":True, \"dtick\": \"1\" },\n",
    "        \"template\":'seaborn'            \n",
    "})\n",
    "fig.show()"
   ]
  },
  {
   "cell_type": "markdown",
   "metadata": {},
   "source": [
    "- workday peak time: 8, 17 ~ 18\n",
    "- non-workday peak time: 10 ~ 19"
   ]
  },
  {
   "cell_type": "code",
   "execution_count": null,
   "metadata": {},
   "outputs": [],
   "source": [
    "def func(df_data):\n",
    "    if df_data['workingday'] == 1:\n",
    "        if (df_data['hour'] == 8) or (df_data['hour'] >= 17 and df_data['hour'] <= 18):\n",
    "            return 1\n",
    "    else:\n",
    "        if (df_data['hour'] >= 10 and df_data['hour'] <= 19):\n",
    "            return 1\n",
    "    return 0\n",
    "\n",
    "# 0 or ‘index’: 각 컬럼에 함수 적용, 1 or ‘columns’: 각 행에 함수 적용\n",
    "df_all['peak'] = df_all.apply(func, axis=1)"
   ]
  },
  {
   "cell_type": "markdown",
   "metadata": {},
   "source": [
    "### 상관관계 분석"
   ]
  },
  {
   "cell_type": "code",
   "execution_count": null,
   "metadata": {},
   "outputs": [],
   "source": [
    "df_train, df_test = split_df(df_all)"
   ]
  },
  {
   "cell_type": "code",
   "execution_count": null,
   "metadata": {},
   "outputs": [],
   "source": [
    "df_train.columns"
   ]
  },
  {
   "cell_type": "code",
   "execution_count": null,
   "metadata": {},
   "outputs": [],
   "source": [
    "df_train_corr = df_train[['season', 'holiday', 'workingday', 'weather', 'temp', 'atemp', 'humidity', 'windspeed', 'casual', 'registered', 'count']]"
   ]
  },
  {
   "cell_type": "code",
   "execution_count": null,
   "metadata": {},
   "outputs": [],
   "source": [
    "import plotly.graph_objects as go\n",
    "import numpy as np\n",
    "\n",
    "# df_train_corr로부터 상관계수 행렬 계산\n",
    "corr_matrix = df_train_corr.corr()\n",
    "\n",
    "# 각 셀에 표시할 상관관계 값 (소수점 둘째자리)\n",
    "text_values = np.round(corr_matrix.values, 2)\n",
    "\n",
    "fig = go.Figure(data=go.Heatmap(\n",
    "    z=corr_matrix.values,\n",
    "    x=corr_matrix.columns,\n",
    "    y=corr_matrix.index,\n",
    "    colorscale='Blues',   # 파란 계통 컬러 스케일 사용\n",
    "    zmin=-1,              # 컬러바 범위 -1부터\n",
    "    zmax=1,               # 컬러바 범위 1까지\n",
    "    text=text_values,     # 셀에 표시할 텍스트 값\n",
    "    texttemplate=\"%{text}\"  # 텍스트 포맷 설정\n",
    "\n",
    "))\n",
    "\n",
    "fig.update_layout(\n",
    "    title=\"Correlation Heatmap\",\n",
    "    xaxis_title=\"Variables\",\n",
    "    yaxis_title=\"Variables\"\n",
    ")\n",
    "\n",
    "fig.show()"
   ]
  },
  {
   "cell_type": "markdown",
   "metadata": {},
   "source": [
    "### 온도, 풍속, 습도 분석"
   ]
  },
  {
   "cell_type": "code",
   "execution_count": null,
   "metadata": {},
   "outputs": [],
   "source": [
    "df_all.loc[ df_all['windspeed'] <= 5, 'windspeed_category'] = 0\n",
    "df_all.loc[(df_all['windspeed'] > 5) & (df_all['windspeed'] <= 10), 'windspeed_category'] = 1\n",
    "df_all.loc[(df_all['windspeed'] > 10) & (df_all['windspeed'] <= 15), 'windspeed_category'] = 2\n",
    "df_all.loc[(df_all['windspeed'] > 15) & (df_all['windspeed'] <= 20), 'windspeed_category'] = 3\n",
    "df_all.loc[(df_all['windspeed'] > 20) & (df_all['windspeed'] <= 25), 'windspeed_category'] = 4\n",
    "df_all.loc[(df_all['windspeed'] > 25) & (df_all['windspeed'] <= 30), 'windspeed_category'] = 5\n",
    "df_all.loc[(df_all['windspeed'] > 30) & (df_all['windspeed'] <= 35), 'windspeed_category'] = 6\n",
    "df_all.loc[(df_all['windspeed'] > 35) & (df_all['windspeed'] <= 40), 'windspeed_category'] = 7\n",
    "df_all.loc[(df_all['windspeed'] > 35) & (df_all['windspeed'] <= 40), 'windspeed_category'] = 8\n",
    "df_all.loc[(df_all['windspeed'] > 40) & (df_all['windspeed'] <= 45), 'windspeed_category'] = 9\n",
    "df_all.loc[(df_all['windspeed'] > 45) & (df_all['windspeed'] <= 50), 'windspeed_category'] = 10\n",
    "df_all.loc[ df_all['windspeed'] > 50, 'windspeed_category'] = 11"
   ]
  },
  {
   "cell_type": "code",
   "execution_count": null,
   "metadata": {},
   "outputs": [],
   "source": [
    "# 202502 업데이트: sum() 메서드 사용시 데이터프레임이 숫자형 데이터 컬럼으로만 구성되어야 함\n",
    "# 이를 위해 ['count'] 에 대해서만 sum() 을 수행하도록 변경\n",
    "# 기존 코드: df_temp_count = df_all.groupby('windspeed_category').sum()\n",
    "df_temp_count = df_all.groupby('windspeed_category')['count'].sum().reset_index()"
   ]
  },
  {
   "cell_type": "code",
   "execution_count": null,
   "metadata": {},
   "outputs": [],
   "source": [
    "fig = go.Figure()\n",
    "fig.add_trace(\n",
    "    go.Bar( x=df_temp_count.index, y=df_temp_count['count'], text=df_temp_count['count'], textposition='auto', texttemplate='%{text:.0f}' )\n",
    ")\n",
    "fig.update_layout({ \n",
    "        \"title\": { \"text\": \"<b>windspeed VS count </b>\" },    \n",
    "        \"xaxis\": { \"showticklabels\":True, \"dtick\": \"1\" },\n",
    "        \"template\":'ggplot2'            \n",
    "})\n",
    "fig.show()"
   ]
  },
  {
   "cell_type": "code",
   "execution_count": null,
   "metadata": {},
   "outputs": [],
   "source": [
    "df_all['temp'].describe()"
   ]
  },
  {
   "cell_type": "code",
   "execution_count": null,
   "metadata": {},
   "outputs": [],
   "source": [
    "df_all.loc[ df_all['temp'] <= 5, 'temp_category'] = 0\n",
    "df_all.loc[(df_all['temp'] > 5) & (df_all['temp'] <= 10), 'temp_category'] = 1\n",
    "df_all.loc[(df_all['temp'] > 10) & (df_all['temp'] <= 15), 'temp_category'] = 2\n",
    "df_all.loc[(df_all['temp'] > 15) & (df_all['temp'] <= 20), 'temp_category'] = 3\n",
    "df_all.loc[(df_all['temp'] > 20) & (df_all['temp'] <= 25), 'temp_category'] = 4\n",
    "df_all.loc[(df_all['temp'] > 25) & (df_all['temp'] <= 30), 'temp_category'] = 5\n",
    "df_all.loc[(df_all['temp'] > 30) & (df_all['temp'] <= 35), 'temp_category'] = 6\n",
    "df_all.loc[(df_all['temp'] > 35) & (df_all['temp'] <= 40), 'temp_category'] = 7\n",
    "df_all.loc[ df_all['temp'] > 40, 'temp_category'] = 8"
   ]
  },
  {
   "cell_type": "code",
   "execution_count": null,
   "metadata": {},
   "outputs": [],
   "source": [
    "# 202502 업데이트: sum() 메서드 사용시 데이터프레임이 숫자형 데이터 컬럼으로만 구성되어야 함\n",
    "# 이를 위해 ['count'] 에 대해서만 sum() 을 수행하도록 변경\n",
    "# 기존 코드: df_temp_count = df_all.groupby('temp_category').sum()\n",
    "df_temp_count = df_all.groupby('temp_category')['count'].sum().reset_index()"
   ]
  },
  {
   "cell_type": "code",
   "execution_count": null,
   "metadata": {},
   "outputs": [],
   "source": [
    "fig = go.Figure()\n",
    "fig.add_trace(\n",
    "    go.Bar( x=df_temp_count.index, y=df_temp_count['count'], text=df_temp_count['count'], textposition='auto', texttemplate='%{text:.0f}' )\n",
    ")\n",
    "fig.update_layout({ \n",
    "        \"title\": { \"text\": \"<b>temperature VS count </b>\" },    \n",
    "        \"xaxis\": { \"showticklabels\":True, \"dtick\": \"1\" },\n",
    "        \"template\":'ggplot2'            \n",
    "})\n",
    "fig.show()"
   ]
  },
  {
   "cell_type": "code",
   "execution_count": null,
   "metadata": {},
   "outputs": [],
   "source": [
    "df_all['humidity'].describe()"
   ]
  },
  {
   "cell_type": "code",
   "execution_count": null,
   "metadata": {},
   "outputs": [],
   "source": [
    "df_all.loc[ df_all['humidity'] <= 10, 'humidity_category'] = 0\n",
    "df_all.loc[(df_all['humidity'] > 10) & (df_all['humidity'] <= 20), 'humidity_category'] = 1\n",
    "df_all.loc[(df_all['humidity'] > 20) & (df_all['humidity'] <= 30), 'humidity_category'] = 2\n",
    "df_all.loc[(df_all['humidity'] > 30) & (df_all['humidity'] <= 40), 'humidity_category'] = 3\n",
    "df_all.loc[(df_all['humidity'] > 40) & (df_all['humidity'] <= 50), 'humidity_category'] = 4\n",
    "df_all.loc[(df_all['humidity'] > 50) & (df_all['humidity'] <= 60), 'humidity_category'] = 5\n",
    "df_all.loc[(df_all['humidity'] > 60) & (df_all['humidity'] <= 70), 'humidity_category'] = 6\n",
    "df_all.loc[(df_all['humidity'] > 70) & (df_all['humidity'] <= 80), 'humidity_category'] = 7\n",
    "df_all.loc[(df_all['humidity'] > 80) & (df_all['humidity'] <= 90), 'humidity_category'] = 8\n",
    "df_all.loc[ df_all['humidity'] > 90, 'humidity_category'] = 9"
   ]
  },
  {
   "cell_type": "code",
   "execution_count": null,
   "metadata": {},
   "outputs": [],
   "source": [
    "# 202502 업데이트: sum() 메서드 사용시 데이터프레임이 숫자형 데이터 컬럼으로만 구성되어야 함\n",
    "# 이를 위해 ['count'] 에 대해서만 sum() 을 수행하도록 변경\n",
    "# 기존 코드: df_temp_count = df_all.groupby('humidity_category').sum()\n",
    "df_temp_count = df_all.groupby('humidity_category')['count'].sum().reset_index()"
   ]
  },
  {
   "cell_type": "code",
   "execution_count": null,
   "metadata": {},
   "outputs": [],
   "source": [
    "fig = go.Figure()\n",
    "fig.add_trace(\n",
    "    go.Bar( x=df_temp_count.index, y=df_temp_count['count'], text=df_temp_count['count'], textposition='auto', texttemplate='%{text:.0f}' )\n",
    ")\n",
    "fig.update_layout({ \n",
    "        \"title\": { \"text\": \"<b>humidity VS count </b>\" },    \n",
    "        \"xaxis\": { \"showticklabels\":True, \"dtick\": \"1\" },\n",
    "        \"template\":'ggplot2'            \n",
    "})\n",
    "fig.show()"
   ]
  },
  {
   "cell_type": "code",
   "execution_count": null,
   "metadata": {},
   "outputs": [],
   "source": [
    "df_all.head()"
   ]
  },
  {
   "cell_type": "code",
   "execution_count": null,
   "metadata": {},
   "outputs": [],
   "source": [
    "# 202502 업데이트: sum() 메서드 사용시 데이터프레임이 숫자형 데이터 컬럼으로만 구성되어야 함\n",
    "# 기존 코드: df_temp_count = df_all.groupby(['workingday', 'humidity_category']).sum()\n",
    "# 숫자형 데이터 컬럼 필터링 방법\n",
    "# select_dtypes(): 특정 데이터 타입의 열만 선택하는 pandas 메서드 (include=[np.number]: 숫자 타입의 열만 포함)\n",
    "df_numeric = df_all.select_dtypes(include=[np.number])  # numpy 라이브러리가 필요\n",
    "df_temp_count = df_numeric.groupby(['workingday', 'humidity_category']).sum()"
   ]
  },
  {
   "cell_type": "code",
   "execution_count": null,
   "metadata": {},
   "outputs": [],
   "source": [
    "df_temp_count.head()"
   ]
  },
  {
   "cell_type": "code",
   "execution_count": null,
   "metadata": {},
   "outputs": [],
   "source": [
    "df_temp_count.loc[0]['count']"
   ]
  },
  {
   "cell_type": "markdown",
   "metadata": {},
   "source": [
    "### 복합 분석"
   ]
  },
  {
   "cell_type": "code",
   "execution_count": null,
   "metadata": {},
   "outputs": [],
   "source": [
    "fig = go.Figure()\n",
    "\n",
    "fig.add_trace(\n",
    "    go.Bar( x=df_temp_count.loc[0].index, y=df_temp_count.loc[0]['count'], name=\"non-workingday\" )\n",
    ")\n",
    "fig.add_trace(\n",
    "    go.Bar( x=df_temp_count.loc[1].index, y=df_temp_count.loc[1]['count'], name=\"workingday\" )\n",
    ")\n",
    "\n",
    "fig.update_layout({ \n",
    "        \"title\": { \"text\": \"<b>humidity & workingday VS count </b>\" },    \n",
    "        \"xaxis\": { \"showticklabels\":True, \"dtick\": \"1\" },\n",
    "        \"barmode\": \"stack\",\n",
    "        \"template\":'ggplot2'            \n",
    "})\n",
    "fig.show()"
   ]
  },
  {
   "cell_type": "code",
   "execution_count": null,
   "metadata": {},
   "outputs": [],
   "source": [
    "# 202502 업데이트: sum() 메서드 사용시 데이터프레임이 숫자형 데이터 컬럼으로만 구성되어야 함\n",
    "# 기존 코드: df_temp_count = df_all.groupby(['temp_category', 'windspeed_category']).sum()\n",
    "# 숫자형 데이터 컬럼 필터링 방법\n",
    "# select_dtypes(): 특정 데이터 타입의 열만 선택하는 pandas 메서드 (include=[np.number]: 숫자 타입의 열만 포함)\n",
    "df_numeric = df_all.select_dtypes(include=[np.number])  # numpy 라이브러리가 필요\n",
    "df_temp_count = df_numeric.groupby(['temp_category', 'windspeed_category']).sum()"
   ]
  },
  {
   "cell_type": "code",
   "execution_count": null,
   "metadata": {},
   "outputs": [],
   "source": [
    "df_temp_count['count']"
   ]
  },
  {
   "cell_type": "code",
   "execution_count": null,
   "metadata": {},
   "outputs": [],
   "source": [
    "df_temp_count.loc[0].index"
   ]
  },
  {
   "cell_type": "code",
   "execution_count": null,
   "metadata": {},
   "outputs": [],
   "source": [
    "df_temp_count.loc[0]['count']"
   ]
  },
  {
   "cell_type": "code",
   "execution_count": null,
   "metadata": {},
   "outputs": [],
   "source": [
    "fig = go.Figure()\n",
    "\n",
    "\n",
    "fig.add_trace(\n",
    "    go.Bar( x=df_temp_count.loc[0].index, y=df_temp_count.loc[0]['count'], name=\"temperature \" + str(0) )\n",
    ")\n",
    "fig.add_trace(\n",
    "    go.Bar( x=df_temp_count.loc[1].index, y=df_temp_count.loc[1]['count'], name=\"temperature \" + str(1) )\n",
    ")\n",
    "\n",
    "fig.update_layout({ \n",
    "        \"title\": { \"text\": \"<b>temperature & windspeed VS count </b>\" },    \n",
    "        \"xaxis\": { \"showticklabels\":True, \"dtick\": \"1\", \"title\": \"windspeed\" },\n",
    "        \"barmode\": \"stack\",\n",
    "        \"template\":'ggplot2'            \n",
    "})\n",
    "fig.show()"
   ]
  },
  {
   "cell_type": "code",
   "execution_count": null,
   "metadata": {},
   "outputs": [],
   "source": [
    "fig = go.Figure()\n",
    "\n",
    "for index in range(9):\n",
    "    fig.add_trace(\n",
    "        go.Bar( x=df_temp_count.loc[index].index, y=df_temp_count.loc[index]['count'], name=\"temperature \" + str(index) )\n",
    "    )\n",
    "\n",
    "fig.update_layout({ \n",
    "        \"title\": { \"text\": \"<b>temperature & windspeed VS count </b>\" },    \n",
    "        \"xaxis\": { \"showticklabels\":True, \"dtick\": \"1\", \"title\": \"windspeed\" },\n",
    "        \"barmode\": \"stack\",\n",
    "        \"template\":'ggplot2'            \n",
    "})\n",
    "fig.show()"
   ]
  },
  {
   "cell_type": "code",
   "execution_count": null,
   "metadata": {},
   "outputs": [],
   "source": [
    "# 202502 업데이트: sum() 메서드 사용시 데이터프레임이 숫자형 데이터 컬럼으로만 구성되어야 함\n",
    "# 기존 코드: df_temp_count = df_all.groupby(['temp_category', 'humidity_category']).sum()\n",
    "# 숫자형 데이터 컬럼 필터링 방법\n",
    "# select_dtypes(): 특정 데이터 타입의 열만 선택하는 pandas 메서드 (include=[np.number]: 숫자 타입의 열만 포함)\n",
    "df_numeric = df_all.select_dtypes(include=[np.number])  # numpy 라이브러리가 필요\n",
    "df_temp_count = df_numeric.groupby(['temp_category', 'humidity_category']).sum()"
   ]
  },
  {
   "cell_type": "code",
   "execution_count": null,
   "metadata": {},
   "outputs": [],
   "source": [
    "fig = go.Figure()\n",
    "\n",
    "for index in range(9):\n",
    "    fig.add_trace(\n",
    "        go.Bar( x=df_temp_count.loc[index].index, y=df_temp_count.loc[index]['count'], name=\"temperature \" + str(index) )\n",
    "    )\n",
    "\n",
    "fig.update_layout({ \n",
    "        \"title\": { \"text\": \"<b>temperature & humidity VS count </b>\" },    \n",
    "        \"xaxis\": { \"showticklabels\":True, \"dtick\": \"1\" },\n",
    "        \"barmode\": \"stack\",\n",
    "        \"template\":'ggplot2'            \n",
    "})\n",
    "fig.show()"
   ]
  },
  {
   "cell_type": "code",
   "execution_count": null,
   "metadata": {},
   "outputs": [],
   "source": [
    "df_train, df_test = split_df(df_all)"
   ]
  },
  {
   "cell_type": "code",
   "execution_count": null,
   "metadata": {},
   "outputs": [],
   "source": [
    "# 202502 업데이트: sum() 메서드 사용시 데이터프레임이 숫자형 데이터 컬럼으로만 구성되어야 함\n",
    "# 기존 코드: df_temp_count = df_train.groupby(['weather']).sum()\n",
    "# 숫자형 데이터 컬럼 필터링 방법\n",
    "# select_dtypes(): 특정 데이터 타입의 열만 선택하는 pandas 메서드 (include=[np.number]: 숫자 타입의 열만 포함)\n",
    "df_numeric = df_all.select_dtypes(include=[np.number])  # numpy 라이브러리가 필요\n",
    "df_temp_count = df_numeric.groupby(['weather']).sum()"
   ]
  },
  {
   "cell_type": "markdown",
   "metadata": {},
   "source": [
    "#### weather:\n",
    " - 1: Clear, Few clouds, Partly cloudy, Partly cloudy\n",
    " - 2: Mist + Cloudy, Mist + Broken clouds, Mist + Few clouds, Mist\n",
    " - 3: Light Snow, Light Rain + Thunderstorm + Scattered clouds, Light Rain + Scattered clouds\n",
    " - 4: Heavy Rain + Ice Pallets + Thunderstorm + Mist, Snow + Fog"
   ]
  },
  {
   "cell_type": "code",
   "execution_count": null,
   "metadata": {},
   "outputs": [],
   "source": [
    "fig = go.Figure()\n",
    "fig.add_trace(\n",
    "    go.Bar( x=df_temp_count.index, y=df_temp_count['count'], text=df_temp_count['count'], textposition='auto', texttemplate='%{text:.0f}' )\n",
    ")\n",
    "fig.update_layout({ \n",
    "        \"title\": { \"text\": \"<b>weather VS count </b>\" },    \n",
    "        \"xaxis\": { \"showticklabels\":True, \"dtick\": \"1\" },\n",
    "        \"template\":'ggplot2'            \n",
    "})\n",
    "fig.show()"
   ]
  },
  {
   "cell_type": "code",
   "execution_count": null,
   "metadata": {},
   "outputs": [],
   "source": [
    "# 202502 업데이트: sum() 메서드 사용시 데이터프레임이 숫자형 데이터 컬럼으로만 구성되어야 함\n",
    "# 기존 코드: df_temp_count = df_train.groupby(['season']).sum()\n",
    "# 숫자형 데이터 컬럼 필터링 방법\n",
    "# select_dtypes(): 특정 데이터 타입의 열만 선택하는 pandas 메서드 (include=[np.number]: 숫자 타입의 열만 포함)\n",
    "df_numeric = df_train.select_dtypes(include=[np.number])  # numpy 라이브러리가 필요\n",
    "df_temp_count = df_numeric.groupby(['season']).sum()"
   ]
  },
  {
   "cell_type": "code",
   "execution_count": null,
   "metadata": {},
   "outputs": [],
   "source": [
    "fig = go.Figure()\n",
    "fig.add_trace(\n",
    "    go.Bar( x=df_temp_count.index, y=df_temp_count['count'], text=df_temp_count['count'], textposition='auto', texttemplate='%{text:.0f}' )\n",
    ")\n",
    "fig.update_layout({ \n",
    "        \"title\": { \"text\": \"<b>season VS count </b>\" },    \n",
    "        \"xaxis\": { \"showticklabels\":True, \"dtick\": \"1\" },\n",
    "        \"template\":'ggplot2'            \n",
    "})\n",
    "fig.show()"
   ]
  },
  {
   "cell_type": "code",
   "execution_count": null,
   "metadata": {},
   "outputs": [],
   "source": [
    "# 202502 업데이트: sum() 메서드 사용시 데이터프레임이 숫자형 데이터 컬럼으로만 구성되어야 함\n",
    "# 기존 코드: df_temp_count = df_train.groupby(['temp_category', 'weather']).sum()\n",
    "# 숫자형 데이터 컬럼 필터링 방법\n",
    "# select_dtypes(): 특정 데이터 타입의 열만 선택하는 pandas 메서드 (include=[np.number]: 숫자 타입의 열만 포함)\n",
    "df_numeric = df_train.select_dtypes(include=[np.number])  # numpy 라이브러리가 필요\n",
    "df_temp_count = df_numeric.groupby(['temp_category', 'weather']).sum()"
   ]
  },
  {
   "cell_type": "code",
   "execution_count": null,
   "metadata": {},
   "outputs": [],
   "source": [
    "fig = go.Figure()\n",
    "\n",
    "for index in range(9):\n",
    "    fig.add_trace(\n",
    "        go.Bar( x=df_temp_count.loc[index].index, y=df_temp_count.loc[index]['count'], name=\"temp \" + str(index) )\n",
    "    )\n",
    "\n",
    "fig.update_layout({ \n",
    "        \"title\": { \"text\": \"<b>weather & temperature VS count </b>\" },    \n",
    "        \"xaxis\": { \"showticklabels\":True, \"dtick\": \"1\" },\n",
    "        \"barmode\": \"stack\",\n",
    "        \"template\":'ggplot2'            \n",
    "})\n",
    "fig.show()"
   ]
  },
  {
   "cell_type": "markdown",
   "metadata": {},
   "source": [
    "### 날짜 분석"
   ]
  },
  {
   "cell_type": "code",
   "execution_count": null,
   "metadata": {},
   "outputs": [],
   "source": [
    "df_all.head(5)"
   ]
  },
  {
   "cell_type": "code",
   "execution_count": null,
   "metadata": {
    "scrolled": true
   },
   "outputs": [],
   "source": [
    "df_all.tail(5)"
   ]
  },
  {
   "cell_type": "markdown",
   "metadata": {},
   "source": [
    "<div class=\"alert alert-block\" style=\"border: 2px solid #1976D2;background-color:#E3F2FD;padding:5px;font-size:0.9em;\">\n",
    "본 자료는 저작권법 제25조 2항에 의해 보호를 받습니다. 본 컨텐츠 및 컨텐츠 일부 문구등을 외부에 공개, 게시하지 말아주세요.<br>\n",
    "본 강의를 잘 정리하면, 데이터 분석과 데이터 과학(머신러닝, 인공지능) 모두 가능합니다!<br>\n",
    "<b><a href=\"https://school.fun-coding.org/\">잔재미코딩</a> 에서 본 강의 기반 최적화된 로드맵도 확인하실 수 있습니다</b>\n",
    "</div>"
   ]
  }
 ],
 "metadata": {
  "kernelspec": {
   "display_name": "Python 3 (ipykernel)",
   "language": "python",
   "name": "python3"
  },
  "language_info": {
   "codemirror_mode": {
    "name": "ipython",
    "version": 3
   },
   "file_extension": ".py",
   "mimetype": "text/x-python",
   "name": "python",
   "nbconvert_exporter": "python",
   "pygments_lexer": "ipython3",
   "version": "3.12.7"
  }
 },
 "nbformat": 4,
 "nbformat_minor": 4
}
