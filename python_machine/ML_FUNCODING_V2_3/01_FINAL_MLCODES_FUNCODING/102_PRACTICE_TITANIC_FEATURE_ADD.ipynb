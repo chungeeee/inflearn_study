{
 "cells": [
  {
   "cell_type": "markdown",
   "metadata": {},
   "source": [
    "<div class=\"alert alert-block\" style=\"border: 2px solid #1976D2;background-color:#E3F2FD;padding:5px;font-size:0.9em;\">\n",
    "본 자료는 저작권법 제25조 2항에 의해 보호를 받습니다. 본 컨텐츠 및 컨텐츠 일부 문구등을 외부에 공개, 게시하지 말아주세요.<br>\n",
    "본 강의를 잘 정리하면, 데이터 분석과 데이터 과학(머신러닝, 인공지능) 모두 가능합니다!<br>\n",
    "<b><a href=\"https://school.fun-coding.org/\">잔재미코딩</a> 에서 본 강의 기반 최적화된 로드맵도 확인하실 수 있습니다</b>\n",
    "</div>"
   ]
  },
  {
   "cell_type": "markdown",
   "metadata": {},
   "source": [
    "### Feature Engineering: Feature Addition Practice"
   ]
  },
  {
   "cell_type": "code",
   "execution_count": null,
   "metadata": {},
   "outputs": [],
   "source": [
    "import pickle\n",
    "import pandas as pd\n",
    "\n",
    "with open('titanic_step1_feature_change.pickle', 'rb') as pickle_filename:\n",
    "    df=pd.read_pickle(pickle_filename) "
   ]
  },
  {
   "cell_type": "markdown",
   "metadata": {},
   "source": [
    "### 1. 항목 추가\n",
    "- 성능 향상을 위해, 보다 의미있는 항목을 추가"
   ]
  },
  {
   "cell_type": "code",
   "execution_count": null,
   "metadata": {
    "scrolled": true
   },
   "outputs": [],
   "source": [
    "df.head()"
   ]
  },
  {
   "cell_type": "code",
   "execution_count": null,
   "metadata": {},
   "outputs": [],
   "source": [
    "# title_mapping: 이니셜과 그에 대응하는 숫자 코드 매핑 (x축 값과 눈금 라벨에 사용)\n",
    "title_mapping = {'Mr': 0, 'Miss': 1, 'Mrs': 2, 'Master': 3, 'Lady': 4, 'Don': 5, \n",
    "                 'Rev': 6, 'Dr': 7, 'Major': 8, 'Sir': 9, 'Col': 10, 'Capt': 11, \n",
    "                 'Jonkheer': 12}\n",
    "\n",
    "import plotly.express as px  # Plotly Express를 임포트하여 간편한 그래프 생성을 지원\n",
    "\n",
    "# 원본 데이터프레임(df)을 복사해 df_initial에 저장 (원본 데이터 보호 목적)\n",
    "df_initial = df.copy()\n",
    "\n",
    "# 'Survived' 컬럼의 값에 따라 'Outcome' 컬럼을 생성합니다.\n",
    "# 0은 'Dead', 1은 'Survived'로 매핑하여 생존 여부를 텍스트로 표현합니다.\n",
    "df_initial[\"Outcome\"] = df_initial[\"Survived\"].map({0: \"Dead\", 1: \"Survived\"})\n",
    "\n",
    "# Plotly Express의 histogram() 함수를 사용하여 히스토그램을 생성합니다.\n",
    "# x축은 'Initial' 컬럼 (이니셜 값), 색상은 'Outcome' (생존 여부)에 따라 구분합니다.\n",
    "# barmode는 'overlay'로 설정하여 Dead와 Survived의 막대가 겹쳐 보이도록 합니다.\n",
    "fig = px.histogram(\n",
    "    df_initial,                              # 데이터로 사용할 DataFrame\n",
    "    x=\"Initial\",                             # x축 값: 승객의 이니셜\n",
    "    color=\"Outcome\",                         # 막대 색상: 생존 여부 ('Dead' 또는 'Survived')\n",
    "    barmode=\"overlay\",                       # 막대 겹침 모드: overlay\n",
    "    title=\"Initial Distribution by Survival Status (Overlay)\"  # 그래프 제목\n",
    ")\n",
    "\n",
    "# x축 눈금(tick)을 title_mapping에 정의된 값으로 사용자 정의합니다.\n",
    "fig.update_layout(\n",
    "    xaxis=dict(\n",
    "        tickmode='array',                      # 'array' 모드: tickvals와 ticktext를 배열로 직접 지정\n",
    "        tickvals=list(title_mapping.values()), # 눈금 위치: title_mapping의 숫자 코드 목록\n",
    "        ticktext=list(title_mapping.keys())      # 눈금 라벨: title_mapping의 이니셜 목록\n",
    "    )\n",
    ")\n",
    "\n",
    "fig.show()  # 구성된 그래프를 출력하여 시각적으로 확인"
   ]
  },
  {
   "cell_type": "code",
   "execution_count": null,
   "metadata": {},
   "outputs": [],
   "source": [
    "import plotly.express as px  # Plotly Express 임포트\n",
    "\n",
    "# 1. 원본 df 데이터프레임을 수정하지 않기 위해 복사본을 만듭니다.\n",
    "#    이번에는 Pclass 분석을 위해 변수명을 df_pclass로 사용합니다.\n",
    "df_pclass = df.copy()\n",
    "\n",
    "# 2. \"Survived\" 컬럼의 값(0 또는 1)을 사용하여, 생존 여부를 \"Dead\"와 \"Survived\"로 표시하는\n",
    "#    새로운 컬럼 \"Outcome\"을 생성합니다.\n",
    "df_pclass[\"Outcome\"] = df_pclass[\"Survived\"].map({0: \"Dead\", 1: \"Survived\"})\n",
    "\n",
    "# 3. Plotly Express를 사용하여 Pclass 분포를 히스토그램으로 시각화합니다.\n",
    "#    여기서는 barmode를 'overlay'로 설정하여 Dead와 Survived 데이터가 겹쳐(overlaid) 표시되도록 합니다.\n",
    "fig = px.histogram(\n",
    "    df_pclass,                              # 데이터: Pclass 분석을 위한 df_pclass 복사본 사용\n",
    "    x=\"Pclass\",                             # x축: Pclass (객실 등급)\n",
    "    color=\"Outcome\",                        # 색상 구분: Outcome 컬럼 (\"Dead\" 또는 \"Survived\")\n",
    "    barmode=\"overlay\",                      # 막대그래프 모드: overlay (막대들이 겹쳐서 표시됨)\n",
    "    title=\"Pclass Distribution by Survival Status (Overlay)\"  # 그래프 제목\n",
    ")\n",
    "\n",
    "# 4. x축을 범주형으로 설정하고, 카테고리 순서를 명시적으로 [1, 2, 3]으로 지정합니다.\n",
    "# type 옵션은 x축 데이터의 종류를 지정하는 데 사용됩니다:\n",
    "# - \"linear\": 기본 숫자(연속형) 축으로, 데이터가 선형적으로 분포되어 있을 때 사용합니다.\n",
    "# - \"log\": 로그 스케일 축으로, 데이터가 지수적으로 분포되어 있을 때 사용합니다.\n",
    "# - \"date\": 날짜 또는 시간 데이터를 표시할 때 사용합니다.\n",
    "# - \"category\": 범주형 데이터를 표시할 때 사용합니다.\n",
    "#\n",
    "# 여기서는 Pclass와 같이 정해진 범주(1, 2, 3)를 표시하기 위해 \"category\"를 사용합니다.\n",
    "#\n",
    "# categoryorder와 categoryarray 옵션은 x축에 표시될 범주의 순서를 명시적으로 지정하는 데 사용됩니다:\n",
    "# - categoryorder=\"array\": 사용자 정의 배열(categoryarray)의 순서를 따릅니다.\n",
    "# - categoryarray=[1, 2, 3]: x축에 1, 2, 3 순서대로 범주를 표시합니다.\n",
    "fig.update_xaxes(\n",
    "    type=\"category\",          # x축 데이터를 범주형으로 처리하여, 중간 값 없이 정해진 범주만 표시\n",
    "    categoryorder=\"array\",    # 사용자 정의 배열 순서대로 범주를 정렬\n",
    "    categoryarray=[1, 2, 3]     # x축에 표시할 범주의 순서를 [1, 2, 3]으로 지정\n",
    ")\n",
    "\n",
    "# 5. 생성된 그래프를 출력합니다.\n",
    "fig.show()\n"
   ]
  },
  {
   "cell_type": "code",
   "execution_count": null,
   "metadata": {},
   "outputs": [],
   "source": [
    "# 참고: 이미 적용되어 있는 Age 값 재조정 코드 (학습 데이터에만 과도하게 맞출(overfitting) 수 있으므로 적절히 조정)\n",
    "# df.loc[df['Age'] <= 2, 'Age'] = 0\n",
    "# df.loc[(df['Age'] > 2) & (df['Age'] <= 15), 'Age'] = 1\n",
    "# df.loc[(df['Age'] > 15) & (df['Age'] <= 20), 'Age'] = 2\n",
    "# df.loc[(df['Age'] > 20) & (df['Age'] <= 33), 'Age'] = 3\n",
    "# df.loc[(df['Age'] > 33) & (df['Age'] <= 43), 'Age'] = 4\n",
    "# df.loc[(df['Age'] > 43) & (df['Age'] <= 60), 'Age'] = 5\n",
    "# df.loc[(df['Age'] > 60) & (df['Age'] <= 75), 'Age'] = 6\n",
    "# df.loc[df['Age'] > 75, 'Age'] = 7\n",
    "\n",
    "import plotly.express as px  # Plotly Express 임포트\n",
    "\n",
    "# 원본 DataFrame(df)를 복사하여 df_age에 저장 (원본 데이터 보호)\n",
    "df_age = df.copy()\n",
    "\n",
    "# 'Survived' 컬럼의 값에 따라 'Outcome' 컬럼 생성: 0은 'Dead', 1은 'Survived'로 매핑\n",
    "df_age[\"Outcome\"] = df_age[\"Survived\"].map({0: \"Dead\", 1: \"Survived\"})\n",
    "\n",
    "# Plotly Express의 histogram() 함수를 사용하여 Age 분포 히스토그램 생성\n",
    "fig = px.histogram(\n",
    "    df_age,                           # 데이터: Age 분석을 위한 DataFrame\n",
    "    x=\"Age\",                          # x축 값: 재조정된 Age 값 (0~7)\n",
    "    color=\"Outcome\",                  # 막대 색상: 생존 여부(Dead/Survived)로 구분\n",
    "    barmode=\"overlay\",                # 막대 표시 방식: overlay (막대들이 겹쳐서 표시)\n",
    "    title=\"Age Distribution by Survival Status (Overlay)\"  # 그래프 제목\n",
    ")\n",
    "\n",
    "# x축 눈금(tick) 설정:\n",
    "# tickmode 'array'를 사용하여 tickvals(실제 데이터 값)와 ticktext(표시할 라벨)를 직접 지정\n",
    "fig.update_layout(\n",
    "    xaxis=dict(\n",
    "        tickmode='array',                     # 'array' 모드: 사용자가 지정한 값만 눈금으로 사용\n",
    "        tickvals=[0, 1, 2, 3, 4, 5, 6, 7],      # 실제 Age 값 (0부터 7까지)\n",
    "        ticktext=[\"≤2\", \"2~15\", \"15~20\", \"20~33\", \"33~43\", \"43~60\", \"60~75\", \">75\"]  # 각 Age 구간에 해당하는 눈금 라벨\n",
    "    )\n",
    ")\n",
    "\n",
    "fig.show()  # 구성된 그래프 출력\n"
   ]
  },
  {
   "cell_type": "markdown",
   "metadata": {},
   "source": [
    "### High Chance feature 작성\n",
    "  - 등급이 높고, 아기이며, 여성일 경우는 살아남을 확률이 높음\n",
    "  - 귀족 여성일 경우 살아남을 확률이 높음\n",
    "  - 1등급인 여성은 살아남을 확률이 높음"
   ]
  },
  {
   "cell_type": "code",
   "execution_count": null,
   "metadata": {},
   "outputs": [],
   "source": [
    "df['HighChance'] = 0\n",
    "df.loc[(df['Pclass'] < 3) & (df['Age'] < 2) & (df['Sex'] == 1), 'HighChance'] = 6\n",
    "df.loc[(df['Initial'] == 4), 'HighChance'] = 5\n",
    "df.loc[(df['Pclass'] < 3) & (df['Age'] == 2) & (df['Sex'] == 1), 'HighChance'] = 4\n",
    "df.loc[(df['Pclass'] == 1) & (df['Initial'] == 1), 'HighChance'] = 3\n",
    "df.loc[(df['Pclass'] == 1) & (df['Initial'] == 2), 'HighChance'] = 2\n",
    "df.loc[(df['Age'] == 0), 'HighChance'] = 1"
   ]
  },
  {
   "cell_type": "code",
   "execution_count": null,
   "metadata": {},
   "outputs": [],
   "source": [
    "ntrain = 891\n",
    "train = df[:ntrain]\n",
    "train.head()"
   ]
  },
  {
   "cell_type": "code",
   "execution_count": null,
   "metadata": {},
   "outputs": [],
   "source": [
    "import plotly.express as px  # Plotly Express 임포트\n",
    "\n",
    "# 1. 원본 train 데이터프레임을 수정하지 않기 위해 복사본을 만듭니다.\n",
    "#    이번에는 HighChance 분석을 위해 변수명을 train_high로 사용합니다.\n",
    "train_high = train.copy()\n",
    "\n",
    "# 2. \"Survived\" 컬럼의 값(0 또는 1)을 사용하여, 생존 여부를 \"Dead\"와 \"Survived\"로 표시하는 새로운 컬럼 \"Outcome\"을 생성합니다.\n",
    "train_high[\"Outcome\"] = train_high[\"Survived\"].map({0: \"Dead\", 1: \"Survived\"})\n",
    "\n",
    "# 3. Plotly Express를 사용하여 HighChance 분포를 히스토그램으로 시각화합니다.\n",
    "#    여기서는 barmode를 'overlay'로 설정하여 Dead와 Survived 데이터가 겹쳐(overlaid) 표시되도록 합니다.\n",
    "#    nbins=50은 히스토그램 구간(bin)의 개수를 50개로 설정하는 옵션입니다.\n",
    "fig = px.histogram(\n",
    "    train_high,                                   # 데이터: HighChance 분석을 위한 train_high 복사본 사용\n",
    "    x=\"HighChance\",                               # x축: HighChance (HighChance 값)\n",
    "    color=\"Outcome\",                              # 색상 구분: Outcome 컬럼 (\"Dead\" 또는 \"Survived\")\n",
    "    barmode=\"overlay\",                            # 막대그래프 모드: overlay (막대들이 겹쳐서 표시됨)\n",
    "    title=\"HighChance Distribution by Survival Status (Overlay)\"  # 그래프 제목\n",
    ")\n",
    "\n",
    "# 4. 생성된 그래프를 출력합니다.\n",
    "fig.show()\n"
   ]
  },
  {
   "cell_type": "markdown",
   "metadata": {},
   "source": [
    "### Low Chance feature 작성\n",
    "  - 등급이 낮고, 청년 또는 노인인 남성일 경우, 살아남을 확률이 낮음"
   ]
  },
  {
   "cell_type": "code",
   "execution_count": null,
   "metadata": {},
   "outputs": [],
   "source": [
    "df['LowChance'] = 0\n",
    "df.loc[(df['Sex'] == 0) & (df['Family'] == 1), 'LowChance'] = 1\n",
    "df.loc[(df['Sex'] == 0) & (df['Family'] == 1) & (df['Pclass'] == 3), 'LowChance'] = 2"
   ]
  },
  {
   "cell_type": "code",
   "execution_count": null,
   "metadata": {},
   "outputs": [],
   "source": [
    "ntrain = 891\n",
    "train = df[:ntrain]\n",
    "train.head()"
   ]
  },
  {
   "cell_type": "code",
   "execution_count": null,
   "metadata": {},
   "outputs": [],
   "source": [
    "import plotly.express as px  # Plotly Express 임포트\n",
    "\n",
    "# 1. 원본 train 데이터프레임을 수정하지 않기 위해 복사본을 만듭니다.\n",
    "#    이번에는 LowChance 분석을 위해 변수명을 train_low로 사용합니다.\n",
    "train_low = train.copy()\n",
    "\n",
    "# 2. \"Survived\" 컬럼의 값(0 또는 1)을 사용하여, 생존 여부를 \"Dead\"와 \"Survived\"로 표시하는\n",
    "#    새로운 컬럼 \"Outcome\"을 생성합니다.\n",
    "train_low[\"Outcome\"] = train_low[\"Survived\"].map({0: \"Dead\", 1: \"Survived\"})\n",
    "\n",
    "# 3. Plotly Express를 사용하여 LowChance 분포를 히스토그램으로 시각화합니다.\n",
    "#    여기서는 barmode를 'overlay'로 설정하여 Dead와 Survived 데이터가 겹쳐(overlaid) 표시되도록 합니다.\n",
    "fig = px.histogram(\n",
    "    train_low,                                       # 데이터: LowChance 분석을 위한 train_low 복사본 사용\n",
    "    x=\"LowChance\",                                   # x축: LowChance 값\n",
    "    color=\"Outcome\",                                 # 색상 구분: Outcome 컬럼 (\"Dead\" 또는 \"Survived\")\n",
    "    barmode=\"overlay\",                               # 막대그래프 모드: overlay (막대들이 겹쳐서 표시됨)\n",
    "    title=\"LowChance Distribution by Survival Status (Overlay)\"  # 그래프 제목\n",
    ")\n",
    "\n",
    "# 4. 생성된 그래프를 출력합니다.\n",
    "fig.show()\n"
   ]
  },
  {
   "cell_type": "code",
   "execution_count": null,
   "metadata": {},
   "outputs": [],
   "source": [
    "import pickle\n",
    "with open('titanic_step2_feature_add.pickle', 'wb') as pickle_filename:\n",
    "    pickle.dump(df, pickle_filename)"
   ]
  },
  {
   "cell_type": "markdown",
   "metadata": {},
   "source": [
    "<div class=\"alert alert-block\" style=\"border: 2px solid #1976D2;background-color:#E3F2FD;padding:5px;font-size:0.9em;\">\n",
    "본 자료는 저작권법 제25조 2항에 의해 보호를 받습니다. 본 컨텐츠 및 컨텐츠 일부 문구등을 외부에 공개, 게시하지 말아주세요.<br>\n",
    "본 강의를 잘 정리하면, 데이터 분석과 데이터 과학(머신러닝, 인공지능) 모두 가능합니다!<br>\n",
    "<b><a href=\"https://school.fun-coding.org/\">잔재미코딩</a> 에서 본 강의 기반 최적화된 로드맵도 확인하실 수 있습니다</b>\n",
    "</div>"
   ]
  }
 ],
 "metadata": {
  "kernelspec": {
   "display_name": "Python 3 (ipykernel)",
   "language": "python",
   "name": "python3"
  },
  "language_info": {
   "codemirror_mode": {
    "name": "ipython",
    "version": 3
   },
   "file_extension": ".py",
   "mimetype": "text/x-python",
   "name": "python",
   "nbconvert_exporter": "python",
   "pygments_lexer": "ipython3",
   "version": "3.12.7"
  }
 },
 "nbformat": 4,
 "nbformat_minor": 4
}
