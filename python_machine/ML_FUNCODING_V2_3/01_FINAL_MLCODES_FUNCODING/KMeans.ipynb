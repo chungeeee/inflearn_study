{
 "cells": [
  {
   "cell_type": "markdown",
   "metadata": {},
   "source": [
    "<div class=\"alert alert-block\" style=\"border: 1px solid #455A64;background-color:#ECEFF1;\">\n",
    "본 자료 및 영상 컨텐츠는 저작권법 제25조 2항에 의해 보호를 받습니다. 본 컨텐츠 및 컨텐츠 일부 문구등을 외부에 공개, 게시하는 것을 금지합니다. 특히 자료에 대해서는 저작권법을 엄격하게 적용하겠습니다.\n",
    "</div>"
   ]
  },
  {
   "cell_type": "code",
   "execution_count": null,
   "metadata": {},
   "outputs": [],
   "source": [
    "from sklearn.datasets import make_blobs\n",
    "import plotly.graph_objects as go\n",
    "import numpy as np\n",
    "import random\n",
    "\n",
    "X, y_true = make_blobs(n_samples=300, centers=4, cluster_std=0.60, random_state=0)\n",
    "fig = go.Figure()\n",
    "fig.add_trace(go.Scatter(x=X[:, 0], y=X[:, 1], mode='markers', name='markers'))\n",
    "fig.show()"
   ]
  },
  {
   "cell_type": "code",
   "execution_count": null,
   "metadata": {},
   "outputs": [],
   "source": [
    "from sklearn.cluster import KMeans\n",
    "import plotly.graph_objects as go\n",
    "import numpy as np\n",
    "import random\n",
    "\n",
    "# 202402 업데이트: 최신 라이브러리에서는 n_init 기본값이 자동으로 auto 로 설정된다는 긴 경고 메세지가 나옵니다.\n",
    "# 긴 경고메세지가 불편하시다면, 다음 코드처럼 n_init 초기값을 설정해주면 됩니다.\n",
    "# 기존 코드\n",
    "# Kmean = KMeans(n_clusters=4)\n",
    "\n",
    "Kmean = KMeans(n_clusters=4, n_init=10)\n",
    "labels = Kmean.fit_predict(X)\n",
    "fig = go.Figure()\n",
    "fig.add_trace(go.Scatter(x=X[:, 0], y=X[:, 1], mode='markers', marker=dict(color=labels)))\n",
    "fig.show()"
   ]
  },
  {
   "cell_type": "code",
   "execution_count": null,
   "metadata": {},
   "outputs": [],
   "source": [
    "ks = range(1,10)\n",
    "inertias = list()\n",
    "\n",
    "for k in ks:\n",
    "    # 202402 업데이트: 최신 라이브러리에서는 n_init 기본값이 자동으로 auto 로 설정된다는 긴 경고 메세지가 나옵니다.\n",
    "    # 긴 경고메세지가 불편하시다면, 다음 코드처럼 n_init 초기값을 설정해주면 됩니다.\n",
    "    # 기존 코드\n",
    "    # model = KMeans(n_clusters=k)\n",
    "    model = KMeans(n_clusters=k, n_init=10)\n",
    "    model.fit_predict(X)\n",
    "    inertias.append(model.inertia_)\n",
    "\n",
    "import plotly.graph_objects as go\n",
    "fig = go.Figure()\n",
    "fig.add_trace(\n",
    "    go.Scatter(    \n",
    "        x=list(ks),\n",
    "        y=inertias,\n",
    "        mode='lines+markers'\n",
    "    )\n",
    ")\n",
    "fig.show()"
   ]
  },
  {
   "cell_type": "code",
   "execution_count": null,
   "metadata": {},
   "outputs": [],
   "source": [
    "from sklearn.cluster import KMeans\n",
    "import plotly.graph_objects as go\n",
    "import numpy as np\n",
    "import random\n",
    "\n",
    "# 202402 업데이트: 최신 라이브러리에서는 n_init 기본값이 자동으로 auto 로 설정된다는 긴 경고 메세지가 나옵니다.\n",
    "# 긴 경고메세지가 불편하시다면, 다음 코드처럼 n_init 초기값을 설정해주면 됩니다.\n",
    "# 기존 코드\n",
    "# Kmean = KMeans(n_clusters=4, init='k-means++')\n",
    "\n",
    "Kmean = KMeans(n_clusters=4, init='k-means++', n_init=10)\n",
    "labels = Kmean.fit_predict(X)\n",
    "fig = go.Figure()\n",
    "fig.add_trace(go.Scatter(x=X[:, 0], y=X[:, 1], mode='markers', marker=dict(color=labels)))\n",
    "fig.show()"
   ]
  },
  {
   "cell_type": "code",
   "execution_count": null,
   "metadata": {},
   "outputs": [],
   "source": [
    "from sklearn.cluster import AgglomerativeClustering\n",
    "from sklearn.datasets import make_moons\n",
    "\n",
    "X, y = make_moons(300, noise=0.05, random_state=1)\n",
    "labels = AgglomerativeClustering(n_clusters=2).fit_predict(X)\n",
    "fig = go.Figure()\n",
    "fig.add_trace(go.Scatter(x=X[:, 0], y=X[:, 1], mode='markers', marker=dict(color=labels)))\n",
    "fig.show()"
   ]
  },
  {
   "cell_type": "code",
   "execution_count": null,
   "metadata": {},
   "outputs": [],
   "source": [
    "from sklearn.cluster import DBSCAN\n",
    "from sklearn.datasets import make_moons\n",
    "\n",
    "X, y = make_moons(300, noise=0.05, random_state=1)\n",
    "labels = DBSCAN(eps=0.3, min_samples=5).fit_predict(X)\n",
    "fig = go.Figure()\n",
    "fig.add_trace(go.Scatter(x=X[:, 0], y=X[:, 1], mode='markers', marker=dict(color=labels)))\n",
    "fig.show()"
   ]
  },
  {
   "cell_type": "code",
   "execution_count": null,
   "metadata": {},
   "outputs": [],
   "source": [
    "from sklearn.datasets import make_moons\n",
    "\n",
    "X, y = make_moons(300, noise=0.02, random_state=1)\n",
    "\n",
    "# 202402 업데이트: 최신 라이브러리에서는 n_init 기본값이 자동으로 auto 로 설정된다는 긴 경고 메세지가 나옵니다.\n",
    "# 긴 경고메세지가 불편하시다면, 다음 코드처럼 n_init 초기값을 설정해주면 됩니다.\n",
    "# 기존 코드\n",
    "# labels = KMeans(2, random_state=0, init='k-means++').fit_predict(X)\n",
    "labels = KMeans(2, random_state=0, init='k-means++', n_init=10).fit_predict(X)\n",
    "fig = go.Figure()\n",
    "fig.add_trace(go.Scatter(x=X[:, 0], y=X[:, 1], mode='markers', marker=dict(color=labels)))\n",
    "fig.show()"
   ]
  },
  {
   "cell_type": "code",
   "execution_count": null,
   "metadata": {},
   "outputs": [],
   "source": [
    "import warnings\n",
    "warnings.filterwarnings('ignore')\n",
    "from sklearn.cluster import SpectralClustering\n",
    "from sklearn.datasets import make_moons\n",
    "\n",
    "X, y = make_moons(300, noise=0.02, random_state=1)\n",
    "model = SpectralClustering(n_clusters=2, affinity='nearest_neighbors', assign_labels='kmeans')\n",
    "labels = model.fit_predict(X)\n",
    "fig = go.Figure()\n",
    "fig.add_trace(go.Scatter(x=X[:, 0], y=X[:, 1], mode='markers', marker=dict(color=labels)))\n",
    "fig.show()"
   ]
  },
  {
   "cell_type": "markdown",
   "metadata": {},
   "source": [
    "<div class=\"alert alert-block\" style=\"border: 1px solid #455A64;background-color:#ECEFF1;\">\n",
    "본 자료 및 영상 컨텐츠는 저작권법 제25조 2항에 의해 보호를 받습니다. 본 컨텐츠 및 컨텐츠 일부 문구등을 외부에 공개, 게시하는 것을 금지합니다. 특히 자료에 대해서는 저작권법을 엄격하게 적용하겠습니다.\n",
    "</div>"
   ]
  }
 ],
 "metadata": {
  "kernelspec": {
   "display_name": "Python 3 (ipykernel)",
   "language": "python",
   "name": "python3"
  },
  "language_info": {
   "codemirror_mode": {
    "name": "ipython",
    "version": 3
   },
   "file_extension": ".py",
   "mimetype": "text/x-python",
   "name": "python",
   "nbconvert_exporter": "python",
   "pygments_lexer": "ipython3",
   "version": "3.12.7"
  }
 },
 "nbformat": 4,
 "nbformat_minor": 4
}
