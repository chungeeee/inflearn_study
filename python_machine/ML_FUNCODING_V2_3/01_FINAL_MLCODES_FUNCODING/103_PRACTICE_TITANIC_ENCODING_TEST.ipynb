{
 "cells": [
  {
   "cell_type": "markdown",
   "metadata": {},
   "source": [
    "<div class=\"alert alert-block\" style=\"border: 2px solid #1976D2;background-color:#E3F2FD;padding:5px;font-size:0.9em;\">\n",
    "본 자료는 저작권법 제25조 2항에 의해 보호를 받습니다. 본 컨텐츠 및 컨텐츠 일부 문구등을 외부에 공개, 게시하지 말아주세요.<br>\n",
    "본 강의를 잘 정리하면, 데이터 분석과 데이터 과학(머신러닝, 인공지능) 모두 가능합니다!<br>\n",
    "<b><a href=\"https://school.fun-coding.org/\">잔재미코딩</a> 에서 본 강의 기반 최적화된 로드맵도 확인하실 수 있습니다</b>\n",
    "</div>"
   ]
  },
  {
   "cell_type": "markdown",
   "metadata": {},
   "source": [
    "### 1. 원핫 인코딩 과 레이블 인코딩\n",
    "- 일반적인 머신러닝 알고리즘은 숫자값을 기반으로 예측하므로, 문자열 값들을 숫자값으로 변환(인코딩) 해야 함\n",
    "- 이를 인코딩이라고 하며, 기존의 feature engineering 에서도 이와 같은 과정을 진행한 것임\n",
    "- 이와 별도로, 기본적으로 머신러닝 인코딩 방법은 크게, 원핫 인코딩과 레이블 인코딩 방법이 많이 사용됨\n",
    "   - 레이블 인코딩: 문자열을 범주형 숫자값으로 변환\n",
    "      - 기존의 feature engineering 이 이와 같은 작업을 진행한 것임\n",
    "      - 일괄적으로 문자열을 레이블 인코딩해주는 함수도 사이킷런에서 제공함 ( LabelEncoder() )\n",
    "      - 선형 회귀와 같이 숫자값에 의미를 부여하는 경우에는 레이블 인코딩이 결과 예측을 왜곡할 수 있음\n",
    "         - 트리 관련 머신러닝 기법에서는 사용 가능\n",
    "   - 원핫 인코딩\n",
    "      - 각 문자열 범주마다 새로운 feature 를 만들고, 해당 범주에 해당하는 경우에만 1 값을 부여해주는 방식"
   ]
  },
  {
   "cell_type": "code",
   "execution_count": null,
   "metadata": {},
   "outputs": [],
   "source": [
    "import pickle\n",
    "import pandas as pd\n",
    "\n",
    "with open('titanic_step2_feature_add.pickle', 'rb') as pickle_filename:\n",
    "    df=pd.read_pickle(pickle_filename) "
   ]
  },
  {
   "cell_type": "code",
   "execution_count": null,
   "metadata": {},
   "outputs": [],
   "source": [
    "df.head()"
   ]
  },
  {
   "cell_type": "code",
   "execution_count": null,
   "metadata": {},
   "outputs": [],
   "source": [
    "df_label = df.copy()\n",
    "df_onehot = df.copy()\n",
    "ntrain = 891\n",
    "train = df[:ntrain]\n",
    "y_train = train[['Survived']].copy()"
   ]
  },
  {
   "cell_type": "code",
   "execution_count": null,
   "metadata": {},
   "outputs": [],
   "source": [
    "drop_features = ['PassengerId', 'Survived']\n",
    "df_label = df_label.drop(drop_features, axis=1).copy()\n",
    "df_label.head()"
   ]
  },
  {
   "cell_type": "code",
   "execution_count": null,
   "metadata": {},
   "outputs": [],
   "source": [
    "drop_features = ['PassengerId', 'Survived']\n",
    "df_onehot = df_onehot.drop(drop_features, axis=1).copy()\n",
    "df_onehot.head()"
   ]
  },
  {
   "cell_type": "markdown",
   "metadata": {},
   "source": [
    "### 레이블 인코딩\n",
    "- 레이블 인코딩 적용 방법을 이해하고, 일부 float 형 데이터를 변환하기 위해, 레이블 인코딩 적용"
   ]
  },
  {
   "cell_type": "code",
   "execution_count": null,
   "metadata": {},
   "outputs": [],
   "source": [
    "from sklearn.preprocessing import OneHotEncoder, LabelEncoder"
   ]
  },
  {
   "cell_type": "code",
   "execution_count": null,
   "metadata": {},
   "outputs": [],
   "source": [
    "df_label = df_label.apply(LabelEncoder().fit_transform)"
   ]
  },
  {
   "cell_type": "code",
   "execution_count": null,
   "metadata": {},
   "outputs": [],
   "source": [
    "df_label.head()"
   ]
  },
  {
   "cell_type": "markdown",
   "metadata": {},
   "source": [
    "### 원핫 인코딩\n",
    "- 원한 인코딩 적용 방법을 이해하고, 활용하기 위해, 원핫 인코딩 사용\n",
    "\n",
    "> 범주가 많을 경우, 머신 러닝 계산 시간이 오래 걸리고, 불필요한 feature 로 예측 성능이 오히려 안좋아짐\n",
    "> 각 feature 별 중요도를 계산해서, 예측 성능에 유의미한 feature 를 중심으로 하도록 만들어야 함"
   ]
  },
  {
   "cell_type": "code",
   "execution_count": null,
   "metadata": {},
   "outputs": [],
   "source": [
    "import pandas as pd\n",
    "\n",
    "onehot_cols = df_label.columns.tolist()\n",
    "\n",
    "# 202502 업데이트: \n",
    "# 최근 버전에서는 dtype = int 를 넣어주지 않으면, 디폴트로 True/False 로 표시됩니다.\n",
    "# 값 자체의 차이는 없지만, 화면에 표시되는 부분이 영상과 달라서, 당황하실 수 있어서, 다음과 같이 코드를 업데이트하였습니다.\n",
    "# df_onehot = pd.get_dummies(df_label, columns=onehot_cols)\n",
    "df_onehot = pd.get_dummies(df_label, columns=onehot_cols, dtype = int)\n",
    "\n",
    "df_onehot.head()"
   ]
  },
  {
   "cell_type": "markdown",
   "metadata": {},
   "source": [
    "### 원핫인코딩 데이터프레임 저장"
   ]
  },
  {
   "cell_type": "code",
   "execution_count": null,
   "metadata": {},
   "outputs": [],
   "source": [
    "import pickle\n",
    "with open('titanic_step3_feature_encoding.pickle', 'wb') as pickle_filename:\n",
    "    pickle.dump(df_onehot, pickle_filename)"
   ]
  },
  {
   "cell_type": "code",
   "execution_count": null,
   "metadata": {},
   "outputs": [],
   "source": [
    "import pickle\n",
    "with open('titanic_step3_feature_encoding_y.pickle', 'wb') as pickle_filename:\n",
    "    pickle.dump(y_train, pickle_filename)"
   ]
  },
  {
   "cell_type": "markdown",
   "metadata": {},
   "source": [
    "<div class=\"alert alert-block\" style=\"border: 2px solid #1976D2;background-color:#E3F2FD;padding:5px;font-size:0.9em;\">\n",
    "본 자료는 저작권법 제25조 2항에 의해 보호를 받습니다. 본 컨텐츠 및 컨텐츠 일부 문구등을 외부에 공개, 게시하지 말아주세요.<br>\n",
    "본 강의를 잘 정리하면, 데이터 분석과 데이터 과학(머신러닝, 인공지능) 모두 가능합니다!<br>\n",
    "<b><a href=\"https://school.fun-coding.org/\">잔재미코딩</a> 에서 본 강의 기반 최적화된 로드맵도 확인하실 수 있습니다</b>\n",
    "</div>"
   ]
  }
 ],
 "metadata": {
  "kernelspec": {
   "display_name": "Python 3 (ipykernel)",
   "language": "python",
   "name": "python3"
  },
  "language_info": {
   "codemirror_mode": {
    "name": "ipython",
    "version": 3
   },
   "file_extension": ".py",
   "mimetype": "text/x-python",
   "name": "python",
   "nbconvert_exporter": "python",
   "pygments_lexer": "ipython3",
   "version": "3.12.7"
  }
 },
 "nbformat": 4,
 "nbformat_minor": 4
}
