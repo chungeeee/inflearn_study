{
 "cells": [
  {
   "cell_type": "markdown",
   "metadata": {},
   "source": [
    "<div class=\"alert alert-block\" style=\"border: 1px solid #455A64;background-color:#ECEFF1;\">\n",
    "본 자료 및 영상 컨텐츠는 저작권법 제25조 2항에 의해 보호를 받습니다. 본 컨텐츠 및 컨텐츠 일부 문구등을 외부에 공개, 게시하는 것을 금지합니다. 특히 자료에 대해서는 저작권법을 엄격하게 적용하겠습니다.\n",
    "</div>"
   ]
  },
  {
   "cell_type": "markdown",
   "metadata": {},
   "source": [
    "### Mall Customers Clustering Analysis\n",
    "- https://www.kaggle.com/vjchoudhary7/customer-segmentation-tutorial-in-python"
   ]
  },
  {
   "cell_type": "code",
   "execution_count": null,
   "metadata": {
    "_kg_hide-input": true,
    "id": "fYCzevADcO5h"
   },
   "outputs": [],
   "source": [
    "import numpy as np\n",
    "import pandas as pd\n",
    "import missingno\n",
    "\n",
    "import plotly.graph_objects as go\n",
    "import plotly.offline as pyo # jupyter notebook 에서 보여지도록 설정하는 부분 (가끔 안나올 때, 이 명령을 하면 됨)\n",
    "pyo.init_notebook_mode()"
   ]
  },
  {
   "cell_type": "code",
   "execution_count": null,
   "metadata": {
    "_kg_hide-input": true,
    "id": "dnV20cUxcohO",
    "outputId": "82b49b9c-58b5-4be5-b585-165563ed304c"
   },
   "outputs": [],
   "source": [
    "df = pd.read_csv('mall/Mall_Customers.csv')\n",
    "df.head()"
   ]
  },
  {
   "cell_type": "code",
   "execution_count": null,
   "metadata": {},
   "outputs": [],
   "source": [
    "df.describe()"
   ]
  },
  {
   "cell_type": "code",
   "execution_count": null,
   "metadata": {
    "id": "QQVxAt8ZdeZB",
    "outputId": "189bcfaa-3bc6-4ad1-8659-178a6444c161"
   },
   "outputs": [],
   "source": [
    "missingno.matrix(df)"
   ]
  },
  {
   "cell_type": "markdown",
   "metadata": {},
   "source": [
    "### Customer Segmentation"
   ]
  },
  {
   "cell_type": "markdown",
   "metadata": {},
   "source": [
    "### 클러스터 갯수 분석"
   ]
  },
  {
   "cell_type": "code",
   "execution_count": null,
   "metadata": {},
   "outputs": [],
   "source": [
    "df_income_score = df[['Annual Income (k$)', 'Spending Score (1-100)']].copy()"
   ]
  },
  {
   "cell_type": "code",
   "execution_count": null,
   "metadata": {},
   "outputs": [],
   "source": [
    "from sklearn.cluster import KMeans\n",
    "import plotly.graph_objects as go\n",
    "\n",
    "ks = range(1,10)\n",
    "inertias = list()\n",
    "\n",
    "for k in ks:\n",
    "    # 202502 업데이트: 최신 라이브러리에서는 n_init 기본값이 자동으로 auto 로 설정된다는 긴 경고 메세지가 나옵니다.\n",
    "    # 긴 경고메세지가 불편하시다면, 다음 코드처럼 n_init 초기값을 설정해주면 됩니다.\n",
    "    # 기존 코드\n",
    "    # model = KMeans(n_clusters=k, init='k-means++', random_state=1)\n",
    "    model = KMeans(n_clusters=k, init='k-means++', n_init=10, random_state=1)\n",
    "    \n",
    "    model.fit_predict(df_income_score)\n",
    "    inertias.append(model.inertia_)\n",
    "\n",
    "fig = go.Figure()\n",
    "fig.add_trace(go.Scatter( x=list(ks), y=inertias, mode='lines+markers' ))\n",
    "fig.show()"
   ]
  },
  {
   "cell_type": "markdown",
   "metadata": {},
   "source": [
    "### K-Means++"
   ]
  },
  {
   "cell_type": "code",
   "execution_count": null,
   "metadata": {},
   "outputs": [],
   "source": [
    "# 202502 업데이트: 최신 라이브러리에서는 n_init 기본값이 자동으로 auto 로 설정된다는 긴 경고 메세지가 나옵니다.\n",
    "# 긴 경고메세지가 불편하시다면, 다음 코드처럼 n_init 초기값을 설정해주면 됩니다.\n",
    "# 기존 코드\n",
    "# model = KMeans(n_clusters=5, init='k-means++', random_state=1)\n",
    "model = KMeans(n_clusters=5, init='k-means++', n_init=10, random_state=1)\n",
    "y_means = model.fit_predict(df_income_score)\n",
    "\n",
    "fig = go.Figure()\n",
    "fig.add_trace(\n",
    "    go.Scatter(\n",
    "        x=df_income_score['Annual Income (k$)'], y=df_income_score['Spending Score (1-100)'], \n",
    "        mode='markers', marker=dict(color=y_means)\n",
    "    ))\n",
    "fig.show()"
   ]
  },
  {
   "cell_type": "markdown",
   "metadata": {},
   "source": [
    "### Hierarchical Clustering (계층적 군집)"
   ]
  },
  {
   "cell_type": "code",
   "execution_count": null,
   "metadata": {},
   "outputs": [],
   "source": [
    "from sklearn.cluster import AgglomerativeClustering\n",
    "\n",
    "model = AgglomerativeClustering(n_clusters=5)\n",
    "y_means = model.fit_predict(df_income_score)\n",
    "\n",
    "fig = go.Figure()\n",
    "fig.add_trace(\n",
    "    go.Scatter(\n",
    "        x=df_income_score['Annual Income (k$)'], y=df_income_score['Spending Score (1-100)'], \n",
    "        mode='markers', marker=dict(color=y_means)\n",
    "    ))\n",
    "fig.show()"
   ]
  },
  {
   "cell_type": "markdown",
   "metadata": {},
   "source": [
    "### DBSCAN (밀도 기반 군집화)"
   ]
  },
  {
   "cell_type": "code",
   "execution_count": null,
   "metadata": {},
   "outputs": [],
   "source": [
    "from sklearn.cluster import DBSCAN\n",
    "\n",
    "model = DBSCAN(eps=5, min_samples=5)\n",
    "y_means = model.fit_predict(df_income_score)\n",
    "\n",
    "fig = go.Figure()\n",
    "fig.add_trace(\n",
    "    go.Scatter(\n",
    "        x=df_income_score['Annual Income (k$)'], y=df_income_score['Spending Score (1-100)'], \n",
    "        mode='markers', marker=dict(color=y_means)\n",
    "    ))\n",
    "fig.show()"
   ]
  },
  {
   "cell_type": "markdown",
   "metadata": {},
   "source": [
    "### Spectral Clustering Algorithm"
   ]
  },
  {
   "cell_type": "code",
   "execution_count": null,
   "metadata": {},
   "outputs": [],
   "source": [
    "from sklearn.cluster import SpectralClustering\n",
    "import warnings\n",
    "warnings.filterwarnings('ignore')\n",
    "\n",
    "model = SpectralClustering(n_clusters=5, affinity='nearest_neighbors', assign_labels='kmeans')\n",
    "y_means = model.fit_predict(df_income_score)\n",
    "\n",
    "fig = go.Figure()\n",
    "fig.add_trace(\n",
    "    go.Scatter(\n",
    "        x=df_income_score['Annual Income (k$)'], y=df_income_score['Spending Score (1-100)'], \n",
    "        mode='markers', marker=dict(color=y_means)\n",
    "    ))\n",
    "fig.show()"
   ]
  },
  {
   "cell_type": "markdown",
   "metadata": {},
   "source": [
    "<div class=\"alert alert-block\" style=\"border: 1px solid #455A64;background-color:#ECEFF1;\">\n",
    "본 자료 및 영상 컨텐츠는 저작권법 제25조 2항에 의해 보호를 받습니다. 본 컨텐츠 및 컨텐츠 일부 문구등을 외부에 공개, 게시하는 것을 금지합니다. 특히 자료에 대해서는 저작권법을 엄격하게 적용하겠습니다.\n",
    "</div>"
   ]
  }
 ],
 "metadata": {
  "kernelspec": {
   "display_name": "Python 3 (ipykernel)",
   "language": "python",
   "name": "python3"
  },
  "language_info": {
   "codemirror_mode": {
    "name": "ipython",
    "version": 3
   },
   "file_extension": ".py",
   "mimetype": "text/x-python",
   "name": "python",
   "nbconvert_exporter": "python",
   "pygments_lexer": "ipython3",
   "version": "3.12.7"
  }
 },
 "nbformat": 4,
 "nbformat_minor": 4
}
